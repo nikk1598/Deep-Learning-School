{
  "nbformat": 4,
  "nbformat_minor": 0,
  "metadata": {
    "kernelspec": {
      "display_name": "Python 3",
      "language": "python",
      "name": "python3"
    },
    "language_info": {
      "codemirror_mode": {
        "name": "ipython",
        "version": 3
      },
      "file_extension": ".py",
      "mimetype": "text/x-python",
      "name": "python",
      "nbconvert_exporter": "python",
      "pygments_lexer": "ipython3",
      "version": "3.7.4"
    },
    "colab": {
      "provenance": [],
      "collapsed_sections": []
    },
    "widgets": {
      "application/vnd.jupyter.widget-state+json": {
        "9aedebfb23794ba1aa6d26fa4190f2f5": {
          "model_module": "@jupyter-widgets/controls",
          "model_name": "HBoxModel",
          "model_module_version": "1.5.0",
          "state": {
            "_dom_classes": [],
            "_model_module": "@jupyter-widgets/controls",
            "_model_module_version": "1.5.0",
            "_model_name": "HBoxModel",
            "_view_count": null,
            "_view_module": "@jupyter-widgets/controls",
            "_view_module_version": "1.5.0",
            "_view_name": "HBoxView",
            "box_style": "",
            "children": [
              "IPY_MODEL_e473dbf9be39465d860ab1313dd2f13c",
              "IPY_MODEL_a0ba9739eae940cebced16d4910bd3f0",
              "IPY_MODEL_11375c83136842b19b18686d7d8c346d"
            ],
            "layout": "IPY_MODEL_2cdf58e054e341e483e73184c144e73d"
          }
        },
        "e473dbf9be39465d860ab1313dd2f13c": {
          "model_module": "@jupyter-widgets/controls",
          "model_name": "HTMLModel",
          "model_module_version": "1.5.0",
          "state": {
            "_dom_classes": [],
            "_model_module": "@jupyter-widgets/controls",
            "_model_module_version": "1.5.0",
            "_model_name": "HTMLModel",
            "_view_count": null,
            "_view_module": "@jupyter-widgets/controls",
            "_view_module_version": "1.5.0",
            "_view_name": "HTMLView",
            "description": "",
            "description_tooltip": null,
            "layout": "IPY_MODEL_d7a46465812445d792271f16eb6248d0",
            "placeholder": "​",
            "style": "IPY_MODEL_b78c91c6cbe3406394216065e709314c",
            "value": "100%"
          }
        },
        "a0ba9739eae940cebced16d4910bd3f0": {
          "model_module": "@jupyter-widgets/controls",
          "model_name": "FloatProgressModel",
          "model_module_version": "1.5.0",
          "state": {
            "_dom_classes": [],
            "_model_module": "@jupyter-widgets/controls",
            "_model_module_version": "1.5.0",
            "_model_name": "FloatProgressModel",
            "_view_count": null,
            "_view_module": "@jupyter-widgets/controls",
            "_view_module_version": "1.5.0",
            "_view_name": "ProgressView",
            "bar_style": "success",
            "description": "",
            "description_tooltip": null,
            "layout": "IPY_MODEL_063638cdd5af4ce7845e270583cc8756",
            "max": 20,
            "min": 0,
            "orientation": "horizontal",
            "style": "IPY_MODEL_d8e77342ed6c4feb9c13442231209830",
            "value": 20
          }
        },
        "11375c83136842b19b18686d7d8c346d": {
          "model_module": "@jupyter-widgets/controls",
          "model_name": "HTMLModel",
          "model_module_version": "1.5.0",
          "state": {
            "_dom_classes": [],
            "_model_module": "@jupyter-widgets/controls",
            "_model_module_version": "1.5.0",
            "_model_name": "HTMLModel",
            "_view_count": null,
            "_view_module": "@jupyter-widgets/controls",
            "_view_module_version": "1.5.0",
            "_view_name": "HTMLView",
            "description": "",
            "description_tooltip": null,
            "layout": "IPY_MODEL_0f175d22bbd84b4995af93082808fb76",
            "placeholder": "​",
            "style": "IPY_MODEL_690362808a1140ffa15da80f6b62ed34",
            "value": " 20/20 [05:25&lt;00:00,  9.25s/it]"
          }
        },
        "2cdf58e054e341e483e73184c144e73d": {
          "model_module": "@jupyter-widgets/base",
          "model_name": "LayoutModel",
          "model_module_version": "1.2.0",
          "state": {
            "_model_module": "@jupyter-widgets/base",
            "_model_module_version": "1.2.0",
            "_model_name": "LayoutModel",
            "_view_count": null,
            "_view_module": "@jupyter-widgets/base",
            "_view_module_version": "1.2.0",
            "_view_name": "LayoutView",
            "align_content": null,
            "align_items": null,
            "align_self": null,
            "border": null,
            "bottom": null,
            "display": null,
            "flex": null,
            "flex_flow": null,
            "grid_area": null,
            "grid_auto_columns": null,
            "grid_auto_flow": null,
            "grid_auto_rows": null,
            "grid_column": null,
            "grid_gap": null,
            "grid_row": null,
            "grid_template_areas": null,
            "grid_template_columns": null,
            "grid_template_rows": null,
            "height": null,
            "justify_content": null,
            "justify_items": null,
            "left": null,
            "margin": null,
            "max_height": null,
            "max_width": null,
            "min_height": null,
            "min_width": null,
            "object_fit": null,
            "object_position": null,
            "order": null,
            "overflow": null,
            "overflow_x": null,
            "overflow_y": null,
            "padding": null,
            "right": null,
            "top": null,
            "visibility": null,
            "width": null
          }
        },
        "d7a46465812445d792271f16eb6248d0": {
          "model_module": "@jupyter-widgets/base",
          "model_name": "LayoutModel",
          "model_module_version": "1.2.0",
          "state": {
            "_model_module": "@jupyter-widgets/base",
            "_model_module_version": "1.2.0",
            "_model_name": "LayoutModel",
            "_view_count": null,
            "_view_module": "@jupyter-widgets/base",
            "_view_module_version": "1.2.0",
            "_view_name": "LayoutView",
            "align_content": null,
            "align_items": null,
            "align_self": null,
            "border": null,
            "bottom": null,
            "display": null,
            "flex": null,
            "flex_flow": null,
            "grid_area": null,
            "grid_auto_columns": null,
            "grid_auto_flow": null,
            "grid_auto_rows": null,
            "grid_column": null,
            "grid_gap": null,
            "grid_row": null,
            "grid_template_areas": null,
            "grid_template_columns": null,
            "grid_template_rows": null,
            "height": null,
            "justify_content": null,
            "justify_items": null,
            "left": null,
            "margin": null,
            "max_height": null,
            "max_width": null,
            "min_height": null,
            "min_width": null,
            "object_fit": null,
            "object_position": null,
            "order": null,
            "overflow": null,
            "overflow_x": null,
            "overflow_y": null,
            "padding": null,
            "right": null,
            "top": null,
            "visibility": null,
            "width": null
          }
        },
        "b78c91c6cbe3406394216065e709314c": {
          "model_module": "@jupyter-widgets/controls",
          "model_name": "DescriptionStyleModel",
          "model_module_version": "1.5.0",
          "state": {
            "_model_module": "@jupyter-widgets/controls",
            "_model_module_version": "1.5.0",
            "_model_name": "DescriptionStyleModel",
            "_view_count": null,
            "_view_module": "@jupyter-widgets/base",
            "_view_module_version": "1.2.0",
            "_view_name": "StyleView",
            "description_width": ""
          }
        },
        "063638cdd5af4ce7845e270583cc8756": {
          "model_module": "@jupyter-widgets/base",
          "model_name": "LayoutModel",
          "model_module_version": "1.2.0",
          "state": {
            "_model_module": "@jupyter-widgets/base",
            "_model_module_version": "1.2.0",
            "_model_name": "LayoutModel",
            "_view_count": null,
            "_view_module": "@jupyter-widgets/base",
            "_view_module_version": "1.2.0",
            "_view_name": "LayoutView",
            "align_content": null,
            "align_items": null,
            "align_self": null,
            "border": null,
            "bottom": null,
            "display": null,
            "flex": null,
            "flex_flow": null,
            "grid_area": null,
            "grid_auto_columns": null,
            "grid_auto_flow": null,
            "grid_auto_rows": null,
            "grid_column": null,
            "grid_gap": null,
            "grid_row": null,
            "grid_template_areas": null,
            "grid_template_columns": null,
            "grid_template_rows": null,
            "height": null,
            "justify_content": null,
            "justify_items": null,
            "left": null,
            "margin": null,
            "max_height": null,
            "max_width": null,
            "min_height": null,
            "min_width": null,
            "object_fit": null,
            "object_position": null,
            "order": null,
            "overflow": null,
            "overflow_x": null,
            "overflow_y": null,
            "padding": null,
            "right": null,
            "top": null,
            "visibility": null,
            "width": null
          }
        },
        "d8e77342ed6c4feb9c13442231209830": {
          "model_module": "@jupyter-widgets/controls",
          "model_name": "ProgressStyleModel",
          "model_module_version": "1.5.0",
          "state": {
            "_model_module": "@jupyter-widgets/controls",
            "_model_module_version": "1.5.0",
            "_model_name": "ProgressStyleModel",
            "_view_count": null,
            "_view_module": "@jupyter-widgets/base",
            "_view_module_version": "1.2.0",
            "_view_name": "StyleView",
            "bar_color": null,
            "description_width": ""
          }
        },
        "0f175d22bbd84b4995af93082808fb76": {
          "model_module": "@jupyter-widgets/base",
          "model_name": "LayoutModel",
          "model_module_version": "1.2.0",
          "state": {
            "_model_module": "@jupyter-widgets/base",
            "_model_module_version": "1.2.0",
            "_model_name": "LayoutModel",
            "_view_count": null,
            "_view_module": "@jupyter-widgets/base",
            "_view_module_version": "1.2.0",
            "_view_name": "LayoutView",
            "align_content": null,
            "align_items": null,
            "align_self": null,
            "border": null,
            "bottom": null,
            "display": null,
            "flex": null,
            "flex_flow": null,
            "grid_area": null,
            "grid_auto_columns": null,
            "grid_auto_flow": null,
            "grid_auto_rows": null,
            "grid_column": null,
            "grid_gap": null,
            "grid_row": null,
            "grid_template_areas": null,
            "grid_template_columns": null,
            "grid_template_rows": null,
            "height": null,
            "justify_content": null,
            "justify_items": null,
            "left": null,
            "margin": null,
            "max_height": null,
            "max_width": null,
            "min_height": null,
            "min_width": null,
            "object_fit": null,
            "object_position": null,
            "order": null,
            "overflow": null,
            "overflow_x": null,
            "overflow_y": null,
            "padding": null,
            "right": null,
            "top": null,
            "visibility": null,
            "width": null
          }
        },
        "690362808a1140ffa15da80f6b62ed34": {
          "model_module": "@jupyter-widgets/controls",
          "model_name": "DescriptionStyleModel",
          "model_module_version": "1.5.0",
          "state": {
            "_model_module": "@jupyter-widgets/controls",
            "_model_module_version": "1.5.0",
            "_model_name": "DescriptionStyleModel",
            "_view_count": null,
            "_view_module": "@jupyter-widgets/base",
            "_view_module_version": "1.2.0",
            "_view_name": "StyleView",
            "description_width": ""
          }
        },
        "cb1b2f0e4dc8470f9ced6cd4dfb5b128": {
          "model_module": "@jupyter-widgets/controls",
          "model_name": "HBoxModel",
          "model_module_version": "1.5.0",
          "state": {
            "_dom_classes": [],
            "_model_module": "@jupyter-widgets/controls",
            "_model_module_version": "1.5.0",
            "_model_name": "HBoxModel",
            "_view_count": null,
            "_view_module": "@jupyter-widgets/controls",
            "_view_module_version": "1.5.0",
            "_view_name": "HBoxView",
            "box_style": "",
            "children": [
              "IPY_MODEL_f6b37f26a89b4595919942c8312851d9",
              "IPY_MODEL_35d94bf387734ac68ef65e1b43360473",
              "IPY_MODEL_f103656594f148e8b0e7ae02235a3c85"
            ],
            "layout": "IPY_MODEL_12826db6103542d38a810086136c4faa"
          }
        },
        "f6b37f26a89b4595919942c8312851d9": {
          "model_module": "@jupyter-widgets/controls",
          "model_name": "HTMLModel",
          "model_module_version": "1.5.0",
          "state": {
            "_dom_classes": [],
            "_model_module": "@jupyter-widgets/controls",
            "_model_module_version": "1.5.0",
            "_model_name": "HTMLModel",
            "_view_count": null,
            "_view_module": "@jupyter-widgets/controls",
            "_view_module_version": "1.5.0",
            "_view_name": "HTMLView",
            "description": "",
            "description_tooltip": null,
            "layout": "IPY_MODEL_6d052cd068b74dea921f7331c3d56fbc",
            "placeholder": "​",
            "style": "IPY_MODEL_b1e6595a6a8a45d297efcfb31c2ced95",
            "value": "100%"
          }
        },
        "35d94bf387734ac68ef65e1b43360473": {
          "model_module": "@jupyter-widgets/controls",
          "model_name": "FloatProgressModel",
          "model_module_version": "1.5.0",
          "state": {
            "_dom_classes": [],
            "_model_module": "@jupyter-widgets/controls",
            "_model_module_version": "1.5.0",
            "_model_name": "FloatProgressModel",
            "_view_count": null,
            "_view_module": "@jupyter-widgets/controls",
            "_view_module_version": "1.5.0",
            "_view_name": "ProgressView",
            "bar_style": "success",
            "description": "",
            "description_tooltip": null,
            "layout": "IPY_MODEL_686369bd24f24e16a964719f3c5152e3",
            "max": 20,
            "min": 0,
            "orientation": "horizontal",
            "style": "IPY_MODEL_e20d403cd97e473595669fff829403c9",
            "value": 20
          }
        },
        "f103656594f148e8b0e7ae02235a3c85": {
          "model_module": "@jupyter-widgets/controls",
          "model_name": "HTMLModel",
          "model_module_version": "1.5.0",
          "state": {
            "_dom_classes": [],
            "_model_module": "@jupyter-widgets/controls",
            "_model_module_version": "1.5.0",
            "_model_name": "HTMLModel",
            "_view_count": null,
            "_view_module": "@jupyter-widgets/controls",
            "_view_module_version": "1.5.0",
            "_view_name": "HTMLView",
            "description": "",
            "description_tooltip": null,
            "layout": "IPY_MODEL_8f1e8de277bc4925831a5c9210e93dfc",
            "placeholder": "​",
            "style": "IPY_MODEL_809f77d2bc914ea8b568f8d8a819444b",
            "value": " 20/20 [06:55&lt;00:00, 28.60s/it]"
          }
        },
        "12826db6103542d38a810086136c4faa": {
          "model_module": "@jupyter-widgets/base",
          "model_name": "LayoutModel",
          "model_module_version": "1.2.0",
          "state": {
            "_model_module": "@jupyter-widgets/base",
            "_model_module_version": "1.2.0",
            "_model_name": "LayoutModel",
            "_view_count": null,
            "_view_module": "@jupyter-widgets/base",
            "_view_module_version": "1.2.0",
            "_view_name": "LayoutView",
            "align_content": null,
            "align_items": null,
            "align_self": null,
            "border": null,
            "bottom": null,
            "display": null,
            "flex": null,
            "flex_flow": null,
            "grid_area": null,
            "grid_auto_columns": null,
            "grid_auto_flow": null,
            "grid_auto_rows": null,
            "grid_column": null,
            "grid_gap": null,
            "grid_row": null,
            "grid_template_areas": null,
            "grid_template_columns": null,
            "grid_template_rows": null,
            "height": null,
            "justify_content": null,
            "justify_items": null,
            "left": null,
            "margin": null,
            "max_height": null,
            "max_width": null,
            "min_height": null,
            "min_width": null,
            "object_fit": null,
            "object_position": null,
            "order": null,
            "overflow": null,
            "overflow_x": null,
            "overflow_y": null,
            "padding": null,
            "right": null,
            "top": null,
            "visibility": null,
            "width": null
          }
        },
        "6d052cd068b74dea921f7331c3d56fbc": {
          "model_module": "@jupyter-widgets/base",
          "model_name": "LayoutModel",
          "model_module_version": "1.2.0",
          "state": {
            "_model_module": "@jupyter-widgets/base",
            "_model_module_version": "1.2.0",
            "_model_name": "LayoutModel",
            "_view_count": null,
            "_view_module": "@jupyter-widgets/base",
            "_view_module_version": "1.2.0",
            "_view_name": "LayoutView",
            "align_content": null,
            "align_items": null,
            "align_self": null,
            "border": null,
            "bottom": null,
            "display": null,
            "flex": null,
            "flex_flow": null,
            "grid_area": null,
            "grid_auto_columns": null,
            "grid_auto_flow": null,
            "grid_auto_rows": null,
            "grid_column": null,
            "grid_gap": null,
            "grid_row": null,
            "grid_template_areas": null,
            "grid_template_columns": null,
            "grid_template_rows": null,
            "height": null,
            "justify_content": null,
            "justify_items": null,
            "left": null,
            "margin": null,
            "max_height": null,
            "max_width": null,
            "min_height": null,
            "min_width": null,
            "object_fit": null,
            "object_position": null,
            "order": null,
            "overflow": null,
            "overflow_x": null,
            "overflow_y": null,
            "padding": null,
            "right": null,
            "top": null,
            "visibility": null,
            "width": null
          }
        },
        "b1e6595a6a8a45d297efcfb31c2ced95": {
          "model_module": "@jupyter-widgets/controls",
          "model_name": "DescriptionStyleModel",
          "model_module_version": "1.5.0",
          "state": {
            "_model_module": "@jupyter-widgets/controls",
            "_model_module_version": "1.5.0",
            "_model_name": "DescriptionStyleModel",
            "_view_count": null,
            "_view_module": "@jupyter-widgets/base",
            "_view_module_version": "1.2.0",
            "_view_name": "StyleView",
            "description_width": ""
          }
        },
        "686369bd24f24e16a964719f3c5152e3": {
          "model_module": "@jupyter-widgets/base",
          "model_name": "LayoutModel",
          "model_module_version": "1.2.0",
          "state": {
            "_model_module": "@jupyter-widgets/base",
            "_model_module_version": "1.2.0",
            "_model_name": "LayoutModel",
            "_view_count": null,
            "_view_module": "@jupyter-widgets/base",
            "_view_module_version": "1.2.0",
            "_view_name": "LayoutView",
            "align_content": null,
            "align_items": null,
            "align_self": null,
            "border": null,
            "bottom": null,
            "display": null,
            "flex": null,
            "flex_flow": null,
            "grid_area": null,
            "grid_auto_columns": null,
            "grid_auto_flow": null,
            "grid_auto_rows": null,
            "grid_column": null,
            "grid_gap": null,
            "grid_row": null,
            "grid_template_areas": null,
            "grid_template_columns": null,
            "grid_template_rows": null,
            "height": null,
            "justify_content": null,
            "justify_items": null,
            "left": null,
            "margin": null,
            "max_height": null,
            "max_width": null,
            "min_height": null,
            "min_width": null,
            "object_fit": null,
            "object_position": null,
            "order": null,
            "overflow": null,
            "overflow_x": null,
            "overflow_y": null,
            "padding": null,
            "right": null,
            "top": null,
            "visibility": null,
            "width": null
          }
        },
        "e20d403cd97e473595669fff829403c9": {
          "model_module": "@jupyter-widgets/controls",
          "model_name": "ProgressStyleModel",
          "model_module_version": "1.5.0",
          "state": {
            "_model_module": "@jupyter-widgets/controls",
            "_model_module_version": "1.5.0",
            "_model_name": "ProgressStyleModel",
            "_view_count": null,
            "_view_module": "@jupyter-widgets/base",
            "_view_module_version": "1.2.0",
            "_view_name": "StyleView",
            "bar_color": null,
            "description_width": ""
          }
        },
        "8f1e8de277bc4925831a5c9210e93dfc": {
          "model_module": "@jupyter-widgets/base",
          "model_name": "LayoutModel",
          "model_module_version": "1.2.0",
          "state": {
            "_model_module": "@jupyter-widgets/base",
            "_model_module_version": "1.2.0",
            "_model_name": "LayoutModel",
            "_view_count": null,
            "_view_module": "@jupyter-widgets/base",
            "_view_module_version": "1.2.0",
            "_view_name": "LayoutView",
            "align_content": null,
            "align_items": null,
            "align_self": null,
            "border": null,
            "bottom": null,
            "display": null,
            "flex": null,
            "flex_flow": null,
            "grid_area": null,
            "grid_auto_columns": null,
            "grid_auto_flow": null,
            "grid_auto_rows": null,
            "grid_column": null,
            "grid_gap": null,
            "grid_row": null,
            "grid_template_areas": null,
            "grid_template_columns": null,
            "grid_template_rows": null,
            "height": null,
            "justify_content": null,
            "justify_items": null,
            "left": null,
            "margin": null,
            "max_height": null,
            "max_width": null,
            "min_height": null,
            "min_width": null,
            "object_fit": null,
            "object_position": null,
            "order": null,
            "overflow": null,
            "overflow_x": null,
            "overflow_y": null,
            "padding": null,
            "right": null,
            "top": null,
            "visibility": null,
            "width": null
          }
        },
        "809f77d2bc914ea8b568f8d8a819444b": {
          "model_module": "@jupyter-widgets/controls",
          "model_name": "DescriptionStyleModel",
          "model_module_version": "1.5.0",
          "state": {
            "_model_module": "@jupyter-widgets/controls",
            "_model_module_version": "1.5.0",
            "_model_name": "DescriptionStyleModel",
            "_view_count": null,
            "_view_module": "@jupyter-widgets/base",
            "_view_module_version": "1.2.0",
            "_view_name": "StyleView",
            "description_width": ""
          }
        }
      }
    }
  },
  "cells": [
    {
      "cell_type": "markdown",
      "metadata": {
        "id": "TK7oX5qdEEYr"
      },
      "source": [
        "<p style=\"align: center;\"><img align=center src=\"https://s8.hostingkartinok.com/uploads/images/2018/08/308b49fcfbc619d629fe4604bceb67ac.jpg\" width=500 height=450/></p>\n",
        "\n",
        "<h3 style=\"text-align: center;\"><b>Школа глубокого обучения ФПМИ МФТИ</b></h3>\n",
        "\n",
        "<h3 style=\"text-align: center;\"><b>Домашнее задание. Продвинутый поток. Весна 2021</b></h3>\n",
        "\n",
        "Это домашнее задание будет посвящено полноценному решению задачи машинного обучения."
      ]
    },
    {
      "cell_type": "markdown",
      "metadata": {
        "id": "zlB-owfaEEYs"
      },
      "source": [
        "Есть две части этого домашнего задания: \n",
        "* Сделать полноценный отчет о вашей работе: как вы обработали данные, какие модели попробовали и какие результаты получились (максимум 10 баллов). За каждую выполненную часть будет начислено определенное количество баллов.\n",
        "* Лучшее решение отправить в соревнование на [kaggle](https://www.kaggle.com/c/advanced-dls-spring-2021/) (максимум 5 баллов). За прохождение определенного порогов будут начисляться баллы.\n",
        "\n",
        "\n",
        "**Обе части будут проверяться в формате peer-review. Т.е. вашу посылку на степик будут проверять несколько других студентов и аггрегация их оценок будет выставлена. В то же время вам тоже нужно будет проверить несколько других учеников.**\n",
        "\n",
        "**Пожалуйста, делайте свою работу чистой и понятной, чтобы облегчить проверку. Если у вас будут проблемы с решением или хочется совета, то пишите в наш чат в телеграме или в лс @runfme. Если вы захотите проаппелировать оценку, то пипшите в лс @runfme.**\n",
        "\n",
        "**Во всех пунктах указания это минимальный набор вещей, которые стоит сделать. Если вы можете сделать какой-то шаг лучше или добавить что-то свое - дерзайте!**"
      ]
    },
    {
      "cell_type": "markdown",
      "metadata": {
        "id": "Tu_JvqcBEN8Y"
      },
      "source": [
        "# Как проверять?\n",
        "\n",
        "Ставьте полный балл, если выполнены все рекомендации или сделано что-то более интересное и сложное. За каждый отсустствующий пункт из рекомендация снижайте 1 балл."
      ]
    },
    {
      "cell_type": "markdown",
      "metadata": {
        "id": "ninJ63mJEEYt"
      },
      "source": [
        "# Метрика\n",
        "\n",
        "Перед решением любой задачи важно понимать, как будет оцениваться ваше решение. В данном случае мы используем стандартную для задачи классификации метрику ROC-AUC. Ее можно вычислить используя только предсказанные вероятности и истинные классы без конкретного порога классификации + она раотает даже если классы в данных сильно несбалансированны (примеров одного класса в десятки раз больше примеров длугого). Именно поэтому она очень удобна для соревнований.\n",
        "\n",
        "Посчитать ее легко:\n"
      ]
    },
    {
      "cell_type": "code",
      "metadata": {
        "id": "SQIrka7yEEYu",
        "outputId": "d129eac1-518d-4c8f-9e35-7bcfe86e9332",
        "colab": {
          "base_uri": "https://localhost:8080/"
        }
      },
      "source": [
        "from sklearn.metrics import roc_auc_score\n",
        "\n",
        "y_true = [\n",
        "    0,\n",
        "    1,\n",
        "    1,\n",
        "    0,\n",
        "    1\n",
        "]\n",
        "\n",
        "y_predictions = [\n",
        "    0.1,\n",
        "    0.9,\n",
        "    0.4,\n",
        "    0.6,\n",
        "    0.61\n",
        "]\n",
        "\n",
        "roc_auc_score(y_true, y_predictions)"
      ],
      "execution_count": null,
      "outputs": [
        {
          "output_type": "execute_result",
          "data": {
            "text/plain": [
              "0.8333333333333333"
            ]
          },
          "metadata": {},
          "execution_count": 182
        }
      ]
    },
    {
      "cell_type": "markdown",
      "metadata": {
        "id": "IrDNNkNTEEYz"
      },
      "source": [
        "# Первая часть. Исследование"
      ]
    },
    {
      "cell_type": "code",
      "metadata": {
        "id": "lzLqEeZKEEYz",
        "colab": {
          "base_uri": "https://localhost:8080/"
        },
        "outputId": "707b9b89-ccf4-4e81-9142-34d0f71be984"
      },
      "source": [
        "!pip install catboost\n",
        "!pip install optuna\n",
        "\n",
        "import pandas as pd\n",
        "import numpy as np\n",
        "from matplotlib import pyplot as plt\n",
        "from matplotlib import rcParams\n",
        "import seaborn as sns\n",
        "import scipy.sparse\n",
        "from sklearn.metrics import mean_absolute_error, mean_squared_error, r2_score, mean_squared_log_error, \\\n",
        "    roc_auc_score, accuracy_score, precision_score, recall_score, f1_score, log_loss, auc, roc_curve\n",
        "from catboost import CatBoostClassifier\n",
        "import optuna\n",
        "\n",
        "import warnings\n",
        "warnings.filterwarnings(\"ignore\")"
      ],
      "execution_count": null,
      "outputs": [
        {
          "output_type": "stream",
          "name": "stdout",
          "text": [
            "Looking in indexes: https://pypi.org/simple, https://us-python.pkg.dev/colab-wheels/public/simple/\n",
            "Requirement already satisfied: catboost in /usr/local/lib/python3.7/dist-packages (1.1)\n",
            "Requirement already satisfied: graphviz in /usr/local/lib/python3.7/dist-packages (from catboost) (0.10.1)\n",
            "Requirement already satisfied: pandas>=0.24.0 in /usr/local/lib/python3.7/dist-packages (from catboost) (1.3.5)\n",
            "Requirement already satisfied: matplotlib in /usr/local/lib/python3.7/dist-packages (from catboost) (3.2.2)\n",
            "Requirement already satisfied: six in /usr/local/lib/python3.7/dist-packages (from catboost) (1.15.0)\n",
            "Requirement already satisfied: scipy in /usr/local/lib/python3.7/dist-packages (from catboost) (1.7.3)\n",
            "Requirement already satisfied: plotly in /usr/local/lib/python3.7/dist-packages (from catboost) (5.5.0)\n",
            "Requirement already satisfied: numpy>=1.16.0 in /usr/local/lib/python3.7/dist-packages (from catboost) (1.21.6)\n",
            "Requirement already satisfied: pytz>=2017.3 in /usr/local/lib/python3.7/dist-packages (from pandas>=0.24.0->catboost) (2022.5)\n",
            "Requirement already satisfied: python-dateutil>=2.7.3 in /usr/local/lib/python3.7/dist-packages (from pandas>=0.24.0->catboost) (2.8.2)\n",
            "Requirement already satisfied: kiwisolver>=1.0.1 in /usr/local/lib/python3.7/dist-packages (from matplotlib->catboost) (1.4.4)\n",
            "Requirement already satisfied: pyparsing!=2.0.4,!=2.1.2,!=2.1.6,>=2.0.1 in /usr/local/lib/python3.7/dist-packages (from matplotlib->catboost) (3.0.9)\n",
            "Requirement already satisfied: cycler>=0.10 in /usr/local/lib/python3.7/dist-packages (from matplotlib->catboost) (0.11.0)\n",
            "Requirement already satisfied: typing-extensions in /usr/local/lib/python3.7/dist-packages (from kiwisolver>=1.0.1->matplotlib->catboost) (4.1.1)\n",
            "Requirement already satisfied: tenacity>=6.2.0 in /usr/local/lib/python3.7/dist-packages (from plotly->catboost) (8.1.0)\n",
            "Looking in indexes: https://pypi.org/simple, https://us-python.pkg.dev/colab-wheels/public/simple/\n",
            "Collecting optuna\n",
            "  Downloading optuna-3.0.3-py3-none-any.whl (348 kB)\n",
            "\u001b[K     |████████████████████████████████| 348 kB 5.0 MB/s \n",
            "\u001b[?25hCollecting alembic>=1.5.0\n",
            "  Downloading alembic-1.8.1-py3-none-any.whl (209 kB)\n",
            "\u001b[K     |████████████████████████████████| 209 kB 62.5 MB/s \n",
            "\u001b[?25hRequirement already satisfied: tqdm in /usr/local/lib/python3.7/dist-packages (from optuna) (4.64.1)\n",
            "Requirement already satisfied: sqlalchemy>=1.3.0 in /usr/local/lib/python3.7/dist-packages (from optuna) (1.4.42)\n",
            "Requirement already satisfied: numpy in /usr/local/lib/python3.7/dist-packages (from optuna) (1.21.6)\n",
            "Requirement already satisfied: packaging>=20.0 in /usr/local/lib/python3.7/dist-packages (from optuna) (21.3)\n",
            "Requirement already satisfied: PyYAML in /usr/local/lib/python3.7/dist-packages (from optuna) (6.0)\n",
            "Collecting colorlog\n",
            "  Downloading colorlog-6.7.0-py2.py3-none-any.whl (11 kB)\n",
            "Requirement already satisfied: importlib-metadata<5.0.0 in /usr/local/lib/python3.7/dist-packages (from optuna) (4.13.0)\n",
            "Collecting cliff\n",
            "  Downloading cliff-3.10.1-py3-none-any.whl (81 kB)\n",
            "\u001b[K     |████████████████████████████████| 81 kB 8.3 MB/s \n",
            "\u001b[?25hRequirement already satisfied: scipy<1.9.0,>=1.7.0 in /usr/local/lib/python3.7/dist-packages (from optuna) (1.7.3)\n",
            "Collecting cmaes>=0.8.2\n",
            "  Downloading cmaes-0.8.2-py3-none-any.whl (15 kB)\n",
            "Collecting Mako\n",
            "  Downloading Mako-1.2.3-py3-none-any.whl (78 kB)\n",
            "\u001b[K     |████████████████████████████████| 78 kB 6.6 MB/s \n",
            "\u001b[?25hRequirement already satisfied: importlib-resources in /usr/local/lib/python3.7/dist-packages (from alembic>=1.5.0->optuna) (5.10.0)\n",
            "Requirement already satisfied: typing-extensions>=3.6.4 in /usr/local/lib/python3.7/dist-packages (from importlib-metadata<5.0.0->optuna) (4.1.1)\n",
            "Requirement already satisfied: zipp>=0.5 in /usr/local/lib/python3.7/dist-packages (from importlib-metadata<5.0.0->optuna) (3.9.0)\n",
            "Requirement already satisfied: pyparsing!=3.0.5,>=2.0.2 in /usr/local/lib/python3.7/dist-packages (from packaging>=20.0->optuna) (3.0.9)\n",
            "Requirement already satisfied: greenlet!=0.4.17 in /usr/local/lib/python3.7/dist-packages (from sqlalchemy>=1.3.0->optuna) (1.1.3.post0)\n",
            "Collecting cmd2>=1.0.0\n",
            "  Downloading cmd2-2.4.2-py3-none-any.whl (147 kB)\n",
            "\u001b[K     |████████████████████████████████| 147 kB 42.4 MB/s \n",
            "\u001b[?25hCollecting stevedore>=2.0.1\n",
            "  Downloading stevedore-3.5.2-py3-none-any.whl (50 kB)\n",
            "\u001b[K     |████████████████████████████████| 50 kB 6.4 MB/s \n",
            "\u001b[?25hRequirement already satisfied: PrettyTable>=0.7.2 in /usr/local/lib/python3.7/dist-packages (from cliff->optuna) (3.4.1)\n",
            "Collecting pbr!=2.1.0,>=2.0.0\n",
            "  Downloading pbr-5.11.0-py2.py3-none-any.whl (112 kB)\n",
            "\u001b[K     |████████████████████████████████| 112 kB 61.1 MB/s \n",
            "\u001b[?25hCollecting autopage>=0.4.0\n",
            "  Downloading autopage-0.5.1-py3-none-any.whl (29 kB)\n",
            "Requirement already satisfied: wcwidth>=0.1.7 in /usr/local/lib/python3.7/dist-packages (from cmd2>=1.0.0->cliff->optuna) (0.2.5)\n",
            "Requirement already satisfied: attrs>=16.3.0 in /usr/local/lib/python3.7/dist-packages (from cmd2>=1.0.0->cliff->optuna) (22.1.0)\n",
            "Collecting pyperclip>=1.6\n",
            "  Downloading pyperclip-1.8.2.tar.gz (20 kB)\n",
            "Requirement already satisfied: MarkupSafe>=0.9.2 in /usr/local/lib/python3.7/dist-packages (from Mako->alembic>=1.5.0->optuna) (2.0.1)\n",
            "Building wheels for collected packages: pyperclip\n",
            "  Building wheel for pyperclip (setup.py) ... \u001b[?25l\u001b[?25hdone\n",
            "  Created wheel for pyperclip: filename=pyperclip-1.8.2-py3-none-any.whl size=11137 sha256=8cda3db216578e4e79a31c2d7e182a1a94b771fd11c694f1228cb6963a12686a\n",
            "  Stored in directory: /root/.cache/pip/wheels/9f/18/84/8f69f8b08169c7bae2dde6bd7daf0c19fca8c8e500ee620a28\n",
            "Successfully built pyperclip\n",
            "Installing collected packages: pyperclip, pbr, stevedore, Mako, cmd2, autopage, colorlog, cmaes, cliff, alembic, optuna\n",
            "Successfully installed Mako-1.2.3 alembic-1.8.1 autopage-0.5.1 cliff-3.10.1 cmaes-0.8.2 cmd2-2.4.2 colorlog-6.7.0 optuna-3.0.3 pbr-5.11.0 pyperclip-1.8.2 stevedore-3.5.2\n"
          ]
        }
      ]
    },
    {
      "cell_type": "markdown",
      "metadata": {
        "id": "LOlxdURSEEY3"
      },
      "source": [
        "## Загрузка данных (2 балла)\n",
        "\n",
        "1) Посмотрите на случайные строчки. \n",
        "\n",
        "2) Посмотрите, есть ли в датасете незаполненные значения (nan'ы) с помощью data.isna() или data.info() и, если нужно, замените их на что-то. Будет хорошо, если вы построите табличку с количеством nan в каждой колонке."
      ]
    },
    {
      "cell_type": "markdown",
      "source": [
        "Подключим гугл-диск"
      ],
      "metadata": {
        "id": "p2dQFhudllEx"
      }
    },
    {
      "cell_type": "code",
      "source": [
        "from google.colab import drive\n",
        "drive.mount('/content/drive')"
      ],
      "metadata": {
        "colab": {
          "base_uri": "https://localhost:8080/"
        },
        "id": "YCzyXWOclbCe",
        "outputId": "34a2f882-14d9-4356-c2aa-2258156c8409"
      },
      "execution_count": null,
      "outputs": [
        {
          "output_type": "stream",
          "name": "stdout",
          "text": [
            "Drive already mounted at /content/drive; to attempt to forcibly remount, call drive.mount(\"/content/drive\", force_remount=True).\n"
          ]
        }
      ]
    },
    {
      "cell_type": "code",
      "metadata": {
        "id": "pw-Brue9EEY3"
      },
      "source": [
        "data = pd.read_csv('/content/drive/MyDrive/dls train.csv')"
      ],
      "execution_count": null,
      "outputs": []
    },
    {
      "cell_type": "code",
      "metadata": {
        "id": "KgnkkF5bEEY9"
      },
      "source": [
        "# Для вашего удобства списки с именами разных колонок\n",
        "\n",
        "# Числовые признаки\n",
        "num_cols = [\n",
        "    'ClientPeriod',\n",
        "    'MonthlySpending',\n",
        "    'TotalSpent'\n",
        "]\n",
        "\n",
        "# Категориальные признаки\n",
        "cat_cols = [\n",
        "    'Sex',\n",
        "    'IsSeniorCitizen',\n",
        "    'HasPartner',\n",
        "    'HasChild',\n",
        "    'HasPhoneService',\n",
        "    'HasMultiplePhoneNumbers',\n",
        "    'HasInternetService',\n",
        "    'HasOnlineSecurityService',\n",
        "    'HasOnlineBackup',\n",
        "    'HasDeviceProtection',\n",
        "    'HasTechSupportAccess',\n",
        "    'HasOnlineTV',\n",
        "    'HasMovieSubscription',\n",
        "    'HasContractPhone',\n",
        "    'IsBillingPaperless',\n",
        "    'PaymentMethod'\n",
        "]\n",
        "\n",
        "feature_cols = num_cols + cat_cols\n",
        "target_col = 'Churn'"
      ],
      "execution_count": null,
      "outputs": []
    },
    {
      "cell_type": "markdown",
      "source": [
        "Выведем 5 строк"
      ],
      "metadata": {
        "id": "6r_k4zgCm5lV"
      }
    },
    {
      "cell_type": "code",
      "metadata": {
        "id": "tHC6gWabEEZA",
        "colab": {
          "base_uri": "https://localhost:8080/",
          "height": 340
        },
        "outputId": "f261b3f8-3f81-4dc2-a1a5-c2abef289f33"
      },
      "source": [
        "data.head()"
      ],
      "execution_count": null,
      "outputs": [
        {
          "output_type": "execute_result",
          "data": {
            "text/plain": [
              "   ClientPeriod  MonthlySpending TotalSpent     Sex  IsSeniorCitizen  \\\n",
              "0            55            19.50    1026.35    Male                0   \n",
              "1            72            25.85     1872.2    Male                0   \n",
              "2             1            75.90       75.9    Male                0   \n",
              "3            32            79.30       2570  Female                1   \n",
              "4            60           115.25    6758.45  Female                0   \n",
              "\n",
              "  HasPartner HasChild HasPhoneService HasMultiplePhoneNumbers  \\\n",
              "0        Yes      Yes             Yes                      No   \n",
              "1        Yes       No             Yes                     Yes   \n",
              "2         No       No             Yes                      No   \n",
              "3        Yes       No             Yes                     Yes   \n",
              "4        Yes      Yes             Yes                     Yes   \n",
              "\n",
              "  HasInternetService HasOnlineSecurityService      HasOnlineBackup  \\\n",
              "0                 No      No internet service  No internet service   \n",
              "1                 No      No internet service  No internet service   \n",
              "2        Fiber optic                       No                   No   \n",
              "3        Fiber optic                       No                   No   \n",
              "4        Fiber optic                      Yes                  Yes   \n",
              "\n",
              "   HasDeviceProtection HasTechSupportAccess          HasOnlineTV  \\\n",
              "0  No internet service  No internet service  No internet service   \n",
              "1  No internet service  No internet service  No internet service   \n",
              "2                   No                  Yes                   No   \n",
              "3                  Yes                   No                   No   \n",
              "4                  Yes                  Yes                  Yes   \n",
              "\n",
              "  HasMovieSubscription HasContractPhone IsBillingPaperless  \\\n",
              "0  No internet service         One year                 No   \n",
              "1  No internet service         Two year                 No   \n",
              "2                   No   Month-to-month                Yes   \n",
              "3                   No   Month-to-month                 No   \n",
              "4                  Yes         Two year                 No   \n",
              "\n",
              "             PaymentMethod  Churn  \n",
              "0             Mailed check      0  \n",
              "1  Credit card (automatic)      0  \n",
              "2         Electronic check      1  \n",
              "3             Mailed check      0  \n",
              "4  Credit card (automatic)      0  "
            ],
            "text/html": [
              "\n",
              "  <div id=\"df-e0f916ae-0f38-480f-9761-72e605b31896\">\n",
              "    <div class=\"colab-df-container\">\n",
              "      <div>\n",
              "<style scoped>\n",
              "    .dataframe tbody tr th:only-of-type {\n",
              "        vertical-align: middle;\n",
              "    }\n",
              "\n",
              "    .dataframe tbody tr th {\n",
              "        vertical-align: top;\n",
              "    }\n",
              "\n",
              "    .dataframe thead th {\n",
              "        text-align: right;\n",
              "    }\n",
              "</style>\n",
              "<table border=\"1\" class=\"dataframe\">\n",
              "  <thead>\n",
              "    <tr style=\"text-align: right;\">\n",
              "      <th></th>\n",
              "      <th>ClientPeriod</th>\n",
              "      <th>MonthlySpending</th>\n",
              "      <th>TotalSpent</th>\n",
              "      <th>Sex</th>\n",
              "      <th>IsSeniorCitizen</th>\n",
              "      <th>HasPartner</th>\n",
              "      <th>HasChild</th>\n",
              "      <th>HasPhoneService</th>\n",
              "      <th>HasMultiplePhoneNumbers</th>\n",
              "      <th>HasInternetService</th>\n",
              "      <th>HasOnlineSecurityService</th>\n",
              "      <th>HasOnlineBackup</th>\n",
              "      <th>HasDeviceProtection</th>\n",
              "      <th>HasTechSupportAccess</th>\n",
              "      <th>HasOnlineTV</th>\n",
              "      <th>HasMovieSubscription</th>\n",
              "      <th>HasContractPhone</th>\n",
              "      <th>IsBillingPaperless</th>\n",
              "      <th>PaymentMethod</th>\n",
              "      <th>Churn</th>\n",
              "    </tr>\n",
              "  </thead>\n",
              "  <tbody>\n",
              "    <tr>\n",
              "      <th>0</th>\n",
              "      <td>55</td>\n",
              "      <td>19.50</td>\n",
              "      <td>1026.35</td>\n",
              "      <td>Male</td>\n",
              "      <td>0</td>\n",
              "      <td>Yes</td>\n",
              "      <td>Yes</td>\n",
              "      <td>Yes</td>\n",
              "      <td>No</td>\n",
              "      <td>No</td>\n",
              "      <td>No internet service</td>\n",
              "      <td>No internet service</td>\n",
              "      <td>No internet service</td>\n",
              "      <td>No internet service</td>\n",
              "      <td>No internet service</td>\n",
              "      <td>No internet service</td>\n",
              "      <td>One year</td>\n",
              "      <td>No</td>\n",
              "      <td>Mailed check</td>\n",
              "      <td>0</td>\n",
              "    </tr>\n",
              "    <tr>\n",
              "      <th>1</th>\n",
              "      <td>72</td>\n",
              "      <td>25.85</td>\n",
              "      <td>1872.2</td>\n",
              "      <td>Male</td>\n",
              "      <td>0</td>\n",
              "      <td>Yes</td>\n",
              "      <td>No</td>\n",
              "      <td>Yes</td>\n",
              "      <td>Yes</td>\n",
              "      <td>No</td>\n",
              "      <td>No internet service</td>\n",
              "      <td>No internet service</td>\n",
              "      <td>No internet service</td>\n",
              "      <td>No internet service</td>\n",
              "      <td>No internet service</td>\n",
              "      <td>No internet service</td>\n",
              "      <td>Two year</td>\n",
              "      <td>No</td>\n",
              "      <td>Credit card (automatic)</td>\n",
              "      <td>0</td>\n",
              "    </tr>\n",
              "    <tr>\n",
              "      <th>2</th>\n",
              "      <td>1</td>\n",
              "      <td>75.90</td>\n",
              "      <td>75.9</td>\n",
              "      <td>Male</td>\n",
              "      <td>0</td>\n",
              "      <td>No</td>\n",
              "      <td>No</td>\n",
              "      <td>Yes</td>\n",
              "      <td>No</td>\n",
              "      <td>Fiber optic</td>\n",
              "      <td>No</td>\n",
              "      <td>No</td>\n",
              "      <td>No</td>\n",
              "      <td>Yes</td>\n",
              "      <td>No</td>\n",
              "      <td>No</td>\n",
              "      <td>Month-to-month</td>\n",
              "      <td>Yes</td>\n",
              "      <td>Electronic check</td>\n",
              "      <td>1</td>\n",
              "    </tr>\n",
              "    <tr>\n",
              "      <th>3</th>\n",
              "      <td>32</td>\n",
              "      <td>79.30</td>\n",
              "      <td>2570</td>\n",
              "      <td>Female</td>\n",
              "      <td>1</td>\n",
              "      <td>Yes</td>\n",
              "      <td>No</td>\n",
              "      <td>Yes</td>\n",
              "      <td>Yes</td>\n",
              "      <td>Fiber optic</td>\n",
              "      <td>No</td>\n",
              "      <td>No</td>\n",
              "      <td>Yes</td>\n",
              "      <td>No</td>\n",
              "      <td>No</td>\n",
              "      <td>No</td>\n",
              "      <td>Month-to-month</td>\n",
              "      <td>No</td>\n",
              "      <td>Mailed check</td>\n",
              "      <td>0</td>\n",
              "    </tr>\n",
              "    <tr>\n",
              "      <th>4</th>\n",
              "      <td>60</td>\n",
              "      <td>115.25</td>\n",
              "      <td>6758.45</td>\n",
              "      <td>Female</td>\n",
              "      <td>0</td>\n",
              "      <td>Yes</td>\n",
              "      <td>Yes</td>\n",
              "      <td>Yes</td>\n",
              "      <td>Yes</td>\n",
              "      <td>Fiber optic</td>\n",
              "      <td>Yes</td>\n",
              "      <td>Yes</td>\n",
              "      <td>Yes</td>\n",
              "      <td>Yes</td>\n",
              "      <td>Yes</td>\n",
              "      <td>Yes</td>\n",
              "      <td>Two year</td>\n",
              "      <td>No</td>\n",
              "      <td>Credit card (automatic)</td>\n",
              "      <td>0</td>\n",
              "    </tr>\n",
              "  </tbody>\n",
              "</table>\n",
              "</div>\n",
              "      <button class=\"colab-df-convert\" onclick=\"convertToInteractive('df-e0f916ae-0f38-480f-9761-72e605b31896')\"\n",
              "              title=\"Convert this dataframe to an interactive table.\"\n",
              "              style=\"display:none;\">\n",
              "        \n",
              "  <svg xmlns=\"http://www.w3.org/2000/svg\" height=\"24px\"viewBox=\"0 0 24 24\"\n",
              "       width=\"24px\">\n",
              "    <path d=\"M0 0h24v24H0V0z\" fill=\"none\"/>\n",
              "    <path d=\"M18.56 5.44l.94 2.06.94-2.06 2.06-.94-2.06-.94-.94-2.06-.94 2.06-2.06.94zm-11 1L8.5 8.5l.94-2.06 2.06-.94-2.06-.94L8.5 2.5l-.94 2.06-2.06.94zm10 10l.94 2.06.94-2.06 2.06-.94-2.06-.94-.94-2.06-.94 2.06-2.06.94z\"/><path d=\"M17.41 7.96l-1.37-1.37c-.4-.4-.92-.59-1.43-.59-.52 0-1.04.2-1.43.59L10.3 9.45l-7.72 7.72c-.78.78-.78 2.05 0 2.83L4 21.41c.39.39.9.59 1.41.59.51 0 1.02-.2 1.41-.59l7.78-7.78 2.81-2.81c.8-.78.8-2.07 0-2.86zM5.41 20L4 18.59l7.72-7.72 1.47 1.35L5.41 20z\"/>\n",
              "  </svg>\n",
              "      </button>\n",
              "      \n",
              "  <style>\n",
              "    .colab-df-container {\n",
              "      display:flex;\n",
              "      flex-wrap:wrap;\n",
              "      gap: 12px;\n",
              "    }\n",
              "\n",
              "    .colab-df-convert {\n",
              "      background-color: #E8F0FE;\n",
              "      border: none;\n",
              "      border-radius: 50%;\n",
              "      cursor: pointer;\n",
              "      display: none;\n",
              "      fill: #1967D2;\n",
              "      height: 32px;\n",
              "      padding: 0 0 0 0;\n",
              "      width: 32px;\n",
              "    }\n",
              "\n",
              "    .colab-df-convert:hover {\n",
              "      background-color: #E2EBFA;\n",
              "      box-shadow: 0px 1px 2px rgba(60, 64, 67, 0.3), 0px 1px 3px 1px rgba(60, 64, 67, 0.15);\n",
              "      fill: #174EA6;\n",
              "    }\n",
              "\n",
              "    [theme=dark] .colab-df-convert {\n",
              "      background-color: #3B4455;\n",
              "      fill: #D2E3FC;\n",
              "    }\n",
              "\n",
              "    [theme=dark] .colab-df-convert:hover {\n",
              "      background-color: #434B5C;\n",
              "      box-shadow: 0px 1px 3px 1px rgba(0, 0, 0, 0.15);\n",
              "      filter: drop-shadow(0px 1px 2px rgba(0, 0, 0, 0.3));\n",
              "      fill: #FFFFFF;\n",
              "    }\n",
              "  </style>\n",
              "\n",
              "      <script>\n",
              "        const buttonEl =\n",
              "          document.querySelector('#df-e0f916ae-0f38-480f-9761-72e605b31896 button.colab-df-convert');\n",
              "        buttonEl.style.display =\n",
              "          google.colab.kernel.accessAllowed ? 'block' : 'none';\n",
              "\n",
              "        async function convertToInteractive(key) {\n",
              "          const element = document.querySelector('#df-e0f916ae-0f38-480f-9761-72e605b31896');\n",
              "          const dataTable =\n",
              "            await google.colab.kernel.invokeFunction('convertToInteractive',\n",
              "                                                     [key], {});\n",
              "          if (!dataTable) return;\n",
              "\n",
              "          const docLinkHtml = 'Like what you see? Visit the ' +\n",
              "            '<a target=\"_blank\" href=https://colab.research.google.com/notebooks/data_table.ipynb>data table notebook</a>'\n",
              "            + ' to learn more about interactive tables.';\n",
              "          element.innerHTML = '';\n",
              "          dataTable['output_type'] = 'display_data';\n",
              "          await google.colab.output.renderOutput(dataTable, element);\n",
              "          const docLink = document.createElement('div');\n",
              "          docLink.innerHTML = docLinkHtml;\n",
              "          element.appendChild(docLink);\n",
              "        }\n",
              "      </script>\n",
              "    </div>\n",
              "  </div>\n",
              "  "
            ]
          },
          "metadata": {},
          "execution_count": 187
        }
      ]
    },
    {
      "cell_type": "markdown",
      "source": [
        "Выведем полную информацию о датафрейме"
      ],
      "metadata": {
        "id": "Dq2KoIe4nAOA"
      }
    },
    {
      "cell_type": "code",
      "source": [
        "data.info()"
      ],
      "metadata": {
        "colab": {
          "base_uri": "https://localhost:8080/"
        },
        "id": "D3R1w_Pjm_1I",
        "outputId": "7e8352d0-1051-452d-dd48-3140f587fd3a"
      },
      "execution_count": null,
      "outputs": [
        {
          "output_type": "stream",
          "name": "stdout",
          "text": [
            "<class 'pandas.core.frame.DataFrame'>\n",
            "RangeIndex: 5282 entries, 0 to 5281\n",
            "Data columns (total 20 columns):\n",
            " #   Column                    Non-Null Count  Dtype  \n",
            "---  ------                    --------------  -----  \n",
            " 0   ClientPeriod              5282 non-null   int64  \n",
            " 1   MonthlySpending           5282 non-null   float64\n",
            " 2   TotalSpent                5282 non-null   object \n",
            " 3   Sex                       5282 non-null   object \n",
            " 4   IsSeniorCitizen           5282 non-null   int64  \n",
            " 5   HasPartner                5282 non-null   object \n",
            " 6   HasChild                  5282 non-null   object \n",
            " 7   HasPhoneService           5282 non-null   object \n",
            " 8   HasMultiplePhoneNumbers   5282 non-null   object \n",
            " 9   HasInternetService        5282 non-null   object \n",
            " 10  HasOnlineSecurityService  5282 non-null   object \n",
            " 11  HasOnlineBackup           5282 non-null   object \n",
            " 12  HasDeviceProtection       5282 non-null   object \n",
            " 13  HasTechSupportAccess      5282 non-null   object \n",
            " 14  HasOnlineTV               5282 non-null   object \n",
            " 15  HasMovieSubscription      5282 non-null   object \n",
            " 16  HasContractPhone          5282 non-null   object \n",
            " 17  IsBillingPaperless        5282 non-null   object \n",
            " 18  PaymentMethod             5282 non-null   object \n",
            " 19  Churn                     5282 non-null   int64  \n",
            "dtypes: float64(1), int64(3), object(16)\n",
            "memory usage: 825.4+ KB\n"
          ]
        }
      ]
    },
    {
      "cell_type": "markdown",
      "source": [
        "Видим, что пропущенные значение отсутствуют"
      ],
      "metadata": {
        "id": "N5bi3L88nbk9"
      }
    },
    {
      "cell_type": "markdown",
      "metadata": {
        "id": "dK370bPCEEZD"
      },
      "source": [
        "## Анализ данных (3 балла)\n",
        "\n",
        "1) Для численных призанков постройте гистограмму (*plt.hist(...)*) или boxplot (*plt.boxplot(...)*). Для категориальных посчитайте количество каждого значения для каждого признака. Для каждой колонки надо сделать *data.value_counts()* и построить bar диаграммы *plt.bar(...)* или круговые диаграммы *plt.pie(...)* (хорошо, елси вы сможете это сделать на одном гарфике с помощью *plt.subplots(...)*). \n",
        "\n",
        "2) Посмотрите на распределение целевой переменной и скажите, являются ли классы несбалансированными.\n",
        "\n",
        "3) (Если будет желание) Поиграйте с разными библиотеками для визуализации - *sns*, *pandas_visual_analysis*, etc.\n",
        "\n",
        "Второй пункт очень важен, потому что существуют задачи классификации с несбалансированными классами. Например, это может значить, что в датасете намного больше примеров 0 класса. В таких случаях нужно 1) не использовать accuracy как метрику 2) использовать методы борьбы с imbalanced dataset (обычно если датасет сильно несбалансирован, т.е. класса 1 в 20 раз меньше класса 0)."
      ]
    },
    {
      "cell_type": "markdown",
      "source": [
        "Определим функцию для подписи процентов"
      ],
      "metadata": {
        "id": "YSKOGBL2HBCn"
      }
    },
    {
      "cell_type": "code",
      "source": [
        "def plot_text(ax):\n",
        "    \"\"\"\n",
        "    Добавление подписи процентов на график barplot\n",
        "    :param ax: ось\n",
        "    :return: None\n",
        "    \"\"\"\n",
        "    for p in ax.patches:\n",
        "        percentage = '{:.1f}'.format(p.get_height())\n",
        "        ax.annotate(\n",
        "            percentage,  # текст\n",
        "            # координата xy\n",
        "            (p.get_x() + p.get_width() / 2., p.get_height()),\n",
        "            # центрирование\n",
        "            ha='center',\n",
        "            va='center',\n",
        "            xytext=(0, 10),\n",
        "            # точка смещения относительно координаты\n",
        "            textcoords='offset points',\n",
        "            fontsize=10)"
      ],
      "metadata": {
        "id": "wM-9vXWPG77n"
      },
      "execution_count": null,
      "outputs": []
    },
    {
      "cell_type": "markdown",
      "source": [
        "Признак TotalSpent имеет тип object. Сделаем небольшую предобработку и посмотрим, все ли значения можно привести к числовому типу (если да, то будет\n",
        "возвращён пустой список)"
      ],
      "metadata": {
        "id": "auGsHJOU8mJU"
      }
    },
    {
      "cell_type": "code",
      "source": [
        "nans = pd.to_numeric(data['TotalSpent'], errors=\"coerce\").isna().reset_index()\n",
        "true_nans = nans[nans['TotalSpent']==True]\n",
        "true_nans"
      ],
      "metadata": {
        "colab": {
          "base_uri": "https://localhost:8080/",
          "height": 332
        },
        "id": "TyOYgsMG8EV6",
        "outputId": "be3dbb4e-bb21-4e06-c8c0-52e96161f555"
      },
      "execution_count": null,
      "outputs": [
        {
          "output_type": "execute_result",
          "data": {
            "text/plain": [
              "      index  TotalSpent\n",
              "1048   1048        True\n",
              "1707   1707        True\n",
              "2543   2543        True\n",
              "3078   3078        True\n",
              "3697   3697        True\n",
              "4002   4002        True\n",
              "4326   4326        True\n",
              "4551   4551        True\n",
              "4598   4598        True"
            ],
            "text/html": [
              "\n",
              "  <div id=\"df-59a5b1c1-9523-432d-88ce-e18df1e528a6\">\n",
              "    <div class=\"colab-df-container\">\n",
              "      <div>\n",
              "<style scoped>\n",
              "    .dataframe tbody tr th:only-of-type {\n",
              "        vertical-align: middle;\n",
              "    }\n",
              "\n",
              "    .dataframe tbody tr th {\n",
              "        vertical-align: top;\n",
              "    }\n",
              "\n",
              "    .dataframe thead th {\n",
              "        text-align: right;\n",
              "    }\n",
              "</style>\n",
              "<table border=\"1\" class=\"dataframe\">\n",
              "  <thead>\n",
              "    <tr style=\"text-align: right;\">\n",
              "      <th></th>\n",
              "      <th>index</th>\n",
              "      <th>TotalSpent</th>\n",
              "    </tr>\n",
              "  </thead>\n",
              "  <tbody>\n",
              "    <tr>\n",
              "      <th>1048</th>\n",
              "      <td>1048</td>\n",
              "      <td>True</td>\n",
              "    </tr>\n",
              "    <tr>\n",
              "      <th>1707</th>\n",
              "      <td>1707</td>\n",
              "      <td>True</td>\n",
              "    </tr>\n",
              "    <tr>\n",
              "      <th>2543</th>\n",
              "      <td>2543</td>\n",
              "      <td>True</td>\n",
              "    </tr>\n",
              "    <tr>\n",
              "      <th>3078</th>\n",
              "      <td>3078</td>\n",
              "      <td>True</td>\n",
              "    </tr>\n",
              "    <tr>\n",
              "      <th>3697</th>\n",
              "      <td>3697</td>\n",
              "      <td>True</td>\n",
              "    </tr>\n",
              "    <tr>\n",
              "      <th>4002</th>\n",
              "      <td>4002</td>\n",
              "      <td>True</td>\n",
              "    </tr>\n",
              "    <tr>\n",
              "      <th>4326</th>\n",
              "      <td>4326</td>\n",
              "      <td>True</td>\n",
              "    </tr>\n",
              "    <tr>\n",
              "      <th>4551</th>\n",
              "      <td>4551</td>\n",
              "      <td>True</td>\n",
              "    </tr>\n",
              "    <tr>\n",
              "      <th>4598</th>\n",
              "      <td>4598</td>\n",
              "      <td>True</td>\n",
              "    </tr>\n",
              "  </tbody>\n",
              "</table>\n",
              "</div>\n",
              "      <button class=\"colab-df-convert\" onclick=\"convertToInteractive('df-59a5b1c1-9523-432d-88ce-e18df1e528a6')\"\n",
              "              title=\"Convert this dataframe to an interactive table.\"\n",
              "              style=\"display:none;\">\n",
              "        \n",
              "  <svg xmlns=\"http://www.w3.org/2000/svg\" height=\"24px\"viewBox=\"0 0 24 24\"\n",
              "       width=\"24px\">\n",
              "    <path d=\"M0 0h24v24H0V0z\" fill=\"none\"/>\n",
              "    <path d=\"M18.56 5.44l.94 2.06.94-2.06 2.06-.94-2.06-.94-.94-2.06-.94 2.06-2.06.94zm-11 1L8.5 8.5l.94-2.06 2.06-.94-2.06-.94L8.5 2.5l-.94 2.06-2.06.94zm10 10l.94 2.06.94-2.06 2.06-.94-2.06-.94-.94-2.06-.94 2.06-2.06.94z\"/><path d=\"M17.41 7.96l-1.37-1.37c-.4-.4-.92-.59-1.43-.59-.52 0-1.04.2-1.43.59L10.3 9.45l-7.72 7.72c-.78.78-.78 2.05 0 2.83L4 21.41c.39.39.9.59 1.41.59.51 0 1.02-.2 1.41-.59l7.78-7.78 2.81-2.81c.8-.78.8-2.07 0-2.86zM5.41 20L4 18.59l7.72-7.72 1.47 1.35L5.41 20z\"/>\n",
              "  </svg>\n",
              "      </button>\n",
              "      \n",
              "  <style>\n",
              "    .colab-df-container {\n",
              "      display:flex;\n",
              "      flex-wrap:wrap;\n",
              "      gap: 12px;\n",
              "    }\n",
              "\n",
              "    .colab-df-convert {\n",
              "      background-color: #E8F0FE;\n",
              "      border: none;\n",
              "      border-radius: 50%;\n",
              "      cursor: pointer;\n",
              "      display: none;\n",
              "      fill: #1967D2;\n",
              "      height: 32px;\n",
              "      padding: 0 0 0 0;\n",
              "      width: 32px;\n",
              "    }\n",
              "\n",
              "    .colab-df-convert:hover {\n",
              "      background-color: #E2EBFA;\n",
              "      box-shadow: 0px 1px 2px rgba(60, 64, 67, 0.3), 0px 1px 3px 1px rgba(60, 64, 67, 0.15);\n",
              "      fill: #174EA6;\n",
              "    }\n",
              "\n",
              "    [theme=dark] .colab-df-convert {\n",
              "      background-color: #3B4455;\n",
              "      fill: #D2E3FC;\n",
              "    }\n",
              "\n",
              "    [theme=dark] .colab-df-convert:hover {\n",
              "      background-color: #434B5C;\n",
              "      box-shadow: 0px 1px 3px 1px rgba(0, 0, 0, 0.15);\n",
              "      filter: drop-shadow(0px 1px 2px rgba(0, 0, 0, 0.3));\n",
              "      fill: #FFFFFF;\n",
              "    }\n",
              "  </style>\n",
              "\n",
              "      <script>\n",
              "        const buttonEl =\n",
              "          document.querySelector('#df-59a5b1c1-9523-432d-88ce-e18df1e528a6 button.colab-df-convert');\n",
              "        buttonEl.style.display =\n",
              "          google.colab.kernel.accessAllowed ? 'block' : 'none';\n",
              "\n",
              "        async function convertToInteractive(key) {\n",
              "          const element = document.querySelector('#df-59a5b1c1-9523-432d-88ce-e18df1e528a6');\n",
              "          const dataTable =\n",
              "            await google.colab.kernel.invokeFunction('convertToInteractive',\n",
              "                                                     [key], {});\n",
              "          if (!dataTable) return;\n",
              "\n",
              "          const docLinkHtml = 'Like what you see? Visit the ' +\n",
              "            '<a target=\"_blank\" href=https://colab.research.google.com/notebooks/data_table.ipynb>data table notebook</a>'\n",
              "            + ' to learn more about interactive tables.';\n",
              "          element.innerHTML = '';\n",
              "          dataTable['output_type'] = 'display_data';\n",
              "          await google.colab.output.renderOutput(dataTable, element);\n",
              "          const docLink = document.createElement('div');\n",
              "          docLink.innerHTML = docLinkHtml;\n",
              "          element.appendChild(docLink);\n",
              "        }\n",
              "      </script>\n",
              "    </div>\n",
              "  </div>\n",
              "  "
            ]
          },
          "metadata": {},
          "execution_count": 190
        }
      ]
    },
    {
      "cell_type": "markdown",
      "source": [
        "Видим, что нельзя. Посмотрим, что лежит в этих строках"
      ],
      "metadata": {
        "id": "s00Iaxxu-B1p"
      }
    },
    {
      "cell_type": "code",
      "source": [
        "for x in true_nans['index']:\n",
        "    print(\"\\'\" + data['TotalSpent'][x] + \"\\'\")"
      ],
      "metadata": {
        "colab": {
          "base_uri": "https://localhost:8080/"
        },
        "id": "J6p4Mc5d9AWq",
        "outputId": "c3c51e5a-96c6-4b22-9820-fd171f26c7e7"
      },
      "execution_count": null,
      "outputs": [
        {
          "output_type": "stream",
          "name": "stdout",
          "text": [
            "' '\n",
            "' '\n",
            "' '\n",
            "' '\n",
            "' '\n",
            "' '\n",
            "' '\n",
            "' '\n",
            "' '\n"
          ]
        }
      ]
    },
    {
      "cell_type": "markdown",
      "source": [
        "Видим, что это, по сути, пробельные символы. Для простоты просто удалим соответствующие строки"
      ],
      "metadata": {
        "id": "IC7ewgfU-tEt"
      }
    },
    {
      "cell_type": "code",
      "source": [
        "data = data.drop(true_nans['index'])\n",
        "data.shape"
      ],
      "metadata": {
        "colab": {
          "base_uri": "https://localhost:8080/"
        },
        "id": "opzVEGgi9AnB",
        "outputId": "7c011607-5b82-4392-8f3f-349dca3a54b3"
      },
      "execution_count": null,
      "outputs": [
        {
          "output_type": "execute_result",
          "data": {
            "text/plain": [
              "(5273, 20)"
            ]
          },
          "metadata": {},
          "execution_count": 192
        }
      ]
    },
    {
      "cell_type": "markdown",
      "source": [
        "Теперь приведём признак TotalSpent к типу float"
      ],
      "metadata": {
        "id": "8kb-wPxV89nT"
      }
    },
    {
      "cell_type": "code",
      "source": [
        "data['TotalSpent'] = data['TotalSpent'].astype(float)"
      ],
      "metadata": {
        "id": "CwfOcvnm4zK2"
      },
      "execution_count": null,
      "outputs": []
    },
    {
      "cell_type": "markdown",
      "source": [
        "Построим гистограммы для числовых признаков"
      ],
      "metadata": {
        "id": "jD48r_F7oeDE"
      }
    },
    {
      "cell_type": "code",
      "source": [
        "# Зададим параметры для подачи в subplots, предполагая, что хотим разместить все графики на одной строке\n",
        "num_of_cols = 3\n",
        "num_of_rows = 1\n",
        "\n",
        "_, axs = plt.subplots(num_of_rows, num_of_cols, figsize=(20, 10))\n",
        "\n",
        "for x, i in zip(num_cols, range(3)):\n",
        "    axs[i].hist(data[x], bins=8, color='indianred', edgecolor='black',\n",
        "                linewidth=1.2)\n",
        "    axs[i].set_title('Распределения числового признака ' + x)\n",
        "    axs[i].set_xlabel(x)\n",
        "    axs[i].set_ylabel('Value Counts')\n",
        "    plot_text(axs[i]);"
      ],
      "metadata": {
        "colab": {
          "base_uri": "https://localhost:8080/",
          "height": 621
        },
        "id": "pASTuTDbrmdN",
        "outputId": "5fc39387-053e-48c9-b69d-003d998a5247"
      },
      "execution_count": null,
      "outputs": [
        {
          "output_type": "display_data",
          "data": {
            "text/plain": [
              "<Figure size 1440x720 with 3 Axes>"
            ],
            "image/png": "[encoded data removed]"
          },
          "metadata": {
            "needs_background": "light"
          }
        }
      ]
    },
    {
      "cell_type": "markdown",
      "source": [
        "Построим столбчатые диаграммы для категориальных признаков"
      ],
      "metadata": {
        "id": "Vy8ZvMvUyh8G"
      }
    },
    {
      "cell_type": "code",
      "source": [
        "value_counts = data['Sex'].value_counts()\n",
        "value_counts.reset_index()"
      ],
      "metadata": {
        "colab": {
          "base_uri": "https://localhost:8080/",
          "height": 112
        },
        "id": "NojJ6nYbEsy3",
        "outputId": "cbb851bf-4476-41cc-fe4c-7c7f3efd1891"
      },
      "execution_count": null,
      "outputs": [
        {
          "output_type": "execute_result",
          "data": {
            "text/plain": [
              "    index   Sex\n",
              "0    Male  2651\n",
              "1  Female  2622"
            ],
            "text/html": [
              "\n",
              "  <div id=\"df-76ad9dc3-2afc-49ba-912a-f9df492aca0d\">\n",
              "    <div class=\"colab-df-container\">\n",
              "      <div>\n",
              "<style scoped>\n",
              "    .dataframe tbody tr th:only-of-type {\n",
              "        vertical-align: middle;\n",
              "    }\n",
              "\n",
              "    .dataframe tbody tr th {\n",
              "        vertical-align: top;\n",
              "    }\n",
              "\n",
              "    .dataframe thead th {\n",
              "        text-align: right;\n",
              "    }\n",
              "</style>\n",
              "<table border=\"1\" class=\"dataframe\">\n",
              "  <thead>\n",
              "    <tr style=\"text-align: right;\">\n",
              "      <th></th>\n",
              "      <th>index</th>\n",
              "      <th>Sex</th>\n",
              "    </tr>\n",
              "  </thead>\n",
              "  <tbody>\n",
              "    <tr>\n",
              "      <th>0</th>\n",
              "      <td>Male</td>\n",
              "      <td>2651</td>\n",
              "    </tr>\n",
              "    <tr>\n",
              "      <th>1</th>\n",
              "      <td>Female</td>\n",
              "      <td>2622</td>\n",
              "    </tr>\n",
              "  </tbody>\n",
              "</table>\n",
              "</div>\n",
              "      <button class=\"colab-df-convert\" onclick=\"convertToInteractive('df-76ad9dc3-2afc-49ba-912a-f9df492aca0d')\"\n",
              "              title=\"Convert this dataframe to an interactive table.\"\n",
              "              style=\"display:none;\">\n",
              "        \n",
              "  <svg xmlns=\"http://www.w3.org/2000/svg\" height=\"24px\"viewBox=\"0 0 24 24\"\n",
              "       width=\"24px\">\n",
              "    <path d=\"M0 0h24v24H0V0z\" fill=\"none\"/>\n",
              "    <path d=\"M18.56 5.44l.94 2.06.94-2.06 2.06-.94-2.06-.94-.94-2.06-.94 2.06-2.06.94zm-11 1L8.5 8.5l.94-2.06 2.06-.94-2.06-.94L8.5 2.5l-.94 2.06-2.06.94zm10 10l.94 2.06.94-2.06 2.06-.94-2.06-.94-.94-2.06-.94 2.06-2.06.94z\"/><path d=\"M17.41 7.96l-1.37-1.37c-.4-.4-.92-.59-1.43-.59-.52 0-1.04.2-1.43.59L10.3 9.45l-7.72 7.72c-.78.78-.78 2.05 0 2.83L4 21.41c.39.39.9.59 1.41.59.51 0 1.02-.2 1.41-.59l7.78-7.78 2.81-2.81c.8-.78.8-2.07 0-2.86zM5.41 20L4 18.59l7.72-7.72 1.47 1.35L5.41 20z\"/>\n",
              "  </svg>\n",
              "      </button>\n",
              "      \n",
              "  <style>\n",
              "    .colab-df-container {\n",
              "      display:flex;\n",
              "      flex-wrap:wrap;\n",
              "      gap: 12px;\n",
              "    }\n",
              "\n",
              "    .colab-df-convert {\n",
              "      background-color: #E8F0FE;\n",
              "      border: none;\n",
              "      border-radius: 50%;\n",
              "      cursor: pointer;\n",
              "      display: none;\n",
              "      fill: #1967D2;\n",
              "      height: 32px;\n",
              "      padding: 0 0 0 0;\n",
              "      width: 32px;\n",
              "    }\n",
              "\n",
              "    .colab-df-convert:hover {\n",
              "      background-color: #E2EBFA;\n",
              "      box-shadow: 0px 1px 2px rgba(60, 64, 67, 0.3), 0px 1px 3px 1px rgba(60, 64, 67, 0.15);\n",
              "      fill: #174EA6;\n",
              "    }\n",
              "\n",
              "    [theme=dark] .colab-df-convert {\n",
              "      background-color: #3B4455;\n",
              "      fill: #D2E3FC;\n",
              "    }\n",
              "\n",
              "    [theme=dark] .colab-df-convert:hover {\n",
              "      background-color: #434B5C;\n",
              "      box-shadow: 0px 1px 3px 1px rgba(0, 0, 0, 0.15);\n",
              "      filter: drop-shadow(0px 1px 2px rgba(0, 0, 0, 0.3));\n",
              "      fill: #FFFFFF;\n",
              "    }\n",
              "  </style>\n",
              "\n",
              "      <script>\n",
              "        const buttonEl =\n",
              "          document.querySelector('#df-76ad9dc3-2afc-49ba-912a-f9df492aca0d button.colab-df-convert');\n",
              "        buttonEl.style.display =\n",
              "          google.colab.kernel.accessAllowed ? 'block' : 'none';\n",
              "\n",
              "        async function convertToInteractive(key) {\n",
              "          const element = document.querySelector('#df-76ad9dc3-2afc-49ba-912a-f9df492aca0d');\n",
              "          const dataTable =\n",
              "            await google.colab.kernel.invokeFunction('convertToInteractive',\n",
              "                                                     [key], {});\n",
              "          if (!dataTable) return;\n",
              "\n",
              "          const docLinkHtml = 'Like what you see? Visit the ' +\n",
              "            '<a target=\"_blank\" href=https://colab.research.google.com/notebooks/data_table.ipynb>data table notebook</a>'\n",
              "            + ' to learn more about interactive tables.';\n",
              "          element.innerHTML = '';\n",
              "          dataTable['output_type'] = 'display_data';\n",
              "          await google.colab.output.renderOutput(dataTable, element);\n",
              "          const docLink = document.createElement('div');\n",
              "          docLink.innerHTML = docLinkHtml;\n",
              "          element.appendChild(docLink);\n",
              "        }\n",
              "      </script>\n",
              "    </div>\n",
              "  </div>\n",
              "  "
            ]
          },
          "metadata": {},
          "execution_count": 195
        }
      ]
    },
    {
      "cell_type": "code",
      "source": [
        "# Зададим параметры для подачи в subplots, предполагая, что хотим размещать по 3 графика на одной строке\n",
        "num_of_cols = 3\n",
        "num_of_rows = 6\n",
        "\n",
        "fig, axs = plt.subplots(num_of_rows, num_of_cols, figsize=(30, 60))\n",
        "plt.xticks(rotation=70)\n",
        "fig.delaxes(axs[5][1])\n",
        "fig.delaxes(axs[5][2])\n",
        "\n",
        "for i in range(num_of_rows):\n",
        "    for x, j in zip(cat_cols[i * num_of_cols:\n",
        "                             i * num_of_cols + num_of_cols], range(num_of_cols)):\n",
        "        # Датафрейм частот\n",
        "        value_counts = data[x].value_counts().reset_index()\n",
        "        axs[i][j].bar(value_counts['index'],\n",
        "                      value_counts[x],\n",
        "                      color='indianred',\n",
        "                      edgecolor='black',\n",
        "                      linewidth=1.2)\n",
        "        axs[i][j].set_title('Распределения категориального признака ' + x)\n",
        "        axs[i][j].set_xlabel(x)\n",
        "        axs[i][j].set_ylabel('Value Counts')\n",
        "        plot_text(axs[i][j]);"
      ],
      "metadata": {
        "colab": {
          "base_uri": "https://localhost:8080/",
          "height": 1000
        },
        "id": "sZ3_KjT2yg-9",
        "outputId": "4ea7cb09-0262-4867-ff59-166829171ffc"
      },
      "execution_count": null,
      "outputs": [
        {
          "output_type": "display_data",
          "data": {
            "text/plain": [
              "<Figure size 2160x4320 with 16 Axes>"
            ],
            "image/png": "[encoded data removed]"
          },
          "metadata": {
            "needs_background": "light"
          }
        }
      ]
    },
    {
      "cell_type": "markdown",
      "source": [
        "Построим график распределения целевой переменной Churn, чтобы оценить дисбаланс классов. Используем для этого библиотеку seaborn. Скорее всего, в будущем нам часто предстоит смотреть распределение target-признака, поэтому для удобства реализуем метод, который внутри себя будет производить все нужные действия"
      ],
      "metadata": {
        "id": "NlgznoD-GRpo"
      }
    },
    {
      "cell_type": "code",
      "source": [
        "def barplot(df: pd.DataFrame,\n",
        "            col: str,\n",
        "            title: str) -> None:\n",
        "    \"\"\"\n",
        "    Построение графика распределения признака в виде столбчатой диаграммы\n",
        "    :param df: датасет\n",
        "    :param col: столбец, для которого которого хотим смотреть распределение\n",
        "    :param title: заголовок\n",
        "    :return: None\n",
        "    \"\"\"\n",
        "    rcParams['figure.figsize'] = 10, 8\n",
        "    sns.color_palette(\"YlOrBr\", as_cmap=True)\n",
        "\n",
        "    # Датафрейм частот значений\n",
        "    norm_target = pd.DataFrame(df[col].value_counts(normalize=True).mul(100) \\\n",
        "                               .rename('percent')).reset_index()\n",
        "\n",
        "    ax = sns.barplot(x='index', y='percent', data=norm_target, palette=\"flare\")\n",
        "    plt.title(title)\n",
        "    plot_text(ax)"
      ],
      "metadata": {
        "id": "rcL6tGR8GQRA"
      },
      "execution_count": null,
      "outputs": []
    },
    {
      "cell_type": "markdown",
      "source": [
        "Отрисуем график"
      ],
      "metadata": {
        "id": "XGDKvF8eKAhd"
      }
    },
    {
      "cell_type": "code",
      "source": [
        "barplot(\n",
        "    df=data,\n",
        "    col='Churn',\n",
        "    title='Распределение классов в разрезе target в %')"
      ],
      "metadata": {
        "colab": {
          "base_uri": "https://localhost:8080/",
          "height": 513
        },
        "id": "e0CiBTE8GSLl",
        "outputId": "f0ff41eb-2980-40f7-d585-abdf3bd501ca"
      },
      "execution_count": null,
      "outputs": [
        {
          "output_type": "display_data",
          "data": {
            "text/plain": [
              "<Figure size 720x576 with 1 Axes>"
            ],
            "image/png": "[encoded data removed]"
          },
          "metadata": {
            "needs_background": "light"
          }
        }
      ]
    },
    {
      "cell_type": "markdown",
      "source": [
        "Видим, что есть дисбаланс"
      ],
      "metadata": {
        "id": "580riJZjLJjv"
      }
    },
    {
      "cell_type": "markdown",
      "metadata": {
        "id": "zg60u3QDEEZH"
      },
      "source": [
        "(Дополнительно) Если вы нашли какие-то ошибки в данных или выбросы, то можете их убрать. Тут можно поэксперементировать с обработкой данных как угодно, но не за баллы."
      ]
    },
    {
      "cell_type": "markdown",
      "source": [
        "Судя по графикам, выбросов нет. Строки с пустыми значениями мы уже убрали, остановимся пока на этом"
      ],
      "metadata": {
        "id": "F6mxaX2QLpOK"
      }
    },
    {
      "cell_type": "markdown",
      "metadata": {
        "id": "DviiJd8REEZK"
      },
      "source": [
        "## Применение линейных моделей (3 балла)\n",
        "\n",
        "1) Обработайте данные для того, чтобы к ним можно было применить LogisticRegression. Т.е. отнормируйте числовые признаки, а категориальные закодируйте с помощью one-hot-encoding'а. \n",
        "\n",
        "2) С помощью кроссвалидации или разделения на train/valid выборку протестируйте разные значения гиперпараметра C и выберите лучший (можно тестировать С=100, 10, 1, 0.1, 0.01, 0.001) по метрике ROC-AUC. \n",
        "\n",
        "Если вы разделяете на train/valid, то используйте LogisticRegressionCV. Он сам при вызове .fit() подберет параметр С. (не забудьте передать scroing='roc_auc', чтобы при кроссвалидации сравнивались значения этой метрики, и refit=True, чтобы при потом модель обучилась на всем датасете с лучшим параметром C). \n",
        "\n",
        "\n",
        "(более сложный вариант) Если вы будете использовать кроссвалидацию, то преобразования данных и LogisticRegression нужно соединить в один Pipeline с помощью make_pipeline, как это делалось во втором семинаре. Потом pipeline надо передать в GridSearchCV. Для one-hot-encoding'a можно испльзовать комбинацию LabelEncoder + OneHotEncoder (сначала превращаем строчки в числа, а потом числа првращаем в one-hot вектора.)"
      ]
    },
    {
      "cell_type": "code",
      "metadata": {
        "id": "xHCLDmwqEEZL"
      },
      "source": [
        "from sklearn.linear_model import LogisticRegression, LogisticRegressionCV\n",
        "from sklearn.model_selection import train_test_split, GridSearchCV, StratifiedKFold\n",
        "from sklearn.preprocessing import StandardScaler, RobustScaler, LabelEncoder, OneHotEncoder\n",
        "from sklearn.pipeline import make_pipeline"
      ],
      "execution_count": null,
      "outputs": []
    },
    {
      "cell_type": "markdown",
      "source": [
        "Отнормируем числовые признаки"
      ],
      "metadata": {
        "id": "7DyMO3s8UWRc"
      }
    },
    {
      "cell_type": "code",
      "metadata": {
        "id": "P2Yv3uYtEEZO",
        "colab": {
          "base_uri": "https://localhost:8080/",
          "height": 206
        },
        "outputId": "ea175170-7753-45bc-84b4-67a57b4e982e"
      },
      "source": [
        "scaler = StandardScaler()\n",
        "data_scaled = data.copy()\n",
        "data_scaled[num_cols] = scaler.fit_transform(data[num_cols])\n",
        "data_scaled[num_cols].head()"
      ],
      "execution_count": null,
      "outputs": [
        {
          "output_type": "execute_result",
          "data": {
            "text/plain": [
              "   ClientPeriod  MonthlySpending  TotalSpent\n",
              "0      0.919099        -1.506436   -0.557582\n",
              "1      1.612060        -1.295997   -0.184763\n",
              "2     -1.282072         0.362658   -0.976504\n",
              "3     -0.018437         0.475334    0.122800\n",
              "4      1.122911         1.666716    1.968909"
            ],
            "text/html": [
              "\n",
              "  <div id=\"df-829eed88-5c3d-4373-88bc-412fbdc43f67\">\n",
              "    <div class=\"colab-df-container\">\n",
              "      <div>\n",
              "<style scoped>\n",
              "    .dataframe tbody tr th:only-of-type {\n",
              "        vertical-align: middle;\n",
              "    }\n",
              "\n",
              "    .dataframe tbody tr th {\n",
              "        vertical-align: top;\n",
              "    }\n",
              "\n",
              "    .dataframe thead th {\n",
              "        text-align: right;\n",
              "    }\n",
              "</style>\n",
              "<table border=\"1\" class=\"dataframe\">\n",
              "  <thead>\n",
              "    <tr style=\"text-align: right;\">\n",
              "      <th></th>\n",
              "      <th>ClientPeriod</th>\n",
              "      <th>MonthlySpending</th>\n",
              "      <th>TotalSpent</th>\n",
              "    </tr>\n",
              "  </thead>\n",
              "  <tbody>\n",
              "    <tr>\n",
              "      <th>0</th>\n",
              "      <td>0.919099</td>\n",
              "      <td>-1.506436</td>\n",
              "      <td>-0.557582</td>\n",
              "    </tr>\n",
              "    <tr>\n",
              "      <th>1</th>\n",
              "      <td>1.612060</td>\n",
              "      <td>-1.295997</td>\n",
              "      <td>-0.184763</td>\n",
              "    </tr>\n",
              "    <tr>\n",
              "      <th>2</th>\n",
              "      <td>-1.282072</td>\n",
              "      <td>0.362658</td>\n",
              "      <td>-0.976504</td>\n",
              "    </tr>\n",
              "    <tr>\n",
              "      <th>3</th>\n",
              "      <td>-0.018437</td>\n",
              "      <td>0.475334</td>\n",
              "      <td>0.122800</td>\n",
              "    </tr>\n",
              "    <tr>\n",
              "      <th>4</th>\n",
              "      <td>1.122911</td>\n",
              "      <td>1.666716</td>\n",
              "      <td>1.968909</td>\n",
              "    </tr>\n",
              "  </tbody>\n",
              "</table>\n",
              "</div>\n",
              "      <button class=\"colab-df-convert\" onclick=\"convertToInteractive('df-829eed88-5c3d-4373-88bc-412fbdc43f67')\"\n",
              "              title=\"Convert this dataframe to an interactive table.\"\n",
              "              style=\"display:none;\">\n",
              "        \n",
              "  <svg xmlns=\"http://www.w3.org/2000/svg\" height=\"24px\"viewBox=\"0 0 24 24\"\n",
              "       width=\"24px\">\n",
              "    <path d=\"M0 0h24v24H0V0z\" fill=\"none\"/>\n",
              "    <path d=\"M18.56 5.44l.94 2.06.94-2.06 2.06-.94-2.06-.94-.94-2.06-.94 2.06-2.06.94zm-11 1L8.5 8.5l.94-2.06 2.06-.94-2.06-.94L8.5 2.5l-.94 2.06-2.06.94zm10 10l.94 2.06.94-2.06 2.06-.94-2.06-.94-.94-2.06-.94 2.06-2.06.94z\"/><path d=\"M17.41 7.96l-1.37-1.37c-.4-.4-.92-.59-1.43-.59-.52 0-1.04.2-1.43.59L10.3 9.45l-7.72 7.72c-.78.78-.78 2.05 0 2.83L4 21.41c.39.39.9.59 1.41.59.51 0 1.02-.2 1.41-.59l7.78-7.78 2.81-2.81c.8-.78.8-2.07 0-2.86zM5.41 20L4 18.59l7.72-7.72 1.47 1.35L5.41 20z\"/>\n",
              "  </svg>\n",
              "      </button>\n",
              "      \n",
              "  <style>\n",
              "    .colab-df-container {\n",
              "      display:flex;\n",
              "      flex-wrap:wrap;\n",
              "      gap: 12px;\n",
              "    }\n",
              "\n",
              "    .colab-df-convert {\n",
              "      background-color: #E8F0FE;\n",
              "      border: none;\n",
              "      border-radius: 50%;\n",
              "      cursor: pointer;\n",
              "      display: none;\n",
              "      fill: #1967D2;\n",
              "      height: 32px;\n",
              "      padding: 0 0 0 0;\n",
              "      width: 32px;\n",
              "    }\n",
              "\n",
              "    .colab-df-convert:hover {\n",
              "      background-color: #E2EBFA;\n",
              "      box-shadow: 0px 1px 2px rgba(60, 64, 67, 0.3), 0px 1px 3px 1px rgba(60, 64, 67, 0.15);\n",
              "      fill: #174EA6;\n",
              "    }\n",
              "\n",
              "    [theme=dark] .colab-df-convert {\n",
              "      background-color: #3B4455;\n",
              "      fill: #D2E3FC;\n",
              "    }\n",
              "\n",
              "    [theme=dark] .colab-df-convert:hover {\n",
              "      background-color: #434B5C;\n",
              "      box-shadow: 0px 1px 3px 1px rgba(0, 0, 0, 0.15);\n",
              "      filter: drop-shadow(0px 1px 2px rgba(0, 0, 0, 0.3));\n",
              "      fill: #FFFFFF;\n",
              "    }\n",
              "  </style>\n",
              "\n",
              "      <script>\n",
              "        const buttonEl =\n",
              "          document.querySelector('#df-829eed88-5c3d-4373-88bc-412fbdc43f67 button.colab-df-convert');\n",
              "        buttonEl.style.display =\n",
              "          google.colab.kernel.accessAllowed ? 'block' : 'none';\n",
              "\n",
              "        async function convertToInteractive(key) {\n",
              "          const element = document.querySelector('#df-829eed88-5c3d-4373-88bc-412fbdc43f67');\n",
              "          const dataTable =\n",
              "            await google.colab.kernel.invokeFunction('convertToInteractive',\n",
              "                                                     [key], {});\n",
              "          if (!dataTable) return;\n",
              "\n",
              "          const docLinkHtml = 'Like what you see? Visit the ' +\n",
              "            '<a target=\"_blank\" href=https://colab.research.google.com/notebooks/data_table.ipynb>data table notebook</a>'\n",
              "            + ' to learn more about interactive tables.';\n",
              "          element.innerHTML = '';\n",
              "          dataTable['output_type'] = 'display_data';\n",
              "          await google.colab.output.renderOutput(dataTable, element);\n",
              "          const docLink = document.createElement('div');\n",
              "          docLink.innerHTML = docLinkHtml;\n",
              "          element.appendChild(docLink);\n",
              "        }\n",
              "      </script>\n",
              "    </div>\n",
              "  </div>\n",
              "  "
            ]
          },
          "metadata": {},
          "execution_count": 200
        }
      ]
    },
    {
      "cell_type": "markdown",
      "source": [
        "Закодируем категориальные признаки"
      ],
      "metadata": {
        "id": "WDbf7MDfUaGC"
      }
    },
    {
      "cell_type": "code",
      "source": [
        "ohe = OneHotEncoder()\n",
        "array_hot_encoded = ohe.fit_transform(data_scaled[cat_cols])\n",
        "data_hot_encoded = pd.DataFrame.sparse.from_spmatrix(array_hot_encoded)\n",
        "data_hot_encoded\n",
        "data_other_cols = data_scaled.drop(columns=cat_cols)\n",
        "\n",
        "data_scaled_bin = pd.concat([data_hot_encoded, data_other_cols], axis=1).dropna()\n",
        "data_scaled_bin.head()"
      ],
      "metadata": {
        "colab": {
          "base_uri": "https://localhost:8080/",
          "height": 236
        },
        "id": "vLSmX8FRUcwU",
        "outputId": "3d677cfb-dfb2-46e0-c2f5-f5eabbfb5b58"
      },
      "execution_count": null,
      "outputs": [
        {
          "output_type": "execute_result",
          "data": {
            "text/plain": [
              "     0    1    2    3    4    5    6    7    8    9  ...   37   38   39   40  \\\n",
              "0  0.0  1.0  1.0  0.0  0.0  1.0  0.0  1.0  0.0  1.0  ...  1.0  0.0  0.0  0.0   \n",
              "1  0.0  1.0  1.0  0.0  0.0  1.0  1.0  0.0  0.0  1.0  ...  1.0  0.0  0.0  1.0   \n",
              "2  0.0  1.0  1.0  0.0  1.0  0.0  1.0  0.0  0.0  1.0  ...  0.0  1.0  0.0  0.0   \n",
              "3  1.0  0.0  0.0  1.0  0.0  1.0  1.0  0.0  0.0  1.0  ...  1.0  0.0  0.0  0.0   \n",
              "4  1.0  0.0  1.0  0.0  0.0  1.0  0.0  1.0  0.0  1.0  ...  1.0  0.0  0.0  1.0   \n",
              "\n",
              "    41   42  ClientPeriod  MonthlySpending  TotalSpent  Churn  \n",
              "0  0.0  1.0      0.919099        -1.506436   -0.557582    0.0  \n",
              "1  0.0  0.0      1.612060        -1.295997   -0.184763    0.0  \n",
              "2  1.0  0.0     -1.282072         0.362658   -0.976504    1.0  \n",
              "3  0.0  1.0     -0.018437         0.475334    0.122800    0.0  \n",
              "4  0.0  0.0      1.122911         1.666716    1.968909    0.0  \n",
              "\n",
              "[5 rows x 47 columns]"
            ],
            "text/html": [
              "\n",
              "  <div id=\"df-b71018b1-5538-4f01-ad4a-b192dee8eb98\">\n",
              "    <div class=\"colab-df-container\">\n",
              "      <div>\n",
              "<style scoped>\n",
              "    .dataframe tbody tr th:only-of-type {\n",
              "        vertical-align: middle;\n",
              "    }\n",
              "\n",
              "    .dataframe tbody tr th {\n",
              "        vertical-align: top;\n",
              "    }\n",
              "\n",
              "    .dataframe thead th {\n",
              "        text-align: right;\n",
              "    }\n",
              "</style>\n",
              "<table border=\"1\" class=\"dataframe\">\n",
              "  <thead>\n",
              "    <tr style=\"text-align: right;\">\n",
              "      <th></th>\n",
              "      <th>0</th>\n",
              "      <th>1</th>\n",
              "      <th>2</th>\n",
              "      <th>3</th>\n",
              "      <th>4</th>\n",
              "      <th>5</th>\n",
              "      <th>6</th>\n",
              "      <th>7</th>\n",
              "      <th>8</th>\n",
              "      <th>9</th>\n",
              "      <th>...</th>\n",
              "      <th>37</th>\n",
              "      <th>38</th>\n",
              "      <th>39</th>\n",
              "      <th>40</th>\n",
              "      <th>41</th>\n",
              "      <th>42</th>\n",
              "      <th>ClientPeriod</th>\n",
              "      <th>MonthlySpending</th>\n",
              "      <th>TotalSpent</th>\n",
              "      <th>Churn</th>\n",
              "    </tr>\n",
              "  </thead>\n",
              "  <tbody>\n",
              "    <tr>\n",
              "      <th>0</th>\n",
              "      <td>0.0</td>\n",
              "      <td>1.0</td>\n",
              "      <td>1.0</td>\n",
              "      <td>0.0</td>\n",
              "      <td>0.0</td>\n",
              "      <td>1.0</td>\n",
              "      <td>0.0</td>\n",
              "      <td>1.0</td>\n",
              "      <td>0.0</td>\n",
              "      <td>1.0</td>\n",
              "      <td>...</td>\n",
              "      <td>1.0</td>\n",
              "      <td>0.0</td>\n",
              "      <td>0.0</td>\n",
              "      <td>0.0</td>\n",
              "      <td>0.0</td>\n",
              "      <td>1.0</td>\n",
              "      <td>0.919099</td>\n",
              "      <td>-1.506436</td>\n",
              "      <td>-0.557582</td>\n",
              "      <td>0.0</td>\n",
              "    </tr>\n",
              "    <tr>\n",
              "      <th>1</th>\n",
              "      <td>0.0</td>\n",
              "      <td>1.0</td>\n",
              "      <td>1.0</td>\n",
              "      <td>0.0</td>\n",
              "      <td>0.0</td>\n",
              "      <td>1.0</td>\n",
              "      <td>1.0</td>\n",
              "      <td>0.0</td>\n",
              "      <td>0.0</td>\n",
              "      <td>1.0</td>\n",
              "      <td>...</td>\n",
              "      <td>1.0</td>\n",
              "      <td>0.0</td>\n",
              "      <td>0.0</td>\n",
              "      <td>1.0</td>\n",
              "      <td>0.0</td>\n",
              "      <td>0.0</td>\n",
              "      <td>1.612060</td>\n",
              "      <td>-1.295997</td>\n",
              "      <td>-0.184763</td>\n",
              "      <td>0.0</td>\n",
              "    </tr>\n",
              "    <tr>\n",
              "      <th>2</th>\n",
              "      <td>0.0</td>\n",
              "      <td>1.0</td>\n",
              "      <td>1.0</td>\n",
              "      <td>0.0</td>\n",
              "      <td>1.0</td>\n",
              "      <td>0.0</td>\n",
              "      <td>1.0</td>\n",
              "      <td>0.0</td>\n",
              "      <td>0.0</td>\n",
              "      <td>1.0</td>\n",
              "      <td>...</td>\n",
              "      <td>0.0</td>\n",
              "      <td>1.0</td>\n",
              "      <td>0.0</td>\n",
              "      <td>0.0</td>\n",
              "      <td>1.0</td>\n",
              "      <td>0.0</td>\n",
              "      <td>-1.282072</td>\n",
              "      <td>0.362658</td>\n",
              "      <td>-0.976504</td>\n",
              "      <td>1.0</td>\n",
              "    </tr>\n",
              "    <tr>\n",
              "      <th>3</th>\n",
              "      <td>1.0</td>\n",
              "      <td>0.0</td>\n",
              "      <td>0.0</td>\n",
              "      <td>1.0</td>\n",
              "      <td>0.0</td>\n",
              "      <td>1.0</td>\n",
              "      <td>1.0</td>\n",
              "      <td>0.0</td>\n",
              "      <td>0.0</td>\n",
              "      <td>1.0</td>\n",
              "      <td>...</td>\n",
              "      <td>1.0</td>\n",
              "      <td>0.0</td>\n",
              "      <td>0.0</td>\n",
              "      <td>0.0</td>\n",
              "      <td>0.0</td>\n",
              "      <td>1.0</td>\n",
              "      <td>-0.018437</td>\n",
              "      <td>0.475334</td>\n",
              "      <td>0.122800</td>\n",
              "      <td>0.0</td>\n",
              "    </tr>\n",
              "    <tr>\n",
              "      <th>4</th>\n",
              "      <td>1.0</td>\n",
              "      <td>0.0</td>\n",
              "      <td>1.0</td>\n",
              "      <td>0.0</td>\n",
              "      <td>0.0</td>\n",
              "      <td>1.0</td>\n",
              "      <td>0.0</td>\n",
              "      <td>1.0</td>\n",
              "      <td>0.0</td>\n",
              "      <td>1.0</td>\n",
              "      <td>...</td>\n",
              "      <td>1.0</td>\n",
              "      <td>0.0</td>\n",
              "      <td>0.0</td>\n",
              "      <td>1.0</td>\n",
              "      <td>0.0</td>\n",
              "      <td>0.0</td>\n",
              "      <td>1.122911</td>\n",
              "      <td>1.666716</td>\n",
              "      <td>1.968909</td>\n",
              "      <td>0.0</td>\n",
              "    </tr>\n",
              "  </tbody>\n",
              "</table>\n",
              "<p>5 rows × 47 columns</p>\n",
              "</div>\n",
              "      <button class=\"colab-df-convert\" onclick=\"convertToInteractive('df-b71018b1-5538-4f01-ad4a-b192dee8eb98')\"\n",
              "              title=\"Convert this dataframe to an interactive table.\"\n",
              "              style=\"display:none;\">\n",
              "        \n",
              "  <svg xmlns=\"http://www.w3.org/2000/svg\" height=\"24px\"viewBox=\"0 0 24 24\"\n",
              "       width=\"24px\">\n",
              "    <path d=\"M0 0h24v24H0V0z\" fill=\"none\"/>\n",
              "    <path d=\"M18.56 5.44l.94 2.06.94-2.06 2.06-.94-2.06-.94-.94-2.06-.94 2.06-2.06.94zm-11 1L8.5 8.5l.94-2.06 2.06-.94-2.06-.94L8.5 2.5l-.94 2.06-2.06.94zm10 10l.94 2.06.94-2.06 2.06-.94-2.06-.94-.94-2.06-.94 2.06-2.06.94z\"/><path d=\"M17.41 7.96l-1.37-1.37c-.4-.4-.92-.59-1.43-.59-.52 0-1.04.2-1.43.59L10.3 9.45l-7.72 7.72c-.78.78-.78 2.05 0 2.83L4 21.41c.39.39.9.59 1.41.59.51 0 1.02-.2 1.41-.59l7.78-7.78 2.81-2.81c.8-.78.8-2.07 0-2.86zM5.41 20L4 18.59l7.72-7.72 1.47 1.35L5.41 20z\"/>\n",
              "  </svg>\n",
              "      </button>\n",
              "      \n",
              "  <style>\n",
              "    .colab-df-container {\n",
              "      display:flex;\n",
              "      flex-wrap:wrap;\n",
              "      gap: 12px;\n",
              "    }\n",
              "\n",
              "    .colab-df-convert {\n",
              "      background-color: #E8F0FE;\n",
              "      border: none;\n",
              "      border-radius: 50%;\n",
              "      cursor: pointer;\n",
              "      display: none;\n",
              "      fill: #1967D2;\n",
              "      height: 32px;\n",
              "      padding: 0 0 0 0;\n",
              "      width: 32px;\n",
              "    }\n",
              "\n",
              "    .colab-df-convert:hover {\n",
              "      background-color: #E2EBFA;\n",
              "      box-shadow: 0px 1px 2px rgba(60, 64, 67, 0.3), 0px 1px 3px 1px rgba(60, 64, 67, 0.15);\n",
              "      fill: #174EA6;\n",
              "    }\n",
              "\n",
              "    [theme=dark] .colab-df-convert {\n",
              "      background-color: #3B4455;\n",
              "      fill: #D2E3FC;\n",
              "    }\n",
              "\n",
              "    [theme=dark] .colab-df-convert:hover {\n",
              "      background-color: #434B5C;\n",
              "      box-shadow: 0px 1px 3px 1px rgba(0, 0, 0, 0.15);\n",
              "      filter: drop-shadow(0px 1px 2px rgba(0, 0, 0, 0.3));\n",
              "      fill: #FFFFFF;\n",
              "    }\n",
              "  </style>\n",
              "\n",
              "      <script>\n",
              "        const buttonEl =\n",
              "          document.querySelector('#df-b71018b1-5538-4f01-ad4a-b192dee8eb98 button.colab-df-convert');\n",
              "        buttonEl.style.display =\n",
              "          google.colab.kernel.accessAllowed ? 'block' : 'none';\n",
              "\n",
              "        async function convertToInteractive(key) {\n",
              "          const element = document.querySelector('#df-b71018b1-5538-4f01-ad4a-b192dee8eb98');\n",
              "          const dataTable =\n",
              "            await google.colab.kernel.invokeFunction('convertToInteractive',\n",
              "                                                     [key], {});\n",
              "          if (!dataTable) return;\n",
              "\n",
              "          const docLinkHtml = 'Like what you see? Visit the ' +\n",
              "            '<a target=\"_blank\" href=https://colab.research.google.com/notebooks/data_table.ipynb>data table notebook</a>'\n",
              "            + ' to learn more about interactive tables.';\n",
              "          element.innerHTML = '';\n",
              "          dataTable['output_type'] = 'display_data';\n",
              "          await google.colab.output.renderOutput(dataTable, element);\n",
              "          const docLink = document.createElement('div');\n",
              "          docLink.innerHTML = docLinkHtml;\n",
              "          element.appendChild(docLink);\n",
              "        }\n",
              "      </script>\n",
              "    </div>\n",
              "  </div>\n",
              "  "
            ]
          },
          "metadata": {},
          "execution_count": 205
        }
      ]
    },
    {
      "cell_type": "markdown",
      "source": [
        "Разделим данные на обучающую и тестовую выборку"
      ],
      "metadata": {
        "id": "7FiCsub9lTHp"
      }
    },
    {
      "cell_type": "code",
      "source": [
        "feature_cols_scaled_bin = data_scaled_bin.drop(columns=['Churn'])"
      ],
      "metadata": {
        "id": "4EBa5wOfl5ce"
      },
      "execution_count": null,
      "outputs": []
    },
    {
      "cell_type": "code",
      "source": [
        "X_train, X_test, y_train, y_test = train_test_split(feature_cols_scaled_bin,\n",
        "                                                    data_scaled_bin['Churn'],\n",
        "                                                    test_size=0.16,\n",
        "                                                    random_state=10)\n",
        "y_train = np.array(y_train)\n",
        "y_test = np.array(y_test)"
      ],
      "metadata": {
        "id": "XTzS5ia3lQ90"
      },
      "execution_count": null,
      "outputs": []
    },
    {
      "cell_type": "code",
      "source": [
        "lr_cv = LogisticRegressionCV(scoring='roc_auc', refit=True)\n",
        "lr_cv.fit(X_train, y_train)"
      ],
      "metadata": {
        "colab": {
          "base_uri": "https://localhost:8080/"
        },
        "id": "lL9O4mjYmZ_V",
        "outputId": "6476227c-e511-413d-dd14-cd623f3fb940"
      },
      "execution_count": null,
      "outputs": [
        {
          "output_type": "stream",
          "name": "stderr",
          "text": [
            "/usr/local/lib/python3.7/dist-packages/sklearn/utils/validation.py:1692: FutureWarning: Feature names only support names that are all strings. Got feature names with dtypes: ['int', 'str']. An error will be raised in 1.2.\n",
            "  FutureWarning,\n",
            "/usr/local/lib/python3.7/dist-packages/sklearn/utils/validation.py:625: UserWarning: pandas.DataFrame with sparse columns found.It will be converted to a dense numpy array.\n",
            "  \"pandas.DataFrame with sparse columns found.\"\n"
          ]
        },
        {
          "output_type": "execute_result",
          "data": {
            "text/plain": [
              "{'Cs': 10,\n",
              " 'class_weight': None,\n",
              " 'cv': None,\n",
              " 'dual': False,\n",
              " 'fit_intercept': True,\n",
              " 'intercept_scaling': 1.0,\n",
              " 'l1_ratios': None,\n",
              " 'max_iter': 100,\n",
              " 'multi_class': 'auto',\n",
              " 'n_jobs': None,\n",
              " 'penalty': 'l2',\n",
              " 'random_state': None,\n",
              " 'refit': True,\n",
              " 'scoring': 'roc_auc',\n",
              " 'solver': 'lbfgs',\n",
              " 'tol': 0.0001,\n",
              " 'verbose': 0}"
            ]
          },
          "metadata": {},
          "execution_count": 220
        }
      ]
    },
    {
      "cell_type": "markdown",
      "source": [
        "Определим метод, который позволит выводить все метрики классификации"
      ],
      "metadata": {
        "id": "rohkHcpmpzm2"
      }
    },
    {
      "cell_type": "code",
      "source": [
        "def get_metrics(y_test, y_pred, name):\n",
        "    df_metrics = pd.DataFrame()\n",
        "  \n",
        "    df_metrics['model'] = [name]\n",
        "    \n",
        "    df_metrics['Accuracy'] = [accuracy_score(y_test, y_pred)]\n",
        "    df_metrics['ROC_AUC'] = [roc_auc_score(y_test, y_pred)]\n",
        "    df_metrics['Precision'] = [precision_score(y_test, y_pred)]\n",
        "    df_metrics['Recall'] = [recall_score(y_test, y_pred)]\n",
        "    df_metrics['f1'] = [f1_score(y_test, y_pred)]\n",
        "    df_metrics['Logloss'] = [log_loss(y_test, y_pred)]\n",
        "    \n",
        "    return df_metrics"
      ],
      "metadata": {
        "id": "YfeFHLqDp3_7"
      },
      "execution_count": null,
      "outputs": []
    },
    {
      "cell_type": "code",
      "source": [
        "predict = lr_cv.predict(X_test)"
      ],
      "metadata": {
        "colab": {
          "base_uri": "https://localhost:8080/"
        },
        "id": "-ttWllE6mhAZ",
        "outputId": "9f802a36-cd76-46bc-eb2b-67be44aa611b"
      },
      "execution_count": null,
      "outputs": [
        {
          "output_type": "stream",
          "name": "stderr",
          "text": [
            "/usr/local/lib/python3.7/dist-packages/sklearn/utils/validation.py:1692: FutureWarning: Feature names only support names that are all strings. Got feature names with dtypes: ['int', 'str']. An error will be raised in 1.2.\n",
            "  FutureWarning,\n",
            "/usr/local/lib/python3.7/dist-packages/sklearn/utils/validation.py:625: UserWarning: pandas.DataFrame with sparse columns found.It will be converted to a dense numpy array.\n",
            "  \"pandas.DataFrame with sparse columns found.\"\n"
          ]
        }
      ]
    },
    {
      "cell_type": "code",
      "source": [
        "get_metrics(y_test, predict, name='lr_cv')"
      ],
      "metadata": {
        "colab": {
          "base_uri": "https://localhost:8080/",
          "height": 81
        },
        "id": "P-YoliAmmhJS",
        "outputId": "cdda8e76-2104-44fe-ae31-8f932465e48c"
      },
      "execution_count": null,
      "outputs": [
        {
          "output_type": "execute_result",
          "data": {
            "text/plain": [
              "   model  Accuracy   ROC_AUC  Precision    Recall        f1   Logloss\n",
              "0  lr_cv  0.781732  0.657912   0.581081  0.413462  0.483146  7.538772"
            ],
            "text/html": [
              "\n",
              "  <div id=\"df-aeeace77-bda8-4d47-b993-e2aeacf2492d\">\n",
              "    <div class=\"colab-df-container\">\n",
              "      <div>\n",
              "<style scoped>\n",
              "    .dataframe tbody tr th:only-of-type {\n",
              "        vertical-align: middle;\n",
              "    }\n",
              "\n",
              "    .dataframe tbody tr th {\n",
              "        vertical-align: top;\n",
              "    }\n",
              "\n",
              "    .dataframe thead th {\n",
              "        text-align: right;\n",
              "    }\n",
              "</style>\n",
              "<table border=\"1\" class=\"dataframe\">\n",
              "  <thead>\n",
              "    <tr style=\"text-align: right;\">\n",
              "      <th></th>\n",
              "      <th>model</th>\n",
              "      <th>Accuracy</th>\n",
              "      <th>ROC_AUC</th>\n",
              "      <th>Precision</th>\n",
              "      <th>Recall</th>\n",
              "      <th>f1</th>\n",
              "      <th>Logloss</th>\n",
              "    </tr>\n",
              "  </thead>\n",
              "  <tbody>\n",
              "    <tr>\n",
              "      <th>0</th>\n",
              "      <td>lr_cv</td>\n",
              "      <td>0.781732</td>\n",
              "      <td>0.657912</td>\n",
              "      <td>0.581081</td>\n",
              "      <td>0.413462</td>\n",
              "      <td>0.483146</td>\n",
              "      <td>7.538772</td>\n",
              "    </tr>\n",
              "  </tbody>\n",
              "</table>\n",
              "</div>\n",
              "      <button class=\"colab-df-convert\" onclick=\"convertToInteractive('df-aeeace77-bda8-4d47-b993-e2aeacf2492d')\"\n",
              "              title=\"Convert this dataframe to an interactive table.\"\n",
              "              style=\"display:none;\">\n",
              "        \n",
              "  <svg xmlns=\"http://www.w3.org/2000/svg\" height=\"24px\"viewBox=\"0 0 24 24\"\n",
              "       width=\"24px\">\n",
              "    <path d=\"M0 0h24v24H0V0z\" fill=\"none\"/>\n",
              "    <path d=\"M18.56 5.44l.94 2.06.94-2.06 2.06-.94-2.06-.94-.94-2.06-.94 2.06-2.06.94zm-11 1L8.5 8.5l.94-2.06 2.06-.94-2.06-.94L8.5 2.5l-.94 2.06-2.06.94zm10 10l.94 2.06.94-2.06 2.06-.94-2.06-.94-.94-2.06-.94 2.06-2.06.94z\"/><path d=\"M17.41 7.96l-1.37-1.37c-.4-.4-.92-.59-1.43-.59-.52 0-1.04.2-1.43.59L10.3 9.45l-7.72 7.72c-.78.78-.78 2.05 0 2.83L4 21.41c.39.39.9.59 1.41.59.51 0 1.02-.2 1.41-.59l7.78-7.78 2.81-2.81c.8-.78.8-2.07 0-2.86zM5.41 20L4 18.59l7.72-7.72 1.47 1.35L5.41 20z\"/>\n",
              "  </svg>\n",
              "      </button>\n",
              "      \n",
              "  <style>\n",
              "    .colab-df-container {\n",
              "      display:flex;\n",
              "      flex-wrap:wrap;\n",
              "      gap: 12px;\n",
              "    }\n",
              "\n",
              "    .colab-df-convert {\n",
              "      background-color: #E8F0FE;\n",
              "      border: none;\n",
              "      border-radius: 50%;\n",
              "      cursor: pointer;\n",
              "      display: none;\n",
              "      fill: #1967D2;\n",
              "      height: 32px;\n",
              "      padding: 0 0 0 0;\n",
              "      width: 32px;\n",
              "    }\n",
              "\n",
              "    .colab-df-convert:hover {\n",
              "      background-color: #E2EBFA;\n",
              "      box-shadow: 0px 1px 2px rgba(60, 64, 67, 0.3), 0px 1px 3px 1px rgba(60, 64, 67, 0.15);\n",
              "      fill: #174EA6;\n",
              "    }\n",
              "\n",
              "    [theme=dark] .colab-df-convert {\n",
              "      background-color: #3B4455;\n",
              "      fill: #D2E3FC;\n",
              "    }\n",
              "\n",
              "    [theme=dark] .colab-df-convert:hover {\n",
              "      background-color: #434B5C;\n",
              "      box-shadow: 0px 1px 3px 1px rgba(0, 0, 0, 0.15);\n",
              "      filter: drop-shadow(0px 1px 2px rgba(0, 0, 0, 0.3));\n",
              "      fill: #FFFFFF;\n",
              "    }\n",
              "  </style>\n",
              "\n",
              "      <script>\n",
              "        const buttonEl =\n",
              "          document.querySelector('#df-aeeace77-bda8-4d47-b993-e2aeacf2492d button.colab-df-convert');\n",
              "        buttonEl.style.display =\n",
              "          google.colab.kernel.accessAllowed ? 'block' : 'none';\n",
              "\n",
              "        async function convertToInteractive(key) {\n",
              "          const element = document.querySelector('#df-aeeace77-bda8-4d47-b993-e2aeacf2492d');\n",
              "          const dataTable =\n",
              "            await google.colab.kernel.invokeFunction('convertToInteractive',\n",
              "                                                     [key], {});\n",
              "          if (!dataTable) return;\n",
              "\n",
              "          const docLinkHtml = 'Like what you see? Visit the ' +\n",
              "            '<a target=\"_blank\" href=https://colab.research.google.com/notebooks/data_table.ipynb>data table notebook</a>'\n",
              "            + ' to learn more about interactive tables.';\n",
              "          element.innerHTML = '';\n",
              "          dataTable['output_type'] = 'display_data';\n",
              "          await google.colab.output.renderOutput(dataTable, element);\n",
              "          const docLink = document.createElement('div');\n",
              "          docLink.innerHTML = docLinkHtml;\n",
              "          element.appendChild(docLink);\n",
              "        }\n",
              "      </script>\n",
              "    </div>\n",
              "  </div>\n",
              "  "
            ]
          },
          "metadata": {},
          "execution_count": 223
        }
      ]
    },
    {
      "cell_type": "markdown",
      "metadata": {
        "id": "uVahy6JKEEZQ"
      },
      "source": [
        "Выпишите какое лучшее качество и с какими параметрами вам удалось получить"
      ]
    },
    {
      "cell_type": "markdown",
      "metadata": {
        "id": "36729TOQEEZR"
      },
      "source": [
        "Таким образом roc auc на тестовой выборке составил 0.65. Выведем параметры модели"
      ]
    },
    {
      "cell_type": "code",
      "source": [
        "lr_cv.get_params()"
      ],
      "metadata": {
        "colab": {
          "base_uri": "https://localhost:8080/"
        },
        "id": "WtU6Mi7Vq_To",
        "outputId": "5a52b601-9624-43e1-f276-5dde6ad1b2ae"
      },
      "execution_count": null,
      "outputs": [
        {
          "output_type": "execute_result",
          "data": {
            "text/plain": [
              "{'Cs': 10,\n",
              " 'class_weight': None,\n",
              " 'cv': None,\n",
              " 'dual': False,\n",
              " 'fit_intercept': True,\n",
              " 'intercept_scaling': 1.0,\n",
              " 'l1_ratios': None,\n",
              " 'max_iter': 100,\n",
              " 'multi_class': 'auto',\n",
              " 'n_jobs': None,\n",
              " 'penalty': 'l2',\n",
              " 'random_state': None,\n",
              " 'refit': True,\n",
              " 'scoring': 'roc_auc',\n",
              " 'solver': 'lbfgs',\n",
              " 'tol': 0.0001,\n",
              " 'verbose': 0}"
            ]
          },
          "metadata": {},
          "execution_count": 225
        }
      ]
    },
    {
      "cell_type": "markdown",
      "metadata": {
        "id": "BlTeVy7fEEZR"
      },
      "source": [
        "## Применение градиентного бустинга (2 балла)\n",
        "\n",
        "Если вы хотите получить баллы за точный ответ, то стоит попробовать градиентный бустинг. Часто градиентный бустинг с дефолтными параметрами даст вам 80% результата за 0% усилий.\n",
        "\n",
        "Мы будем использовать catboost, поэтому нам не надо кодировать категориальные признаки. catboost сделает это сам (в .fit() надо передать cat_features=cat_cols). А численные признаки нормировать для моделей, основанных на деревьях не нужно.\n",
        "\n",
        "1) Разделите выборку на train/valid. Протестируйте catboost cо стандартными параметрами.\n",
        "\n",
        "2) Протестируйте разные занчения параметроа количества деревьев и learning_rate'а и выберите лучшую по метрике ROC-AUC комбинацию. \n",
        "\n",
        "(Дополнительно) Есть некоторые сложности с тем, чтобы использовать CatBoostClassifier вместе с GridSearchCV, поэтому мы не просим использовать кроссвалидацию. Но можете попробовать)"
      ]
    },
    {
      "cell_type": "markdown",
      "metadata": {
        "id": "rf4Kjt96EEZU"
      },
      "source": [
        "Выпишите какое лучшее качество и с какими параметрами вам удалось получить"
      ]
    },
    {
      "cell_type": "markdown",
      "source": [
        "Разобьём исходные данные на train и test"
      ],
      "metadata": {
        "id": "sAI2bHOm4fEj"
      }
    },
    {
      "cell_type": "code",
      "source": [
        "X_train, X_test, y_train, y_test = train_test_split(data[feature_cols],\n",
        "                                                    data['Churn'],\n",
        "                                                    test_size=0.16,\n",
        "                                                    random_state=10)"
      ],
      "metadata": {
        "id": "5WMkPwJV4erb"
      },
      "execution_count": null,
      "outputs": []
    },
    {
      "cell_type": "markdown",
      "source": [
        "Выделим из обучающей выборки валидационное множество, на котором будем проверять ответ после построения каждого дерева. Это нужно, чтобы контролировать переобучение и останавливать построение композиции, когда метрика качества перестаёт улучшаться"
      ],
      "metadata": {
        "id": "tPmHbKEO41C_"
      }
    },
    {
      "cell_type": "code",
      "source": [
        "X_train_, X_val, y_train_, y_val = train_test_split(X_train,\n",
        "                                                    y_train,\n",
        "                                                    test_size=0.16,\n",
        "                                                    shuffle=True,\n",
        "                                                    random_state=10)\n",
        "eval_set = [(X_val, y_val)]"
      ],
      "metadata": {
        "id": "grYZmS4j4xiu"
      },
      "execution_count": null,
      "outputs": []
    },
    {
      "cell_type": "markdown",
      "source": [
        "Обучим базовую модель Catboost"
      ],
      "metadata": {
        "id": "Ykf4kmwR5sfi"
      }
    },
    {
      "cell_type": "code",
      "source": [
        "clf = CatBoostClassifier(random_state=10,\\\n",
        "                         scale_pos_weight=0.738,\n",
        "                         cat_features = cat_cols)"
      ],
      "metadata": {
        "id": "xNlYeXz85Pf_"
      },
      "execution_count": null,
      "outputs": []
    },
    {
      "cell_type": "code",
      "source": [
        "clf.fit(X_train_,\n",
        "        y_train_,\n",
        "        eval_set=eval_set,\n",
        "        early_stopping_rounds=100,\n",
        "        verbose=2)"
      ],
      "metadata": {
        "colab": {
          "base_uri": "https://localhost:8080/"
        },
        "id": "VGQc-QOu5PoK",
        "outputId": "1ed13bea-e91e-4792-9fc2-f6d8b49174dc"
      },
      "execution_count": null,
      "outputs": [
        {
          "output_type": "stream",
          "name": "stdout",
          "text": [
            "Learning rate set to 0.043836\n",
            "0:\tlearn: 0.6631792\ttest: 0.6615998\tbest: 0.6615998 (0)\ttotal: 12.1ms\tremaining: 12.1s\n",
            "2:\tlearn: 0.6129319\ttest: 0.6083503\tbest: 0.6083503 (2)\ttotal: 39.3ms\tremaining: 13s\n",
            "4:\tlearn: 0.5717758\ttest: 0.5655051\tbest: 0.5655051 (4)\ttotal: 66.6ms\tremaining: 13.3s\n",
            "6:\tlearn: 0.5375365\ttest: 0.5286682\tbest: 0.5286682 (6)\ttotal: 93.5ms\tremaining: 13.3s\n",
            "8:\tlearn: 0.5068879\ttest: 0.4962359\tbest: 0.4962359 (8)\ttotal: 125ms\tremaining: 13.8s\n",
            "10:\tlearn: 0.4835078\ttest: 0.4708800\tbest: 0.4708800 (10)\ttotal: 149ms\tremaining: 13.4s\n",
            "12:\tlearn: 0.4629272\ttest: 0.4486077\tbest: 0.4486077 (12)\ttotal: 174ms\tremaining: 13.2s\n",
            "14:\tlearn: 0.4484041\ttest: 0.4323007\tbest: 0.4323007 (14)\ttotal: 195ms\tremaining: 12.8s\n",
            "16:\tlearn: 0.4356340\ttest: 0.4178254\tbest: 0.4178254 (16)\ttotal: 222ms\tremaining: 12.8s\n",
            "18:\tlearn: 0.4261332\ttest: 0.4066367\tbest: 0.4066367 (18)\ttotal: 247ms\tremaining: 12.7s\n",
            "20:\tlearn: 0.4182553\ttest: 0.3977170\tbest: 0.3977170 (20)\ttotal: 286ms\tremaining: 13.3s\n",
            "22:\tlearn: 0.4104373\ttest: 0.3893996\tbest: 0.3893996 (22)\ttotal: 313ms\tremaining: 13.3s\n",
            "24:\tlearn: 0.4053290\ttest: 0.3827578\tbest: 0.3827578 (24)\ttotal: 335ms\tremaining: 13.1s\n",
            "26:\tlearn: 0.4016735\ttest: 0.3782361\tbest: 0.3782361 (26)\ttotal: 354ms\tremaining: 12.7s\n",
            "28:\tlearn: 0.3992527\ttest: 0.3750948\tbest: 0.3750948 (28)\ttotal: 371ms\tremaining: 12.4s\n",
            "30:\tlearn: 0.3956677\ttest: 0.3709842\tbest: 0.3709842 (30)\ttotal: 389ms\tremaining: 12.2s\n",
            "32:\tlearn: 0.3919750\ttest: 0.3676208\tbest: 0.3676208 (32)\ttotal: 418ms\tremaining: 12.2s\n",
            "34:\tlearn: 0.3891412\ttest: 0.3643943\tbest: 0.3643943 (34)\ttotal: 439ms\tremaining: 12.1s\n",
            "36:\tlearn: 0.3855692\ttest: 0.3613534\tbest: 0.3613534 (36)\ttotal: 478ms\tremaining: 12.5s\n",
            "38:\tlearn: 0.3824848\ttest: 0.3585644\tbest: 0.3585644 (38)\ttotal: 507ms\tremaining: 12.5s\n",
            "40:\tlearn: 0.3809269\ttest: 0.3569541\tbest: 0.3569541 (40)\ttotal: 527ms\tremaining: 12.3s\n",
            "42:\tlearn: 0.3787893\ttest: 0.3551649\tbest: 0.3551649 (42)\ttotal: 554ms\tremaining: 12.3s\n",
            "44:\tlearn: 0.3766213\ttest: 0.3532731\tbest: 0.3532731 (44)\ttotal: 581ms\tremaining: 12.3s\n",
            "46:\tlearn: 0.3749276\ttest: 0.3519623\tbest: 0.3519623 (46)\ttotal: 609ms\tremaining: 12.4s\n",
            "48:\tlearn: 0.3738743\ttest: 0.3509247\tbest: 0.3509247 (48)\ttotal: 631ms\tremaining: 12.3s\n",
            "50:\tlearn: 0.3733501\ttest: 0.3503167\tbest: 0.3503167 (50)\ttotal: 643ms\tremaining: 12s\n",
            "52:\tlearn: 0.3715405\ttest: 0.3491287\tbest: 0.3491287 (52)\ttotal: 670ms\tremaining: 12s\n",
            "54:\tlearn: 0.3698838\ttest: 0.3483080\tbest: 0.3483080 (54)\ttotal: 700ms\tremaining: 12s\n",
            "56:\tlearn: 0.3690114\ttest: 0.3477731\tbest: 0.3477731 (56)\ttotal: 718ms\tremaining: 11.9s\n",
            "58:\tlearn: 0.3676118\ttest: 0.3471260\tbest: 0.3471260 (58)\ttotal: 746ms\tremaining: 11.9s\n",
            "60:\tlearn: 0.3668506\ttest: 0.3462947\tbest: 0.3462947 (60)\ttotal: 764ms\tremaining: 11.8s\n",
            "62:\tlearn: 0.3660007\ttest: 0.3456289\tbest: 0.3456289 (62)\ttotal: 791ms\tremaining: 11.8s\n",
            "64:\tlearn: 0.3646217\ttest: 0.3449655\tbest: 0.3449655 (64)\ttotal: 825ms\tremaining: 11.9s\n",
            "66:\tlearn: 0.3638330\ttest: 0.3442673\tbest: 0.3442673 (66)\ttotal: 855ms\tremaining: 11.9s\n",
            "68:\tlearn: 0.3633965\ttest: 0.3440871\tbest: 0.3440871 (68)\ttotal: 871ms\tremaining: 11.8s\n",
            "70:\tlearn: 0.3623823\ttest: 0.3438206\tbest: 0.3437773 (69)\ttotal: 899ms\tremaining: 11.8s\n",
            "72:\tlearn: 0.3617361\ttest: 0.3437095\tbest: 0.3436490 (71)\ttotal: 929ms\tremaining: 11.8s\n",
            "74:\tlearn: 0.3613122\ttest: 0.3432403\tbest: 0.3432403 (74)\ttotal: 953ms\tremaining: 11.8s\n",
            "76:\tlearn: 0.3605974\ttest: 0.3428668\tbest: 0.3428668 (76)\ttotal: 977ms\tremaining: 11.7s\n",
            "78:\tlearn: 0.3597557\ttest: 0.3422067\tbest: 0.3422067 (78)\ttotal: 1s\tremaining: 11.7s\n",
            "80:\tlearn: 0.3593488\ttest: 0.3420497\tbest: 0.3420497 (80)\ttotal: 1.02s\tremaining: 11.6s\n",
            "82:\tlearn: 0.3587540\ttest: 0.3417828\tbest: 0.3417828 (82)\ttotal: 1.05s\tremaining: 11.7s\n",
            "84:\tlearn: 0.3578559\ttest: 0.3414763\tbest: 0.3414763 (84)\ttotal: 1.09s\tremaining: 11.8s\n",
            "86:\tlearn: 0.3574202\ttest: 0.3411969\tbest: 0.3411969 (86)\ttotal: 1.13s\tremaining: 11.8s\n",
            "88:\tlearn: 0.3567752\ttest: 0.3409419\tbest: 0.3409419 (88)\ttotal: 1.15s\tremaining: 11.8s\n",
            "90:\tlearn: 0.3564051\ttest: 0.3408260\tbest: 0.3408260 (90)\ttotal: 1.17s\tremaining: 11.7s\n",
            "92:\tlearn: 0.3561023\ttest: 0.3408990\tbest: 0.3408260 (90)\ttotal: 1.19s\tremaining: 11.6s\n",
            "94:\tlearn: 0.3552992\ttest: 0.3410208\tbest: 0.3408260 (90)\ttotal: 1.22s\tremaining: 11.6s\n",
            "96:\tlearn: 0.3549180\ttest: 0.3407213\tbest: 0.3407213 (96)\ttotal: 1.25s\tremaining: 11.6s\n",
            "98:\tlearn: 0.3547079\ttest: 0.3405274\tbest: 0.3405274 (98)\ttotal: 1.29s\tremaining: 11.7s\n",
            "100:\tlearn: 0.3546616\ttest: 0.3404467\tbest: 0.3404467 (100)\ttotal: 1.3s\tremaining: 11.6s\n",
            "102:\tlearn: 0.3542101\ttest: 0.3406688\tbest: 0.3404467 (100)\ttotal: 1.33s\tremaining: 11.6s\n",
            "104:\tlearn: 0.3531806\ttest: 0.3402149\tbest: 0.3402149 (104)\ttotal: 1.36s\tremaining: 11.6s\n",
            "106:\tlearn: 0.3527453\ttest: 0.3399498\tbest: 0.3399498 (106)\ttotal: 1.39s\tremaining: 11.6s\n",
            "108:\tlearn: 0.3522440\ttest: 0.3399385\tbest: 0.3398875 (107)\ttotal: 1.42s\tremaining: 11.6s\n",
            "110:\tlearn: 0.3518532\ttest: 0.3395905\tbest: 0.3395905 (110)\ttotal: 1.48s\tremaining: 11.8s\n",
            "112:\tlearn: 0.3515695\ttest: 0.3395624\tbest: 0.3395624 (112)\ttotal: 1.55s\tremaining: 12.2s\n",
            "114:\tlearn: 0.3508430\ttest: 0.3396331\tbest: 0.3394554 (113)\ttotal: 1.62s\tremaining: 12.5s\n",
            "116:\tlearn: 0.3501992\ttest: 0.3395060\tbest: 0.3394554 (113)\ttotal: 1.69s\tremaining: 12.8s\n",
            "118:\tlearn: 0.3500912\ttest: 0.3394750\tbest: 0.3394554 (113)\ttotal: 1.72s\tremaining: 12.8s\n",
            "120:\tlearn: 0.3500049\ttest: 0.3395576\tbest: 0.3394554 (113)\ttotal: 1.76s\tremaining: 12.8s\n",
            "122:\tlearn: 0.3498798\ttest: 0.3394719\tbest: 0.3394554 (113)\ttotal: 1.84s\tremaining: 13.1s\n",
            "124:\tlearn: 0.3496545\ttest: 0.3393283\tbest: 0.3393283 (124)\ttotal: 1.88s\tremaining: 13.2s\n",
            "126:\tlearn: 0.3494655\ttest: 0.3391820\tbest: 0.3391820 (126)\ttotal: 1.94s\tremaining: 13.4s\n",
            "128:\tlearn: 0.3493187\ttest: 0.3389938\tbest: 0.3389938 (128)\ttotal: 2.01s\tremaining: 13.6s\n",
            "130:\tlearn: 0.3491420\ttest: 0.3388458\tbest: 0.3388458 (130)\ttotal: 2.07s\tremaining: 13.7s\n",
            "132:\tlearn: 0.3484978\ttest: 0.3390533\tbest: 0.3387847 (131)\ttotal: 2.12s\tremaining: 13.8s\n",
            "134:\tlearn: 0.3483210\ttest: 0.3390627\tbest: 0.3387847 (131)\ttotal: 2.18s\tremaining: 14s\n",
            "136:\tlearn: 0.3480632\ttest: 0.3389710\tbest: 0.3387847 (131)\ttotal: 2.27s\tremaining: 14.3s\n",
            "138:\tlearn: 0.3475258\ttest: 0.3386827\tbest: 0.3386827 (138)\ttotal: 2.35s\tremaining: 14.6s\n",
            "140:\tlearn: 0.3468641\ttest: 0.3386702\tbest: 0.3386347 (139)\ttotal: 2.42s\tremaining: 14.8s\n",
            "142:\tlearn: 0.3465491\ttest: 0.3386401\tbest: 0.3386347 (139)\ttotal: 2.48s\tremaining: 14.9s\n",
            "144:\tlearn: 0.3464311\ttest: 0.3387034\tbest: 0.3386347 (139)\ttotal: 2.58s\tremaining: 15.2s\n",
            "146:\tlearn: 0.3459711\ttest: 0.3386737\tbest: 0.3386347 (139)\ttotal: 2.67s\tremaining: 15.5s\n",
            "148:\tlearn: 0.3457725\ttest: 0.3385035\tbest: 0.3385035 (148)\ttotal: 2.75s\tremaining: 15.7s\n",
            "150:\tlearn: 0.3448709\ttest: 0.3381325\tbest: 0.3381325 (150)\ttotal: 2.85s\tremaining: 16s\n",
            "152:\tlearn: 0.3447629\ttest: 0.3381803\tbest: 0.3381325 (150)\ttotal: 2.91s\tremaining: 16.1s\n",
            "154:\tlearn: 0.3444687\ttest: 0.3381823\tbest: 0.3381325 (150)\ttotal: 2.98s\tremaining: 16.3s\n",
            "156:\tlearn: 0.3441672\ttest: 0.3381440\tbest: 0.3381325 (150)\ttotal: 3.07s\tremaining: 16.5s\n",
            "158:\tlearn: 0.3438429\ttest: 0.3382003\tbest: 0.3380507 (157)\ttotal: 3.19s\tremaining: 16.9s\n",
            "160:\tlearn: 0.3432154\ttest: 0.3381077\tbest: 0.3380507 (157)\ttotal: 3.29s\tremaining: 17.1s\n",
            "162:\tlearn: 0.3427057\ttest: 0.3378967\tbest: 0.3378967 (162)\ttotal: 3.38s\tremaining: 17.4s\n",
            "164:\tlearn: 0.3423545\ttest: 0.3381701\tbest: 0.3378662 (163)\ttotal: 3.48s\tremaining: 17.6s\n",
            "166:\tlearn: 0.3421110\ttest: 0.3381989\tbest: 0.3378662 (163)\ttotal: 3.58s\tremaining: 17.9s\n",
            "168:\tlearn: 0.3416796\ttest: 0.3382998\tbest: 0.3378662 (163)\ttotal: 3.67s\tremaining: 18.1s\n",
            "170:\tlearn: 0.3413649\ttest: 0.3383091\tbest: 0.3378662 (163)\ttotal: 3.75s\tremaining: 18.2s\n",
            "172:\tlearn: 0.3412308\ttest: 0.3382618\tbest: 0.3378662 (163)\ttotal: 3.84s\tremaining: 18.4s\n",
            "174:\tlearn: 0.3406592\ttest: 0.3380610\tbest: 0.3378662 (163)\ttotal: 3.94s\tremaining: 18.6s\n",
            "176:\tlearn: 0.3402246\ttest: 0.3380530\tbest: 0.3378662 (163)\ttotal: 4.02s\tremaining: 18.7s\n",
            "178:\tlearn: 0.3400191\ttest: 0.3377519\tbest: 0.3377519 (178)\ttotal: 4.12s\tremaining: 18.9s\n",
            "180:\tlearn: 0.3398449\ttest: 0.3377221\tbest: 0.3377221 (180)\ttotal: 4.17s\tremaining: 18.9s\n",
            "182:\tlearn: 0.3394277\ttest: 0.3377818\tbest: 0.3377221 (180)\ttotal: 4.28s\tremaining: 19.1s\n",
            "184:\tlearn: 0.3390978\ttest: 0.3378099\tbest: 0.3377221 (180)\ttotal: 4.4s\tremaining: 19.4s\n",
            "186:\tlearn: 0.3389926\ttest: 0.3377313\tbest: 0.3377221 (180)\ttotal: 4.49s\tremaining: 19.5s\n",
            "188:\tlearn: 0.3381400\ttest: 0.3378527\tbest: 0.3377221 (180)\ttotal: 4.6s\tremaining: 19.7s\n",
            "190:\tlearn: 0.3375165\ttest: 0.3375282\tbest: 0.3375282 (190)\ttotal: 4.68s\tremaining: 19.8s\n",
            "192:\tlearn: 0.3369431\ttest: 0.3374678\tbest: 0.3374678 (192)\ttotal: 4.79s\tremaining: 20s\n",
            "194:\tlearn: 0.3361203\ttest: 0.3376022\tbest: 0.3374500 (193)\ttotal: 4.85s\tremaining: 20s\n",
            "196:\tlearn: 0.3352178\ttest: 0.3377104\tbest: 0.3374500 (193)\ttotal: 4.92s\tremaining: 20s\n",
            "198:\tlearn: 0.3350107\ttest: 0.3376948\tbest: 0.3374500 (193)\ttotal: 4.98s\tremaining: 20s\n",
            "200:\tlearn: 0.3344901\ttest: 0.3378904\tbest: 0.3374500 (193)\ttotal: 5.06s\tremaining: 20.1s\n",
            "202:\tlearn: 0.3341765\ttest: 0.3379756\tbest: 0.3374500 (193)\ttotal: 5.12s\tremaining: 20.1s\n",
            "204:\tlearn: 0.3337364\ttest: 0.3378950\tbest: 0.3374500 (193)\ttotal: 5.18s\tremaining: 20.1s\n",
            "206:\tlearn: 0.3329658\ttest: 0.3379802\tbest: 0.3374500 (193)\ttotal: 5.27s\tremaining: 20.2s\n",
            "208:\tlearn: 0.3324534\ttest: 0.3378866\tbest: 0.3374500 (193)\ttotal: 5.33s\tremaining: 20.2s\n",
            "210:\tlearn: 0.3317196\ttest: 0.3377274\tbest: 0.3374500 (193)\ttotal: 5.4s\tremaining: 20.2s\n",
            "212:\tlearn: 0.3312425\ttest: 0.3375715\tbest: 0.3374500 (193)\ttotal: 5.46s\tremaining: 20.2s\n",
            "214:\tlearn: 0.3305423\ttest: 0.3376116\tbest: 0.3374500 (193)\ttotal: 5.52s\tremaining: 20.2s\n",
            "216:\tlearn: 0.3300634\ttest: 0.3376839\tbest: 0.3374500 (193)\ttotal: 5.56s\tremaining: 20.1s\n",
            "218:\tlearn: 0.3299328\ttest: 0.3375897\tbest: 0.3374500 (193)\ttotal: 5.62s\tremaining: 20s\n",
            "220:\tlearn: 0.3295061\ttest: 0.3375796\tbest: 0.3374500 (193)\ttotal: 5.68s\tremaining: 20s\n",
            "222:\tlearn: 0.3291220\ttest: 0.3376972\tbest: 0.3374500 (193)\ttotal: 5.74s\tremaining: 20s\n",
            "224:\tlearn: 0.3285167\ttest: 0.3378398\tbest: 0.3374500 (193)\ttotal: 5.8s\tremaining: 20s\n",
            "226:\tlearn: 0.3274359\ttest: 0.3378546\tbest: 0.3374500 (193)\ttotal: 5.86s\tremaining: 20s\n",
            "228:\tlearn: 0.3271063\ttest: 0.3378986\tbest: 0.3374500 (193)\ttotal: 5.92s\tremaining: 19.9s\n",
            "230:\tlearn: 0.3268559\ttest: 0.3379500\tbest: 0.3374500 (193)\ttotal: 5.98s\tremaining: 19.9s\n",
            "232:\tlearn: 0.3264640\ttest: 0.3381720\tbest: 0.3374500 (193)\ttotal: 6.04s\tremaining: 19.9s\n",
            "234:\tlearn: 0.3262222\ttest: 0.3382201\tbest: 0.3374500 (193)\ttotal: 6.11s\tremaining: 19.9s\n",
            "236:\tlearn: 0.3256930\ttest: 0.3381128\tbest: 0.3374500 (193)\ttotal: 6.17s\tremaining: 19.9s\n",
            "238:\tlearn: 0.3251549\ttest: 0.3381934\tbest: 0.3374500 (193)\ttotal: 6.23s\tremaining: 19.8s\n",
            "240:\tlearn: 0.3246237\ttest: 0.3381942\tbest: 0.3374500 (193)\ttotal: 6.29s\tremaining: 19.8s\n",
            "242:\tlearn: 0.3243364\ttest: 0.3382073\tbest: 0.3374500 (193)\ttotal: 6.35s\tremaining: 19.8s\n",
            "244:\tlearn: 0.3239074\ttest: 0.3377761\tbest: 0.3374500 (193)\ttotal: 6.38s\tremaining: 19.6s\n",
            "246:\tlearn: 0.3236042\ttest: 0.3379053\tbest: 0.3374500 (193)\ttotal: 6.41s\tremaining: 19.5s\n",
            "248:\tlearn: 0.3230261\ttest: 0.3379553\tbest: 0.3374500 (193)\ttotal: 6.44s\tremaining: 19.4s\n",
            "250:\tlearn: 0.3222474\ttest: 0.3382502\tbest: 0.3374500 (193)\ttotal: 6.48s\tremaining: 19.3s\n",
            "252:\tlearn: 0.3215155\ttest: 0.3381224\tbest: 0.3374500 (193)\ttotal: 6.51s\tremaining: 19.2s\n",
            "254:\tlearn: 0.3213077\ttest: 0.3381162\tbest: 0.3374500 (193)\ttotal: 6.54s\tremaining: 19.1s\n",
            "256:\tlearn: 0.3208549\ttest: 0.3383107\tbest: 0.3374500 (193)\ttotal: 6.56s\tremaining: 19s\n",
            "258:\tlearn: 0.3207374\ttest: 0.3383974\tbest: 0.3374500 (193)\ttotal: 6.59s\tremaining: 18.9s\n",
            "260:\tlearn: 0.3203296\ttest: 0.3387036\tbest: 0.3374500 (193)\ttotal: 6.62s\tremaining: 18.7s\n",
            "262:\tlearn: 0.3201238\ttest: 0.3387106\tbest: 0.3374500 (193)\ttotal: 6.66s\tremaining: 18.7s\n",
            "264:\tlearn: 0.3196396\ttest: 0.3389368\tbest: 0.3374500 (193)\ttotal: 6.69s\tremaining: 18.6s\n",
            "266:\tlearn: 0.3192714\ttest: 0.3389141\tbest: 0.3374500 (193)\ttotal: 6.72s\tremaining: 18.4s\n",
            "268:\tlearn: 0.3185294\ttest: 0.3384454\tbest: 0.3374500 (193)\ttotal: 6.75s\tremaining: 18.3s\n",
            "270:\tlearn: 0.3183017\ttest: 0.3386073\tbest: 0.3374500 (193)\ttotal: 6.77s\tremaining: 18.2s\n",
            "272:\tlearn: 0.3179733\ttest: 0.3387317\tbest: 0.3374500 (193)\ttotal: 6.8s\tremaining: 18.1s\n",
            "274:\tlearn: 0.3174947\ttest: 0.3387091\tbest: 0.3374500 (193)\ttotal: 6.83s\tremaining: 18s\n",
            "276:\tlearn: 0.3168658\ttest: 0.3389152\tbest: 0.3374500 (193)\ttotal: 6.86s\tremaining: 17.9s\n",
            "278:\tlearn: 0.3165510\ttest: 0.3389358\tbest: 0.3374500 (193)\ttotal: 6.89s\tremaining: 17.8s\n",
            "280:\tlearn: 0.3160043\ttest: 0.3390351\tbest: 0.3374500 (193)\ttotal: 6.92s\tremaining: 17.7s\n",
            "282:\tlearn: 0.3157758\ttest: 0.3391372\tbest: 0.3374500 (193)\ttotal: 6.95s\tremaining: 17.6s\n",
            "284:\tlearn: 0.3153416\ttest: 0.3394050\tbest: 0.3374500 (193)\ttotal: 6.98s\tremaining: 17.5s\n",
            "286:\tlearn: 0.3151037\ttest: 0.3395381\tbest: 0.3374500 (193)\ttotal: 7.01s\tremaining: 17.4s\n",
            "288:\tlearn: 0.3145990\ttest: 0.3393197\tbest: 0.3374500 (193)\ttotal: 7.04s\tremaining: 17.3s\n",
            "290:\tlearn: 0.3143542\ttest: 0.3393958\tbest: 0.3374500 (193)\ttotal: 7.07s\tremaining: 17.2s\n",
            "292:\tlearn: 0.3141815\ttest: 0.3395454\tbest: 0.3374500 (193)\ttotal: 7.1s\tremaining: 17.1s\n",
            "Stopped by overfitting detector  (100 iterations wait)\n",
            "\n",
            "bestTest = 0.3374500369\n",
            "bestIteration = 193\n",
            "\n",
            "Shrink model to first 194 iterations.\n"
          ]
        },
        {
          "output_type": "execute_result",
          "data": {
            "text/plain": [
              "<catboost.core.CatBoostClassifier at 0x7f407ccbb990>"
            ]
          },
          "metadata": {},
          "execution_count": 251
        }
      ]
    },
    {
      "cell_type": "markdown",
      "source": [
        "Получим предсказания и посмотрим на метрики"
      ],
      "metadata": {
        "id": "WZyJNISx8bpm"
      }
    },
    {
      "cell_type": "code",
      "source": [
        "y_pred = clf.predict(X_test)\n",
        "get_metrics(y_test, y_pred, name='Catboost')"
      ],
      "metadata": {
        "colab": {
          "base_uri": "https://localhost:8080/",
          "height": 81
        },
        "id": "QKLREYEf5Pqp",
        "outputId": "20db791c-c539-4aea-ae1a-0ccd6ffed9a2"
      },
      "execution_count": null,
      "outputs": [
        {
          "output_type": "execute_result",
          "data": {
            "text/plain": [
              "      model  Accuracy   ROC_AUC  Precision    Recall        f1   Logloss\n",
              "0  Catboost  0.805687  0.682153   0.704545  0.426606  0.531429  6.711363"
            ],
            "text/html": [
              "\n",
              "  <div id=\"df-347f1074-b55a-49b6-9635-fbab3dfcc237\">\n",
              "    <div class=\"colab-df-container\">\n",
              "      <div>\n",
              "<style scoped>\n",
              "    .dataframe tbody tr th:only-of-type {\n",
              "        vertical-align: middle;\n",
              "    }\n",
              "\n",
              "    .dataframe tbody tr th {\n",
              "        vertical-align: top;\n",
              "    }\n",
              "\n",
              "    .dataframe thead th {\n",
              "        text-align: right;\n",
              "    }\n",
              "</style>\n",
              "<table border=\"1\" class=\"dataframe\">\n",
              "  <thead>\n",
              "    <tr style=\"text-align: right;\">\n",
              "      <th></th>\n",
              "      <th>model</th>\n",
              "      <th>Accuracy</th>\n",
              "      <th>ROC_AUC</th>\n",
              "      <th>Precision</th>\n",
              "      <th>Recall</th>\n",
              "      <th>f1</th>\n",
              "      <th>Logloss</th>\n",
              "    </tr>\n",
              "  </thead>\n",
              "  <tbody>\n",
              "    <tr>\n",
              "      <th>0</th>\n",
              "      <td>Catboost</td>\n",
              "      <td>0.805687</td>\n",
              "      <td>0.682153</td>\n",
              "      <td>0.704545</td>\n",
              "      <td>0.426606</td>\n",
              "      <td>0.531429</td>\n",
              "      <td>6.711363</td>\n",
              "    </tr>\n",
              "  </tbody>\n",
              "</table>\n",
              "</div>\n",
              "      <button class=\"colab-df-convert\" onclick=\"convertToInteractive('df-347f1074-b55a-49b6-9635-fbab3dfcc237')\"\n",
              "              title=\"Convert this dataframe to an interactive table.\"\n",
              "              style=\"display:none;\">\n",
              "        \n",
              "  <svg xmlns=\"http://www.w3.org/2000/svg\" height=\"24px\"viewBox=\"0 0 24 24\"\n",
              "       width=\"24px\">\n",
              "    <path d=\"M0 0h24v24H0V0z\" fill=\"none\"/>\n",
              "    <path d=\"M18.56 5.44l.94 2.06.94-2.06 2.06-.94-2.06-.94-.94-2.06-.94 2.06-2.06.94zm-11 1L8.5 8.5l.94-2.06 2.06-.94-2.06-.94L8.5 2.5l-.94 2.06-2.06.94zm10 10l.94 2.06.94-2.06 2.06-.94-2.06-.94-.94-2.06-.94 2.06-2.06.94z\"/><path d=\"M17.41 7.96l-1.37-1.37c-.4-.4-.92-.59-1.43-.59-.52 0-1.04.2-1.43.59L10.3 9.45l-7.72 7.72c-.78.78-.78 2.05 0 2.83L4 21.41c.39.39.9.59 1.41.59.51 0 1.02-.2 1.41-.59l7.78-7.78 2.81-2.81c.8-.78.8-2.07 0-2.86zM5.41 20L4 18.59l7.72-7.72 1.47 1.35L5.41 20z\"/>\n",
              "  </svg>\n",
              "      </button>\n",
              "      \n",
              "  <style>\n",
              "    .colab-df-container {\n",
              "      display:flex;\n",
              "      flex-wrap:wrap;\n",
              "      gap: 12px;\n",
              "    }\n",
              "\n",
              "    .colab-df-convert {\n",
              "      background-color: #E8F0FE;\n",
              "      border: none;\n",
              "      border-radius: 50%;\n",
              "      cursor: pointer;\n",
              "      display: none;\n",
              "      fill: #1967D2;\n",
              "      height: 32px;\n",
              "      padding: 0 0 0 0;\n",
              "      width: 32px;\n",
              "    }\n",
              "\n",
              "    .colab-df-convert:hover {\n",
              "      background-color: #E2EBFA;\n",
              "      box-shadow: 0px 1px 2px rgba(60, 64, 67, 0.3), 0px 1px 3px 1px rgba(60, 64, 67, 0.15);\n",
              "      fill: #174EA6;\n",
              "    }\n",
              "\n",
              "    [theme=dark] .colab-df-convert {\n",
              "      background-color: #3B4455;\n",
              "      fill: #D2E3FC;\n",
              "    }\n",
              "\n",
              "    [theme=dark] .colab-df-convert:hover {\n",
              "      background-color: #434B5C;\n",
              "      box-shadow: 0px 1px 3px 1px rgba(0, 0, 0, 0.15);\n",
              "      filter: drop-shadow(0px 1px 2px rgba(0, 0, 0, 0.3));\n",
              "      fill: #FFFFFF;\n",
              "    }\n",
              "  </style>\n",
              "\n",
              "      <script>\n",
              "        const buttonEl =\n",
              "          document.querySelector('#df-347f1074-b55a-49b6-9635-fbab3dfcc237 button.colab-df-convert');\n",
              "        buttonEl.style.display =\n",
              "          google.colab.kernel.accessAllowed ? 'block' : 'none';\n",
              "\n",
              "        async function convertToInteractive(key) {\n",
              "          const element = document.querySelector('#df-347f1074-b55a-49b6-9635-fbab3dfcc237');\n",
              "          const dataTable =\n",
              "            await google.colab.kernel.invokeFunction('convertToInteractive',\n",
              "                                                     [key], {});\n",
              "          if (!dataTable) return;\n",
              "\n",
              "          const docLinkHtml = 'Like what you see? Visit the ' +\n",
              "            '<a target=\"_blank\" href=https://colab.research.google.com/notebooks/data_table.ipynb>data table notebook</a>'\n",
              "            + ' to learn more about interactive tables.';\n",
              "          element.innerHTML = '';\n",
              "          dataTable['output_type'] = 'display_data';\n",
              "          await google.colab.output.renderOutput(dataTable, element);\n",
              "          const docLink = document.createElement('div');\n",
              "          docLink.innerHTML = docLinkHtml;\n",
              "          element.appendChild(docLink);\n",
              "        }\n",
              "      </script>\n",
              "    </div>\n",
              "  </div>\n",
              "  "
            ]
          },
          "metadata": {},
          "execution_count": 252
        }
      ]
    },
    {
      "cell_type": "markdown",
      "metadata": {
        "id": "d2d9GolXEEZV"
      },
      "source": [
        "Таким образом, roc_auc на тестовой выборке составил 0.68, что немного лучше относительно логистической регрессии. Попробуем подобрать learning_rate и n_estimators при помощи библиотеки optuna"
      ]
    },
    {
      "cell_type": "code",
      "source": [
        "def objective_lgb(trial, X, y, N_FOLDS, random_state, cat_feat):\n",
        "    params = {\n",
        "        \"n_estimators\": trial.suggest_int(\"n_estimators\", 100, 10000),\n",
        "        \"learning_rate\": trial.suggest_float(\"Learning_rate\", 0.001, 0.3),\n",
        "        \"cat_features\":\n",
        "        trial.suggest_categorical(\"cat_features\", [cat_cols]),\n",
        "        \"loss_function\":\n",
        "        trial.suggest_categorical(\"loss_function\", [\"Logloss\"]),\n",
        "        \"use_best_model\":\n",
        "        trial.suggest_categorical(\"use_best_model\", [True]),\n",
        "        \"random_state\":\n",
        "        random_state,\n",
        "        \"scale_pos_weight\": \n",
        "        trial.suggest_categorical(\"scale_pos_weight\", [0.738])\n",
        "    }\n",
        "       \n",
        "    # Внутри проводим кросс-валидацию, возвращаем средний скор на фолдах\n",
        "    cv = StratifiedKFold(n_splits=N_FOLDS, shuffle=True, random_state=random_state)\n",
        "\n",
        "    cv_predicts = np.empty(N_FOLDS)\n",
        "    for idx, (train_idx, test_idx) in enumerate(cv.split(X, y)):\n",
        "        X_train, X_test = X.iloc[train_idx], X.iloc[test_idx]\n",
        "        y_train, y_test = y.iloc[train_idx], y.iloc[test_idx]\n",
        "\n",
        "        X_train_, X_val, y_train_, y_val = train_test_split(X_train,\n",
        "                                                    y_train,\n",
        "                                                    test_size=0.16,\n",
        "                                                    shuffle=True,\n",
        "                                                    random_state=random_state)\n",
        "        eval_set = [(X_val, y_val)]  \n",
        "\n",
        "        model = CatBoostClassifier(**params)\n",
        "        model.fit(X_train_,\n",
        "                  y_train_,\n",
        "                  eval_set=eval_set,\n",
        "                  early_stopping_rounds=100,\n",
        "                  verbose=0)\n",
        "\n",
        "        preds = model.predict(X_test)\n",
        "        cv_predicts[idx] = roc_auc_score(y_test, preds)\n",
        "\n",
        "    return np.mean(cv_predicts)\n",
        "\n",
        "study_cat = optuna.create_study(direction=\"maximize\", study_name=\"Catboost\")\n",
        "func = lambda trial: objective_lgb(\n",
        "    trial, X_train, y_train, N_FOLDS=5, random_state=10, cat_feat=cat_cols)\n",
        "\n",
        "study_cat.optimize(func, n_trials=20, show_progress_bar=True)"
      ],
      "metadata": {
        "colab": {
          "base_uri": "https://localhost:8080/",
          "height": 434,
          "referenced_widgets": [
            "9aedebfb23794ba1aa6d26fa4190f2f5",
            "e473dbf9be39465d860ab1313dd2f13c",
            "a0ba9739eae940cebced16d4910bd3f0",
            "11375c83136842b19b18686d7d8c346d",
            "2cdf58e054e341e483e73184c144e73d",
            "d7a46465812445d792271f16eb6248d0",
            "b78c91c6cbe3406394216065e709314c",
            "063638cdd5af4ce7845e270583cc8756",
            "d8e77342ed6c4feb9c13442231209830",
            "0f175d22bbd84b4995af93082808fb76",
            "690362808a1140ffa15da80f6b62ed34"
          ]
        },
        "id": "ZQ4j_wMs9PxH",
        "outputId": "2ce4ad81-08d2-4142-ef56-82198eb53407"
      },
      "execution_count": null,
      "outputs": [
        {
          "output_type": "stream",
          "name": "stderr",
          "text": [
            "\u001b[32m[I 2022-10-28 00:28:30,306]\u001b[0m A new study created in memory with name: Catboost\u001b[0m\n"
          ]
        },
        {
          "output_type": "display_data",
          "data": {
            "text/plain": [
              "  0%|          | 0/20 [00:00<?, ?it/s]"
            ],
            "application/vnd.jupyter.widget-view+json": {
              "version_major": 2,
              "version_minor": 0,
              "model_id": "9aedebfb23794ba1aa6d26fa4190f2f5"
            }
          },
          "metadata": {}
        },
        {
          "output_type": "stream",
          "name": "stdout",
          "text": [
            "\u001b[32m[I 2022-10-28 00:29:22,377]\u001b[0m Trial 0 finished with value: 0.669807684666307 and parameters: {'n_estimators': 4612, 'Learning_rate': 0.00716288811555379, 'cat_features': ['Sex', 'IsSeniorCitizen', 'HasPartner', 'HasChild', 'HasPhoneService', 'HasMultiplePhoneNumbers', 'HasInternetService', 'HasOnlineSecurityService', 'HasOnlineBackup', 'HasDeviceProtection', 'HasTechSupportAccess', 'HasOnlineTV', 'HasMovieSubscription', 'HasContractPhone', 'IsBillingPaperless', 'PaymentMethod'], 'loss_function': 'Logloss', 'use_best_model': True, 'scale_pos_weight': 0.738}. Best is trial 0 with value: 0.669807684666307.\u001b[0m\n",
            "\u001b[32m[I 2022-10-28 00:29:32,177]\u001b[0m Trial 1 finished with value: 0.673846903689282 and parameters: {'n_estimators': 618, 'Learning_rate': 0.13284331779246045, 'cat_features': ['Sex', 'IsSeniorCitizen', 'HasPartner', 'HasChild', 'HasPhoneService', 'HasMultiplePhoneNumbers', 'HasInternetService', 'HasOnlineSecurityService', 'HasOnlineBackup', 'HasDeviceProtection', 'HasTechSupportAccess', 'HasOnlineTV', 'HasMovieSubscription', 'HasContractPhone', 'IsBillingPaperless', 'PaymentMethod'], 'loss_function': 'Logloss', 'use_best_model': True, 'scale_pos_weight': 0.738}. Best is trial 1 with value: 0.673846903689282.\u001b[0m\n",
            "\u001b[32m[I 2022-10-28 00:31:16,113]\u001b[0m Trial 2 finished with value: 0.6701816696631908 and parameters: {'n_estimators': 3773, 'Learning_rate': 0.003421876953474481, 'cat_features': ['Sex', 'IsSeniorCitizen', 'HasPartner', 'HasChild', 'HasPhoneService', 'HasMultiplePhoneNumbers', 'HasInternetService', 'HasOnlineSecurityService', 'HasOnlineBackup', 'HasDeviceProtection', 'HasTechSupportAccess', 'HasOnlineTV', 'HasMovieSubscription', 'HasContractPhone', 'IsBillingPaperless', 'PaymentMethod'], 'loss_function': 'Logloss', 'use_best_model': True, 'scale_pos_weight': 0.738}. Best is trial 1 with value: 0.673846903689282.\u001b[0m\n",
            "\u001b[32m[I 2022-10-28 00:31:28,137]\u001b[0m Trial 3 finished with value: 0.6729730597386363 and parameters: {'n_estimators': 7789, 'Learning_rate': 0.07234361806559823, 'cat_features': ['Sex', 'IsSeniorCitizen', 'HasPartner', 'HasChild', 'HasPhoneService', 'HasMultiplePhoneNumbers', 'HasInternetService', 'HasOnlineSecurityService', 'HasOnlineBackup', 'HasDeviceProtection', 'HasTechSupportAccess', 'HasOnlineTV', 'HasMovieSubscription', 'HasContractPhone', 'IsBillingPaperless', 'PaymentMethod'], 'loss_function': 'Logloss', 'use_best_model': True, 'scale_pos_weight': 0.738}. Best is trial 1 with value: 0.673846903689282.\u001b[0m\n",
            "\u001b[32m[I 2022-10-28 00:31:36,088]\u001b[0m Trial 4 finished with value: 0.6692961682878291 and parameters: {'n_estimators': 3541, 'Learning_rate': 0.19531224630038913, 'cat_features': ['Sex', 'IsSeniorCitizen', 'HasPartner', 'HasChild', 'HasPhoneService', 'HasMultiplePhoneNumbers', 'HasInternetService', 'HasOnlineSecurityService', 'HasOnlineBackup', 'HasDeviceProtection', 'HasTechSupportAccess', 'HasOnlineTV', 'HasMovieSubscription', 'HasContractPhone', 'IsBillingPaperless', 'PaymentMethod'], 'loss_function': 'Logloss', 'use_best_model': True, 'scale_pos_weight': 0.738}. Best is trial 1 with value: 0.673846903689282.\u001b[0m\n",
            "\u001b[32m[I 2022-10-28 00:31:59,373]\u001b[0m Trial 5 finished with value: 0.6739806201853304 and parameters: {'n_estimators': 7026, 'Learning_rate': 0.02498046076867286, 'cat_features': ['Sex', 'IsSeniorCitizen', 'HasPartner', 'HasChild', 'HasPhoneService', 'HasMultiplePhoneNumbers', 'HasInternetService', 'HasOnlineSecurityService', 'HasOnlineBackup', 'HasDeviceProtection', 'HasTechSupportAccess', 'HasOnlineTV', 'HasMovieSubscription', 'HasContractPhone', 'IsBillingPaperless', 'PaymentMethod'], 'loss_function': 'Logloss', 'use_best_model': True, 'scale_pos_weight': 0.738}. Best is trial 5 with value: 0.6739806201853304.\u001b[0m\n",
            "\u001b[32m[I 2022-10-28 00:32:07,390]\u001b[0m Trial 6 finished with value: 0.6713523823350405 and parameters: {'n_estimators': 4296, 'Learning_rate': 0.2527909885221036, 'cat_features': ['Sex', 'IsSeniorCitizen', 'HasPartner', 'HasChild', 'HasPhoneService', 'HasMultiplePhoneNumbers', 'HasInternetService', 'HasOnlineSecurityService', 'HasOnlineBackup', 'HasDeviceProtection', 'HasTechSupportAccess', 'HasOnlineTV', 'HasMovieSubscription', 'HasContractPhone', 'IsBillingPaperless', 'PaymentMethod'], 'loss_function': 'Logloss', 'use_best_model': True, 'scale_pos_weight': 0.738}. Best is trial 5 with value: 0.6739806201853304.\u001b[0m\n",
            "\u001b[32m[I 2022-10-28 00:32:15,468]\u001b[0m Trial 7 finished with value: 0.6742826681614578 and parameters: {'n_estimators': 9823, 'Learning_rate': 0.23903203071291257, 'cat_features': ['Sex', 'IsSeniorCitizen', 'HasPartner', 'HasChild', 'HasPhoneService', 'HasMultiplePhoneNumbers', 'HasInternetService', 'HasOnlineSecurityService', 'HasOnlineBackup', 'HasDeviceProtection', 'HasTechSupportAccess', 'HasOnlineTV', 'HasMovieSubscription', 'HasContractPhone', 'IsBillingPaperless', 'PaymentMethod'], 'loss_function': 'Logloss', 'use_best_model': True, 'scale_pos_weight': 0.738}. Best is trial 7 with value: 0.6742826681614578.\u001b[0m\n",
            "\u001b[32m[I 2022-10-28 00:32:23,558]\u001b[0m Trial 8 finished with value: 0.6781876444934125 and parameters: {'n_estimators': 3835, 'Learning_rate': 0.24749271734484252, 'cat_features': ['Sex', 'IsSeniorCitizen', 'HasPartner', 'HasChild', 'HasPhoneService', 'HasMultiplePhoneNumbers', 'HasInternetService', 'HasOnlineSecurityService', 'HasOnlineBackup', 'HasDeviceProtection', 'HasTechSupportAccess', 'HasOnlineTV', 'HasMovieSubscription', 'HasContractPhone', 'IsBillingPaperless', 'PaymentMethod'], 'loss_function': 'Logloss', 'use_best_model': True, 'scale_pos_weight': 0.738}. Best is trial 8 with value: 0.6781876444934125.\u001b[0m\n",
            "\u001b[32m[I 2022-10-28 00:32:33,159]\u001b[0m Trial 9 finished with value: 0.6696629140436343 and parameters: {'n_estimators': 2290, 'Learning_rate': 0.17373057008838327, 'cat_features': ['Sex', 'IsSeniorCitizen', 'HasPartner', 'HasChild', 'HasPhoneService', 'HasMultiplePhoneNumbers', 'HasInternetService', 'HasOnlineSecurityService', 'HasOnlineBackup', 'HasDeviceProtection', 'HasTechSupportAccess', 'HasOnlineTV', 'HasMovieSubscription', 'HasContractPhone', 'IsBillingPaperless', 'PaymentMethod'], 'loss_function': 'Logloss', 'use_best_model': True, 'scale_pos_weight': 0.738}. Best is trial 8 with value: 0.6781876444934125.\u001b[0m\n",
            "\u001b[32m[I 2022-10-28 00:32:35,728]\u001b[0m Trial 10 finished with value: 0.6824696102419209 and parameters: {'n_estimators': 106, 'Learning_rate': 0.2934399917956053, 'cat_features': ['Sex', 'IsSeniorCitizen', 'HasPartner', 'HasChild', 'HasPhoneService', 'HasMultiplePhoneNumbers', 'HasInternetService', 'HasOnlineSecurityService', 'HasOnlineBackup', 'HasDeviceProtection', 'HasTechSupportAccess', 'HasOnlineTV', 'HasMovieSubscription', 'HasContractPhone', 'IsBillingPaperless', 'PaymentMethod'], 'loss_function': 'Logloss', 'use_best_model': True, 'scale_pos_weight': 0.738}. Best is trial 10 with value: 0.6824696102419209.\u001b[0m\n",
            "\u001b[32m[I 2022-10-28 00:32:43,655]\u001b[0m Trial 11 finished with value: 0.6774139065923734 and parameters: {'n_estimators': 276, 'Learning_rate': 0.2968924947812333, 'cat_features': ['Sex', 'IsSeniorCitizen', 'HasPartner', 'HasChild', 'HasPhoneService', 'HasMultiplePhoneNumbers', 'HasInternetService', 'HasOnlineSecurityService', 'HasOnlineBackup', 'HasDeviceProtection', 'HasTechSupportAccess', 'HasOnlineTV', 'HasMovieSubscription', 'HasContractPhone', 'IsBillingPaperless', 'PaymentMethod'], 'loss_function': 'Logloss', 'use_best_model': True, 'scale_pos_weight': 0.738}. Best is trial 10 with value: 0.6824696102419209.\u001b[0m\n",
            "\u001b[32m[I 2022-10-28 00:32:51,787]\u001b[0m Trial 12 finished with value: 0.6808639308898761 and parameters: {'n_estimators': 2059, 'Learning_rate': 0.2958952075209084, 'cat_features': ['Sex', 'IsSeniorCitizen', 'HasPartner', 'HasChild', 'HasPhoneService', 'HasMultiplePhoneNumbers', 'HasInternetService', 'HasOnlineSecurityService', 'HasOnlineBackup', 'HasDeviceProtection', 'HasTechSupportAccess', 'HasOnlineTV', 'HasMovieSubscription', 'HasContractPhone', 'IsBillingPaperless', 'PaymentMethod'], 'loss_function': 'Logloss', 'use_best_model': True, 'scale_pos_weight': 0.738}. Best is trial 10 with value: 0.6824696102419209.\u001b[0m\n",
            "\u001b[32m[I 2022-10-28 00:33:02,181]\u001b[0m Trial 13 finished with value: 0.6654307337163607 and parameters: {'n_estimators': 1809, 'Learning_rate': 0.28849184455486043, 'cat_features': ['Sex', 'IsSeniorCitizen', 'HasPartner', 'HasChild', 'HasPhoneService', 'HasMultiplePhoneNumbers', 'HasInternetService', 'HasOnlineSecurityService', 'HasOnlineBackup', 'HasDeviceProtection', 'HasTechSupportAccess', 'HasOnlineTV', 'HasMovieSubscription', 'HasContractPhone', 'IsBillingPaperless', 'PaymentMethod'], 'loss_function': 'Logloss', 'use_best_model': True, 'scale_pos_weight': 0.738}. Best is trial 10 with value: 0.6824696102419209.\u001b[0m\n",
            "\u001b[32m[I 2022-10-28 00:33:11,034]\u001b[0m Trial 14 finished with value: 0.6770779568511467 and parameters: {'n_estimators': 1929, 'Learning_rate': 0.21638726522397816, 'cat_features': ['Sex', 'IsSeniorCitizen', 'HasPartner', 'HasChild', 'HasPhoneService', 'HasMultiplePhoneNumbers', 'HasInternetService', 'HasOnlineSecurityService', 'HasOnlineBackup', 'HasDeviceProtection', 'HasTechSupportAccess', 'HasOnlineTV', 'HasMovieSubscription', 'HasContractPhone', 'IsBillingPaperless', 'PaymentMethod'], 'loss_function': 'Logloss', 'use_best_model': True, 'scale_pos_weight': 0.738}. Best is trial 10 with value: 0.6824696102419209.\u001b[0m\n",
            "\u001b[32m[I 2022-10-28 00:33:19,952]\u001b[0m Trial 15 finished with value: 0.6678869355440417 and parameters: {'n_estimators': 5996, 'Learning_rate': 0.12695477612739178, 'cat_features': ['Sex', 'IsSeniorCitizen', 'HasPartner', 'HasChild', 'HasPhoneService', 'HasMultiplePhoneNumbers', 'HasInternetService', 'HasOnlineSecurityService', 'HasOnlineBackup', 'HasDeviceProtection', 'HasTechSupportAccess', 'HasOnlineTV', 'HasMovieSubscription', 'HasContractPhone', 'IsBillingPaperless', 'PaymentMethod'], 'loss_function': 'Logloss', 'use_best_model': True, 'scale_pos_weight': 0.738}. Best is trial 10 with value: 0.6824696102419209.\u001b[0m\n",
            "\u001b[32m[I 2022-10-28 00:33:27,403]\u001b[0m Trial 16 finished with value: 0.6709891193415225 and parameters: {'n_estimators': 1143, 'Learning_rate': 0.274564336129896, 'cat_features': ['Sex', 'IsSeniorCitizen', 'HasPartner', 'HasChild', 'HasPhoneService', 'HasMultiplePhoneNumbers', 'HasInternetService', 'HasOnlineSecurityService', 'HasOnlineBackup', 'HasDeviceProtection', 'HasTechSupportAccess', 'HasOnlineTV', 'HasMovieSubscription', 'HasContractPhone', 'IsBillingPaperless', 'PaymentMethod'], 'loss_function': 'Logloss', 'use_best_model': True, 'scale_pos_weight': 0.738}. Best is trial 10 with value: 0.6824696102419209.\u001b[0m\n",
            "\u001b[32m[I 2022-10-28 00:33:35,403]\u001b[0m Trial 17 finished with value: 0.6794719996500979 and parameters: {'n_estimators': 2674, 'Learning_rate': 0.20628250768658357, 'cat_features': ['Sex', 'IsSeniorCitizen', 'HasPartner', 'HasChild', 'HasPhoneService', 'HasMultiplePhoneNumbers', 'HasInternetService', 'HasOnlineSecurityService', 'HasOnlineBackup', 'HasDeviceProtection', 'HasTechSupportAccess', 'HasOnlineTV', 'HasMovieSubscription', 'HasContractPhone', 'IsBillingPaperless', 'PaymentMethod'], 'loss_function': 'Logloss', 'use_best_model': True, 'scale_pos_weight': 0.738}. Best is trial 10 with value: 0.6824696102419209.\u001b[0m\n",
            "\u001b[32m[I 2022-10-28 00:33:44,900]\u001b[0m Trial 18 finished with value: 0.6795277616960609 and parameters: {'n_estimators': 1258, 'Learning_rate': 0.16526563204576664, 'cat_features': ['Sex', 'IsSeniorCitizen', 'HasPartner', 'HasChild', 'HasPhoneService', 'HasMultiplePhoneNumbers', 'HasInternetService', 'HasOnlineSecurityService', 'HasOnlineBackup', 'HasDeviceProtection', 'HasTechSupportAccess', 'HasOnlineTV', 'HasMovieSubscription', 'HasContractPhone', 'IsBillingPaperless', 'PaymentMethod'], 'loss_function': 'Logloss', 'use_best_model': True, 'scale_pos_weight': 0.738}. Best is trial 10 with value: 0.6824696102419209.\u001b[0m\n",
            "\u001b[32m[I 2022-10-28 00:33:55,311]\u001b[0m Trial 19 finished with value: 0.6697259198367582 and parameters: {'n_estimators': 3041, 'Learning_rate': 0.10004652217351365, 'cat_features': ['Sex', 'IsSeniorCitizen', 'HasPartner', 'HasChild', 'HasPhoneService', 'HasMultiplePhoneNumbers', 'HasInternetService', 'HasOnlineSecurityService', 'HasOnlineBackup', 'HasDeviceProtection', 'HasTechSupportAccess', 'HasOnlineTV', 'HasMovieSubscription', 'HasContractPhone', 'IsBillingPaperless', 'PaymentMethod'], 'loss_function': 'Logloss', 'use_best_model': True, 'scale_pos_weight': 0.738}. Best is trial 10 with value: 0.6824696102419209.\u001b[0m\n"
          ]
        }
      ]
    },
    {
      "cell_type": "markdown",
      "source": [
        "Теперь подберём другие гиперпараметры с подобранным числом деревьев 3401 и learning_rate, равном 0.1"
      ],
      "metadata": {
        "id": "6FFNDy4aCuEc"
      }
    },
    {
      "cell_type": "code",
      "source": [
        "def objective_lgb(trial, X, y, N_FOLDS, random_state, cat_feat):\n",
        "    params = {\n",
        "        \"n_estimators\":\n",
        "        trial.suggest_categorical(\"n_estimators\", [3401]),\n",
        "        \"learning_rate\":\n",
        "        trial.suggest_categorical(\"learning_rate\", [0.1]),\n",
        "        \"max_depth\":\n",
        "        trial.suggest_int(\"max_depth\", 3, 12),\n",
        "        \"l2_leaf_reg\":\n",
        "        trial.suggest_uniform(\"l2_leaf_reg\", 1e-5, 1e2),\n",
        "        \"bootstrap_type\":\n",
        "        trial.suggest_categorical(\"bootstrap_type\",\n",
        "                                  [\"Bayesian\", \"Bernoulli\", \"MVS\", \"No\"]),\n",
        "        \"border_count\":\n",
        "        trial.suggest_categorical('border_count', [128, 254]),\n",
        "        \"grow_policy\":\n",
        "        trial.suggest_categorical('grow_policy',\n",
        "                                  [\"SymmetricTree\", \"Depthwise\", \"Lossguide\"]),\n",
        "        \"auto_class_weights\":\n",
        "        trial.suggest_categorical(\"auto_class_weights\",\n",
        "                                  [\"None\", \"Balanced\", \"SqrtBalanced\"]),\n",
        "        \n",
        "        \"cat_features\":\n",
        "        trial.suggest_categorical(\"cat_features\", [cat_feat]),\n",
        "        \"loss_function\":\n",
        "        trial.suggest_categorical(\"loss_function\", [\"Logloss\"]),\n",
        "        \"use_best_model\":\n",
        "        trial.suggest_categorical(\"use_best_model\", [True]),\n",
        "        \"random_state\":\n",
        "        random_state\n",
        "    }\n",
        "\n",
        "    if params[\"bootstrap_type\"] == \"Bayesian\":\n",
        "        params[\"bagging_temperature\"] = trial.suggest_float(\n",
        "            \"bagging_temperature\", 0, 10)\n",
        "    elif params[\"bootstrap_type\"] == \"Bernoulli\":\n",
        "        params[\"subsample\"] = trial.suggest_float(\"subsample\",\n",
        "                                                  0.1,\n",
        "                                                  1,\n",
        "                                                  log=True)\n",
        "        \n",
        "    cv = StratifiedKFold(n_splits=N_FOLDS, shuffle=True, random_state=random_state)\n",
        "\n",
        "    cv_predicts = np.empty(N_FOLDS)\n",
        "    for idx, (train_idx, test_idx) in enumerate(cv.split(X, y)):\n",
        "        X_train, X_test = X.iloc[train_idx], X.iloc[test_idx]\n",
        "        y_train, y_test = y.iloc[train_idx], y.iloc[test_idx]\n",
        "\n",
        "        X_train_, X_val, y_train_, y_val = train_test_split(X_train,\n",
        "                                                    y_train,\n",
        "                                                    test_size=0.16,\n",
        "                                                    shuffle=True,\n",
        "                                                    random_state=random_state)\n",
        "        eval_set = [(X_val, y_val)]  \n",
        "\n",
        "        model = CatBoostClassifier(**params)\n",
        "        model.fit(X_train_,\n",
        "                  y_train_,\n",
        "                  eval_set=eval_set,\n",
        "                  early_stopping_rounds=100,\n",
        "                  verbose=0)\n",
        "\n",
        "        preds = model.predict(X_test)\n",
        "        cv_predicts[idx] = roc_auc_score(y_test, preds)\n",
        "\n",
        "    return np.mean(cv_predicts)\n",
        "\n",
        "study_cat = optuna.create_study(direction=\"maximize\", study_name=\"Catboost\")\n",
        "func = lambda trial: objective_lgb(\n",
        "    trial, X_train, y_train, N_FOLDS=5, random_state=10, cat_feat=cat_cols)\n",
        "\n",
        "study_cat.optimize(func, n_trials=20, show_progress_bar=True)"
      ],
      "metadata": {
        "colab": {
          "base_uri": "https://localhost:8080/",
          "height": 434,
          "referenced_widgets": [
            "cb1b2f0e4dc8470f9ced6cd4dfb5b128",
            "f6b37f26a89b4595919942c8312851d9",
            "35d94bf387734ac68ef65e1b43360473",
            "f103656594f148e8b0e7ae02235a3c85",
            "12826db6103542d38a810086136c4faa",
            "6d052cd068b74dea921f7331c3d56fbc",
            "b1e6595a6a8a45d297efcfb31c2ced95",
            "686369bd24f24e16a964719f3c5152e3",
            "e20d403cd97e473595669fff829403c9",
            "8f1e8de277bc4925831a5c9210e93dfc",
            "809f77d2bc914ea8b568f8d8a819444b"
          ]
        },
        "id": "Jj5XI6nHCzEB",
        "outputId": "aef882f4-ebd5-4ae9-fcca-920e8849d273"
      },
      "execution_count": null,
      "outputs": [
        {
          "output_type": "stream",
          "name": "stderr",
          "text": [
            "\u001b[32m[I 2022-10-28 00:45:30,915]\u001b[0m A new study created in memory with name: Catboost\u001b[0m\n"
          ]
        },
        {
          "output_type": "display_data",
          "data": {
            "text/plain": [
              "  0%|          | 0/20 [00:00<?, ?it/s]"
            ],
            "application/vnd.jupyter.widget-view+json": {
              "version_major": 2,
              "version_minor": 0,
              "model_id": "cb1b2f0e4dc8470f9ced6cd4dfb5b128"
            }
          },
          "metadata": {}
        },
        {
          "output_type": "stream",
          "name": "stdout",
          "text": [
            "\u001b[32m[I 2022-10-28 00:45:41,274]\u001b[0m Trial 0 finished with value: 0.7631641758461328 and parameters: {'n_estimators': 3401, 'learning_rate': 0.1, 'max_depth': 3, 'l2_leaf_reg': 85.86624495921515, 'bootstrap_type': 'Bernoulli', 'border_count': 254, 'grow_policy': 'SymmetricTree', 'auto_class_weights': 'Balanced', 'cat_features': ['Sex', 'IsSeniorCitizen', 'HasPartner', 'HasChild', 'HasPhoneService', 'HasMultiplePhoneNumbers', 'HasInternetService', 'HasOnlineSecurityService', 'HasOnlineBackup', 'HasDeviceProtection', 'HasTechSupportAccess', 'HasOnlineTV', 'HasMovieSubscription', 'HasContractPhone', 'IsBillingPaperless', 'PaymentMethod'], 'loss_function': 'Logloss', 'use_best_model': True, 'subsample': 0.7427140352971795}. Best is trial 0 with value: 0.7631641758461328.\u001b[0m\n",
            "\u001b[32m[I 2022-10-28 00:45:52,838]\u001b[0m Trial 1 finished with value: 0.7172525799388676 and parameters: {'n_estimators': 3401, 'learning_rate': 0.1, 'max_depth': 8, 'l2_leaf_reg': 4.221569841922679, 'bootstrap_type': 'No', 'border_count': 254, 'grow_policy': 'Lossguide', 'auto_class_weights': 'None', 'cat_features': ['Sex', 'IsSeniorCitizen', 'HasPartner', 'HasChild', 'HasPhoneService', 'HasMultiplePhoneNumbers', 'HasInternetService', 'HasOnlineSecurityService', 'HasOnlineBackup', 'HasDeviceProtection', 'HasTechSupportAccess', 'HasOnlineTV', 'HasMovieSubscription', 'HasContractPhone', 'IsBillingPaperless', 'PaymentMethod'], 'loss_function': 'Logloss', 'use_best_model': True}. Best is trial 0 with value: 0.7631641758461328.\u001b[0m\n",
            "\u001b[32m[I 2022-10-28 00:46:12,135]\u001b[0m Trial 2 finished with value: 0.7417837175505061 and parameters: {'n_estimators': 3401, 'learning_rate': 0.1, 'max_depth': 6, 'l2_leaf_reg': 51.557277232159414, 'bootstrap_type': 'Bayesian', 'border_count': 128, 'grow_policy': 'Lossguide', 'auto_class_weights': 'SqrtBalanced', 'cat_features': ['Sex', 'IsSeniorCitizen', 'HasPartner', 'HasChild', 'HasPhoneService', 'HasMultiplePhoneNumbers', 'HasInternetService', 'HasOnlineSecurityService', 'HasOnlineBackup', 'HasDeviceProtection', 'HasTechSupportAccess', 'HasOnlineTV', 'HasMovieSubscription', 'HasContractPhone', 'IsBillingPaperless', 'PaymentMethod'], 'loss_function': 'Logloss', 'use_best_model': True, 'bagging_temperature': 9.161562856707413}. Best is trial 0 with value: 0.7631641758461328.\u001b[0m\n",
            "\u001b[32m[I 2022-10-28 00:46:27,727]\u001b[0m Trial 3 finished with value: 0.7477495609896235 and parameters: {'n_estimators': 3401, 'learning_rate': 0.1, 'max_depth': 8, 'l2_leaf_reg': 33.132520958098674, 'bootstrap_type': 'No', 'border_count': 254, 'grow_policy': 'Depthwise', 'auto_class_weights': 'SqrtBalanced', 'cat_features': ['Sex', 'IsSeniorCitizen', 'HasPartner', 'HasChild', 'HasPhoneService', 'HasMultiplePhoneNumbers', 'HasInternetService', 'HasOnlineSecurityService', 'HasOnlineBackup', 'HasDeviceProtection', 'HasTechSupportAccess', 'HasOnlineTV', 'HasMovieSubscription', 'HasContractPhone', 'IsBillingPaperless', 'PaymentMethod'], 'loss_function': 'Logloss', 'use_best_model': True}. Best is trial 0 with value: 0.7631641758461328.\u001b[0m\n",
            "\u001b[32m[I 2022-10-28 00:46:39,776]\u001b[0m Trial 4 finished with value: 0.7530432700699733 and parameters: {'n_estimators': 3401, 'learning_rate': 0.1, 'max_depth': 4, 'l2_leaf_reg': 55.719224809708585, 'bootstrap_type': 'MVS', 'border_count': 128, 'grow_policy': 'SymmetricTree', 'auto_class_weights': 'SqrtBalanced', 'cat_features': ['Sex', 'IsSeniorCitizen', 'HasPartner', 'HasChild', 'HasPhoneService', 'HasMultiplePhoneNumbers', 'HasInternetService', 'HasOnlineSecurityService', 'HasOnlineBackup', 'HasDeviceProtection', 'HasTechSupportAccess', 'HasOnlineTV', 'HasMovieSubscription', 'HasContractPhone', 'IsBillingPaperless', 'PaymentMethod'], 'loss_function': 'Logloss', 'use_best_model': True}. Best is trial 0 with value: 0.7631641758461328.\u001b[0m\n",
            "\u001b[32m[I 2022-10-28 00:46:47,459]\u001b[0m Trial 5 finished with value: 0.7536891622627586 and parameters: {'n_estimators': 3401, 'learning_rate': 0.1, 'max_depth': 4, 'l2_leaf_reg': 7.96119124035482, 'bootstrap_type': 'No', 'border_count': 254, 'grow_policy': 'SymmetricTree', 'auto_class_weights': 'SqrtBalanced', 'cat_features': ['Sex', 'IsSeniorCitizen', 'HasPartner', 'HasChild', 'HasPhoneService', 'HasMultiplePhoneNumbers', 'HasInternetService', 'HasOnlineSecurityService', 'HasOnlineBackup', 'HasDeviceProtection', 'HasTechSupportAccess', 'HasOnlineTV', 'HasMovieSubscription', 'HasContractPhone', 'IsBillingPaperless', 'PaymentMethod'], 'loss_function': 'Logloss', 'use_best_model': True}. Best is trial 0 with value: 0.7631641758461328.\u001b[0m\n",
            "\u001b[32m[I 2022-10-28 00:46:54,308]\u001b[0m Trial 6 finished with value: 0.7546465528065217 and parameters: {'n_estimators': 3401, 'learning_rate': 0.1, 'max_depth': 3, 'l2_leaf_reg': 8.944848181756054, 'bootstrap_type': 'Bayesian', 'border_count': 254, 'grow_policy': 'Lossguide', 'auto_class_weights': 'SqrtBalanced', 'cat_features': ['Sex', 'IsSeniorCitizen', 'HasPartner', 'HasChild', 'HasPhoneService', 'HasMultiplePhoneNumbers', 'HasInternetService', 'HasOnlineSecurityService', 'HasOnlineBackup', 'HasDeviceProtection', 'HasTechSupportAccess', 'HasOnlineTV', 'HasMovieSubscription', 'HasContractPhone', 'IsBillingPaperless', 'PaymentMethod'], 'loss_function': 'Logloss', 'use_best_model': True, 'bagging_temperature': 2.3100705358855}. Best is trial 0 with value: 0.7631641758461328.\u001b[0m\n",
            "\u001b[32m[I 2022-10-28 00:47:01,799]\u001b[0m Trial 7 finished with value: 0.7665316873388719 and parameters: {'n_estimators': 3401, 'learning_rate': 0.1, 'max_depth': 4, 'l2_leaf_reg': 27.161847415664745, 'bootstrap_type': 'MVS', 'border_count': 128, 'grow_policy': 'Lossguide', 'auto_class_weights': 'Balanced', 'cat_features': ['Sex', 'IsSeniorCitizen', 'HasPartner', 'HasChild', 'HasPhoneService', 'HasMultiplePhoneNumbers', 'HasInternetService', 'HasOnlineSecurityService', 'HasOnlineBackup', 'HasDeviceProtection', 'HasTechSupportAccess', 'HasOnlineTV', 'HasMovieSubscription', 'HasContractPhone', 'IsBillingPaperless', 'PaymentMethod'], 'loss_function': 'Logloss', 'use_best_model': True}. Best is trial 7 with value: 0.7665316873388719.\u001b[0m\n",
            "\u001b[32m[I 2022-10-28 00:47:10,982]\u001b[0m Trial 8 finished with value: 0.7539358730570438 and parameters: {'n_estimators': 3401, 'learning_rate': 0.1, 'max_depth': 5, 'l2_leaf_reg': 96.16384788122625, 'bootstrap_type': 'Bernoulli', 'border_count': 254, 'grow_policy': 'Lossguide', 'auto_class_weights': 'SqrtBalanced', 'cat_features': ['Sex', 'IsSeniorCitizen', 'HasPartner', 'HasChild', 'HasPhoneService', 'HasMultiplePhoneNumbers', 'HasInternetService', 'HasOnlineSecurityService', 'HasOnlineBackup', 'HasDeviceProtection', 'HasTechSupportAccess', 'HasOnlineTV', 'HasMovieSubscription', 'HasContractPhone', 'IsBillingPaperless', 'PaymentMethod'], 'loss_function': 'Logloss', 'use_best_model': True, 'subsample': 0.6509527867740819}. Best is trial 7 with value: 0.7665316873388719.\u001b[0m\n",
            "\u001b[32m[I 2022-10-28 00:47:25,548]\u001b[0m Trial 9 finished with value: 0.7654697815740297 and parameters: {'n_estimators': 3401, 'learning_rate': 0.1, 'max_depth': 7, 'l2_leaf_reg': 81.59570499781645, 'bootstrap_type': 'Bernoulli', 'border_count': 128, 'grow_policy': 'SymmetricTree', 'auto_class_weights': 'Balanced', 'cat_features': ['Sex', 'IsSeniorCitizen', 'HasPartner', 'HasChild', 'HasPhoneService', 'HasMultiplePhoneNumbers', 'HasInternetService', 'HasOnlineSecurityService', 'HasOnlineBackup', 'HasDeviceProtection', 'HasTechSupportAccess', 'HasOnlineTV', 'HasMovieSubscription', 'HasContractPhone', 'IsBillingPaperless', 'PaymentMethod'], 'loss_function': 'Logloss', 'use_best_model': True, 'subsample': 0.24136879303571343}. Best is trial 7 with value: 0.7665316873388719.\u001b[0m\n",
            "\u001b[32m[I 2022-10-28 00:47:53,941]\u001b[0m Trial 10 finished with value: 0.7687955850610179 and parameters: {'n_estimators': 3401, 'learning_rate': 0.1, 'max_depth': 11, 'l2_leaf_reg': 31.47168049538291, 'bootstrap_type': 'MVS', 'border_count': 128, 'grow_policy': 'Depthwise', 'auto_class_weights': 'Balanced', 'cat_features': ['Sex', 'IsSeniorCitizen', 'HasPartner', 'HasChild', 'HasPhoneService', 'HasMultiplePhoneNumbers', 'HasInternetService', 'HasOnlineSecurityService', 'HasOnlineBackup', 'HasDeviceProtection', 'HasTechSupportAccess', 'HasOnlineTV', 'HasMovieSubscription', 'HasContractPhone', 'IsBillingPaperless', 'PaymentMethod'], 'loss_function': 'Logloss', 'use_best_model': True}. Best is trial 10 with value: 0.7687955850610179.\u001b[0m\n",
            "\u001b[32m[I 2022-10-28 00:48:36,761]\u001b[0m Trial 11 finished with value: 0.7648497949178854 and parameters: {'n_estimators': 3401, 'learning_rate': 0.1, 'max_depth': 12, 'l2_leaf_reg': 34.01049517433987, 'bootstrap_type': 'MVS', 'border_count': 128, 'grow_policy': 'Depthwise', 'auto_class_weights': 'Balanced', 'cat_features': ['Sex', 'IsSeniorCitizen', 'HasPartner', 'HasChild', 'HasPhoneService', 'HasMultiplePhoneNumbers', 'HasInternetService', 'HasOnlineSecurityService', 'HasOnlineBackup', 'HasDeviceProtection', 'HasTechSupportAccess', 'HasOnlineTV', 'HasMovieSubscription', 'HasContractPhone', 'IsBillingPaperless', 'PaymentMethod'], 'loss_function': 'Logloss', 'use_best_model': True}. Best is trial 10 with value: 0.7687955850610179.\u001b[0m\n",
            "\u001b[32m[I 2022-10-28 00:49:04,196]\u001b[0m Trial 12 finished with value: 0.7692630891369348 and parameters: {'n_estimators': 3401, 'learning_rate': 0.1, 'max_depth': 11, 'l2_leaf_reg': 29.553404326108495, 'bootstrap_type': 'MVS', 'border_count': 128, 'grow_policy': 'Depthwise', 'auto_class_weights': 'Balanced', 'cat_features': ['Sex', 'IsSeniorCitizen', 'HasPartner', 'HasChild', 'HasPhoneService', 'HasMultiplePhoneNumbers', 'HasInternetService', 'HasOnlineSecurityService', 'HasOnlineBackup', 'HasDeviceProtection', 'HasTechSupportAccess', 'HasOnlineTV', 'HasMovieSubscription', 'HasContractPhone', 'IsBillingPaperless', 'PaymentMethod'], 'loss_function': 'Logloss', 'use_best_model': True}. Best is trial 12 with value: 0.7692630891369348.\u001b[0m\n",
            "\u001b[32m[I 2022-10-28 00:49:50,688]\u001b[0m Trial 13 finished with value: 0.7628513715325321 and parameters: {'n_estimators': 3401, 'learning_rate': 0.1, 'max_depth': 12, 'l2_leaf_reg': 22.9515567453931, 'bootstrap_type': 'MVS', 'border_count': 128, 'grow_policy': 'Depthwise', 'auto_class_weights': 'Balanced', 'cat_features': ['Sex', 'IsSeniorCitizen', 'HasPartner', 'HasChild', 'HasPhoneService', 'HasMultiplePhoneNumbers', 'HasInternetService', 'HasOnlineSecurityService', 'HasOnlineBackup', 'HasDeviceProtection', 'HasTechSupportAccess', 'HasOnlineTV', 'HasMovieSubscription', 'HasContractPhone', 'IsBillingPaperless', 'PaymentMethod'], 'loss_function': 'Logloss', 'use_best_model': True}. Best is trial 12 with value: 0.7692630891369348.\u001b[0m\n",
            "\u001b[32m[I 2022-10-28 00:50:15,153]\u001b[0m Trial 14 finished with value: 0.7076055664590859 and parameters: {'n_estimators': 3401, 'learning_rate': 0.1, 'max_depth': 10, 'l2_leaf_reg': 63.17166009453056, 'bootstrap_type': 'MVS', 'border_count': 128, 'grow_policy': 'Depthwise', 'auto_class_weights': 'None', 'cat_features': ['Sex', 'IsSeniorCitizen', 'HasPartner', 'HasChild', 'HasPhoneService', 'HasMultiplePhoneNumbers', 'HasInternetService', 'HasOnlineSecurityService', 'HasOnlineBackup', 'HasDeviceProtection', 'HasTechSupportAccess', 'HasOnlineTV', 'HasMovieSubscription', 'HasContractPhone', 'IsBillingPaperless', 'PaymentMethod'], 'loss_function': 'Logloss', 'use_best_model': True}. Best is trial 12 with value: 0.7692630891369348.\u001b[0m\n",
            "\u001b[32m[I 2022-10-28 00:50:39,456]\u001b[0m Trial 15 finished with value: 0.7685590367404554 and parameters: {'n_estimators': 3401, 'learning_rate': 0.1, 'max_depth': 10, 'l2_leaf_reg': 38.1051568114129, 'bootstrap_type': 'MVS', 'border_count': 128, 'grow_policy': 'Depthwise', 'auto_class_weights': 'Balanced', 'cat_features': ['Sex', 'IsSeniorCitizen', 'HasPartner', 'HasChild', 'HasPhoneService', 'HasMultiplePhoneNumbers', 'HasInternetService', 'HasOnlineSecurityService', 'HasOnlineBackup', 'HasDeviceProtection', 'HasTechSupportAccess', 'HasOnlineTV', 'HasMovieSubscription', 'HasContractPhone', 'IsBillingPaperless', 'PaymentMethod'], 'loss_function': 'Logloss', 'use_best_model': True}. Best is trial 12 with value: 0.7692630891369348.\u001b[0m\n",
            "\u001b[32m[I 2022-10-28 00:51:02,096]\u001b[0m Trial 16 finished with value: 0.7697785490181633 and parameters: {'n_estimators': 3401, 'learning_rate': 0.1, 'max_depth': 10, 'l2_leaf_reg': 18.29594845299909, 'bootstrap_type': 'MVS', 'border_count': 128, 'grow_policy': 'Depthwise', 'auto_class_weights': 'Balanced', 'cat_features': ['Sex', 'IsSeniorCitizen', 'HasPartner', 'HasChild', 'HasPhoneService', 'HasMultiplePhoneNumbers', 'HasInternetService', 'HasOnlineSecurityService', 'HasOnlineBackup', 'HasDeviceProtection', 'HasTechSupportAccess', 'HasOnlineTV', 'HasMovieSubscription', 'HasContractPhone', 'IsBillingPaperless', 'PaymentMethod'], 'loss_function': 'Logloss', 'use_best_model': True}. Best is trial 16 with value: 0.7697785490181633.\u001b[0m\n",
            "\u001b[32m[I 2022-10-28 00:51:21,743]\u001b[0m Trial 17 finished with value: 0.7053051923445499 and parameters: {'n_estimators': 3401, 'learning_rate': 0.1, 'max_depth': 9, 'l2_leaf_reg': 16.308639620315738, 'bootstrap_type': 'MVS', 'border_count': 128, 'grow_policy': 'Depthwise', 'auto_class_weights': 'None', 'cat_features': ['Sex', 'IsSeniorCitizen', 'HasPartner', 'HasChild', 'HasPhoneService', 'HasMultiplePhoneNumbers', 'HasInternetService', 'HasOnlineSecurityService', 'HasOnlineBackup', 'HasDeviceProtection', 'HasTechSupportAccess', 'HasOnlineTV', 'HasMovieSubscription', 'HasContractPhone', 'IsBillingPaperless', 'PaymentMethod'], 'loss_function': 'Logloss', 'use_best_model': True}. Best is trial 16 with value: 0.7697785490181633.\u001b[0m\n",
            "\u001b[32m[I 2022-10-28 00:51:51,852]\u001b[0m Trial 18 finished with value: 0.7685238678529229 and parameters: {'n_estimators': 3401, 'learning_rate': 0.1, 'max_depth': 10, 'l2_leaf_reg': 19.14260541855718, 'bootstrap_type': 'Bayesian', 'border_count': 128, 'grow_policy': 'Depthwise', 'auto_class_weights': 'Balanced', 'cat_features': ['Sex', 'IsSeniorCitizen', 'HasPartner', 'HasChild', 'HasPhoneService', 'HasMultiplePhoneNumbers', 'HasInternetService', 'HasOnlineSecurityService', 'HasOnlineBackup', 'HasDeviceProtection', 'HasTechSupportAccess', 'HasOnlineTV', 'HasMovieSubscription', 'HasContractPhone', 'IsBillingPaperless', 'PaymentMethod'], 'loss_function': 'Logloss', 'use_best_model': True, 'bagging_temperature': 0.5746638888314664}. Best is trial 16 with value: 0.7697785490181633.\u001b[0m\n",
            "\u001b[32m[I 2022-10-28 00:52:26,334]\u001b[0m Trial 19 finished with value: 0.7718880387188267 and parameters: {'n_estimators': 3401, 'learning_rate': 0.1, 'max_depth': 11, 'l2_leaf_reg': 42.26303923986326, 'bootstrap_type': 'MVS', 'border_count': 128, 'grow_policy': 'Depthwise', 'auto_class_weights': 'Balanced', 'cat_features': ['Sex', 'IsSeniorCitizen', 'HasPartner', 'HasChild', 'HasPhoneService', 'HasMultiplePhoneNumbers', 'HasInternetService', 'HasOnlineSecurityService', 'HasOnlineBackup', 'HasDeviceProtection', 'HasTechSupportAccess', 'HasOnlineTV', 'HasMovieSubscription', 'HasContractPhone', 'IsBillingPaperless', 'PaymentMethod'], 'loss_function': 'Logloss', 'use_best_model': True}. Best is trial 19 with value: 0.7718880387188267.\u001b[0m\n"
          ]
        }
      ]
    },
    {
      "cell_type": "markdown",
      "source": [
        "Обучимся на лучших параметрах"
      ],
      "metadata": {
        "id": "ez8xvJQmBGDj"
      }
    },
    {
      "cell_type": "code",
      "source": [
        "model = CatBoostClassifier(**study_cat.best_params)\n",
        "\n",
        "model.fit(X_train_,\n",
        "         y_train_,\n",
        "         eval_set=eval_set,\n",
        "         early_stopping_rounds=100,\n",
        "         verbose=0)"
      ],
      "metadata": {
        "colab": {
          "base_uri": "https://localhost:8080/"
        },
        "id": "XONHiAN59P4z",
        "outputId": "d18450b9-0abe-4646-9ae3-2db16506fdd4"
      },
      "execution_count": null,
      "outputs": [
        {
          "output_type": "execute_result",
          "data": {
            "text/plain": [
              "<catboost.core.CatBoostClassifier at 0x7f407cc7f690>"
            ]
          },
          "metadata": {},
          "execution_count": 269
        }
      ]
    },
    {
      "cell_type": "markdown",
      "source": [
        "Аналогично, посмотрим на результат"
      ],
      "metadata": {
        "id": "stToN8nFFWAM"
      }
    },
    {
      "cell_type": "code",
      "source": [
        "y_pred = model.predict(X_test)\n",
        "get_metrics(y_test, y_pred, name='Catboost')"
      ],
      "metadata": {
        "colab": {
          "base_uri": "https://localhost:8080/",
          "height": 81
        },
        "id": "c9FrBqjS9P6l",
        "outputId": "e6f81229-b81e-49d5-804f-99aa172c8ac6"
      },
      "execution_count": null,
      "outputs": [
        {
          "output_type": "execute_result",
          "data": {
            "text/plain": [
              "      model  Accuracy   ROC_AUC  Precision    Recall        f1  Logloss\n",
              "0  Catboost  0.740521  0.756316   0.498551  0.788991  0.611012  8.96224"
            ],
            "text/html": [
              "\n",
              "  <div id=\"df-191558d2-03c0-450c-be01-0f6170728a33\">\n",
              "    <div class=\"colab-df-container\">\n",
              "      <div>\n",
              "<style scoped>\n",
              "    .dataframe tbody tr th:only-of-type {\n",
              "        vertical-align: middle;\n",
              "    }\n",
              "\n",
              "    .dataframe tbody tr th {\n",
              "        vertical-align: top;\n",
              "    }\n",
              "\n",
              "    .dataframe thead th {\n",
              "        text-align: right;\n",
              "    }\n",
              "</style>\n",
              "<table border=\"1\" class=\"dataframe\">\n",
              "  <thead>\n",
              "    <tr style=\"text-align: right;\">\n",
              "      <th></th>\n",
              "      <th>model</th>\n",
              "      <th>Accuracy</th>\n",
              "      <th>ROC_AUC</th>\n",
              "      <th>Precision</th>\n",
              "      <th>Recall</th>\n",
              "      <th>f1</th>\n",
              "      <th>Logloss</th>\n",
              "    </tr>\n",
              "  </thead>\n",
              "  <tbody>\n",
              "    <tr>\n",
              "      <th>0</th>\n",
              "      <td>Catboost</td>\n",
              "      <td>0.740521</td>\n",
              "      <td>0.756316</td>\n",
              "      <td>0.498551</td>\n",
              "      <td>0.788991</td>\n",
              "      <td>0.611012</td>\n",
              "      <td>8.96224</td>\n",
              "    </tr>\n",
              "  </tbody>\n",
              "</table>\n",
              "</div>\n",
              "      <button class=\"colab-df-convert\" onclick=\"convertToInteractive('df-191558d2-03c0-450c-be01-0f6170728a33')\"\n",
              "              title=\"Convert this dataframe to an interactive table.\"\n",
              "              style=\"display:none;\">\n",
              "        \n",
              "  <svg xmlns=\"http://www.w3.org/2000/svg\" height=\"24px\"viewBox=\"0 0 24 24\"\n",
              "       width=\"24px\">\n",
              "    <path d=\"M0 0h24v24H0V0z\" fill=\"none\"/>\n",
              "    <path d=\"M18.56 5.44l.94 2.06.94-2.06 2.06-.94-2.06-.94-.94-2.06-.94 2.06-2.06.94zm-11 1L8.5 8.5l.94-2.06 2.06-.94-2.06-.94L8.5 2.5l-.94 2.06-2.06.94zm10 10l.94 2.06.94-2.06 2.06-.94-2.06-.94-.94-2.06-.94 2.06-2.06.94z\"/><path d=\"M17.41 7.96l-1.37-1.37c-.4-.4-.92-.59-1.43-.59-.52 0-1.04.2-1.43.59L10.3 9.45l-7.72 7.72c-.78.78-.78 2.05 0 2.83L4 21.41c.39.39.9.59 1.41.59.51 0 1.02-.2 1.41-.59l7.78-7.78 2.81-2.81c.8-.78.8-2.07 0-2.86zM5.41 20L4 18.59l7.72-7.72 1.47 1.35L5.41 20z\"/>\n",
              "  </svg>\n",
              "      </button>\n",
              "      \n",
              "  <style>\n",
              "    .colab-df-container {\n",
              "      display:flex;\n",
              "      flex-wrap:wrap;\n",
              "      gap: 12px;\n",
              "    }\n",
              "\n",
              "    .colab-df-convert {\n",
              "      background-color: #E8F0FE;\n",
              "      border: none;\n",
              "      border-radius: 50%;\n",
              "      cursor: pointer;\n",
              "      display: none;\n",
              "      fill: #1967D2;\n",
              "      height: 32px;\n",
              "      padding: 0 0 0 0;\n",
              "      width: 32px;\n",
              "    }\n",
              "\n",
              "    .colab-df-convert:hover {\n",
              "      background-color: #E2EBFA;\n",
              "      box-shadow: 0px 1px 2px rgba(60, 64, 67, 0.3), 0px 1px 3px 1px rgba(60, 64, 67, 0.15);\n",
              "      fill: #174EA6;\n",
              "    }\n",
              "\n",
              "    [theme=dark] .colab-df-convert {\n",
              "      background-color: #3B4455;\n",
              "      fill: #D2E3FC;\n",
              "    }\n",
              "\n",
              "    [theme=dark] .colab-df-convert:hover {\n",
              "      background-color: #434B5C;\n",
              "      box-shadow: 0px 1px 3px 1px rgba(0, 0, 0, 0.15);\n",
              "      filter: drop-shadow(0px 1px 2px rgba(0, 0, 0, 0.3));\n",
              "      fill: #FFFFFF;\n",
              "    }\n",
              "  </style>\n",
              "\n",
              "      <script>\n",
              "        const buttonEl =\n",
              "          document.querySelector('#df-191558d2-03c0-450c-be01-0f6170728a33 button.colab-df-convert');\n",
              "        buttonEl.style.display =\n",
              "          google.colab.kernel.accessAllowed ? 'block' : 'none';\n",
              "\n",
              "        async function convertToInteractive(key) {\n",
              "          const element = document.querySelector('#df-191558d2-03c0-450c-be01-0f6170728a33');\n",
              "          const dataTable =\n",
              "            await google.colab.kernel.invokeFunction('convertToInteractive',\n",
              "                                                     [key], {});\n",
              "          if (!dataTable) return;\n",
              "\n",
              "          const docLinkHtml = 'Like what you see? Visit the ' +\n",
              "            '<a target=\"_blank\" href=https://colab.research.google.com/notebooks/data_table.ipynb>data table notebook</a>'\n",
              "            + ' to learn more about interactive tables.';\n",
              "          element.innerHTML = '';\n",
              "          dataTable['output_type'] = 'display_data';\n",
              "          await google.colab.output.renderOutput(dataTable, element);\n",
              "          const docLink = document.createElement('div');\n",
              "          docLink.innerHTML = docLinkHtml;\n",
              "          element.appendChild(docLink);\n",
              "        }\n",
              "      </script>\n",
              "    </div>\n",
              "  </div>\n",
              "  "
            ]
          },
          "metadata": {},
          "execution_count": 271
        }
      ]
    },
    {
      "cell_type": "markdown",
      "source": [
        "Видим, что roc_auc довольно сильно улучшился"
      ],
      "metadata": {
        "id": "ljWxQgy_Flst"
      }
    },
    {
      "cell_type": "markdown",
      "metadata": {
        "id": "dDMXbvNZEEZV"
      },
      "source": [
        "# Предсказания"
      ]
    },
    {
      "cell_type": "code",
      "metadata": {
        "id": "G_P4wFNaEEZW"
      },
      "source": [
        "best_model = model"
      ],
      "execution_count": null,
      "outputs": []
    },
    {
      "cell_type": "code",
      "metadata": {
        "id": "FfSufx0CEEZZ"
      },
      "source": [
        "X_test = pd.read_csv('/content/drive/MyDrive/dls test.csv')\n",
        "submission = pd.read_csv('/content/drive/MyDrive/submission.csv')\n",
        "\n",
        "submission['Churn'] = best_model.predict(X_test)\n",
        "submission = submission.set_index('Id')\n",
        "submission.to_csv('./my_submission.csv')"
      ],
      "execution_count": null,
      "outputs": []
    },
    {
      "cell_type": "markdown",
      "metadata": {
        "id": "mkxjbGkVEEZc"
      },
      "source": [
        "# Kaggle (5 баллов)\n",
        "\n",
        "Как выставить баллы:\n",
        "\n",
        "1) 1 >= roc auc > 0.84 это 5 баллов\n",
        "\n",
        "2) 0.84 >= roc auc > 0.7 это 3 балла\n",
        "\n",
        "3) 0.7 >= roc auc > 0.6 это 1 балл\n",
        "\n",
        "4) 0.6 >= roc auc это 0 баллов\n",
        "\n",
        "\n",
        "Для выполнения задания необходимо выполнить следующие шаги.\n",
        "* Зарегистрироваться на платформе [kaggle.com](kaggle.com). Процесс выставления оценок будет проходить при подведении итогового рейтинга. Пожалуйста, укажите во вкладке Team -> Team name свои имя и фамилию в формате Имя_Фамилия (важно, чтобы имя и фамилия совпадали с данными на Stepik).\n",
        "* Обучить модель, получить файл с ответами в формате .csv и сдать его в конкурс. Пробуйте и экспериментируйте. Обратите внимание, что вы можете выполнять до 20 попыток сдачи на kaggle в день.\n",
        "* После окончания соревнования отправить в итоговый ноутбук с решением на степик. \n",
        "* После дедлайна проверьте посылки других участников по критериям. Для этого надо зайти на степик, скачать их ноутбук и проверить скор в соревновании."
      ]
    }
  ]
}